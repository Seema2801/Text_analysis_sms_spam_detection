{
 "cells": [
  {
   "cell_type": "markdown",
   "metadata": {},
   "source": [
    "# Objective\n"
   ]
  },
  {
   "cell_type": "markdown",
   "metadata": {},
   "source": [
    "The main objective of this prediction is to build model which predicts whether a sms is a spam or not spam"
   ]
  },
  {
   "cell_type": "markdown",
   "metadata": {},
   "source": [
    "# Importing necessary libraries"
   ]
  },
  {
   "cell_type": "code",
   "execution_count": 2,
   "metadata": {},
   "outputs": [],
   "source": [
    "import pandas as pd\n",
    "import numpy as np\n",
    "import matplotlib.pyplot as plt\n",
    "import nltk\n",
    "from nltk.tokenize import word_tokenize\n",
    "from nltk.corpus import stopwords\n",
    "from nltk.corpus import stopwords\n",
    "from nltk.stem import PorterStemmer\n",
    "from wordcloud import WordCloud\n",
    "\n",
    "import re\n",
    "import nltk\n",
    "from nltk.stem import WordNetLemmatizer\n",
    "from imblearn.over_sampling import SMOTE\n",
    "from sklearn.preprocessing import LabelEncoder\n",
    "from sklearn.model_selection import train_test_split\n",
    "from sklearn.feature_extraction.text import CountVectorizer,TfidfVectorizer\n",
    "from sklearn.metrics import accuracy_score,precision_score,classification_report,confusion_matrix\n",
    "from sklearn import preprocessing\n",
    "from sklearn.naive_bayes import GaussianNB\n",
    "from sklearn.linear_model import LogisticRegression\n",
    "from sklearn import neighbors\n",
    "from sklearn.model_selection import train_test_split,cross_val_score\n",
    "from sklearn.naive_bayes import MultinomialNB\n",
    "from sklearn.feature_extraction.text import TfidfTransformer\n",
    "from sklearn.ensemble import RandomForestClassifier"
   ]
  },
  {
   "cell_type": "markdown",
   "metadata": {},
   "source": [
    "# Read the data"
   ]
  },
  {
   "cell_type": "code",
   "execution_count": 3,
   "metadata": {},
   "outputs": [],
   "source": [
    "FILEPATH = '/home/seema/Downloads/spam.csv'"
   ]
  },
  {
   "cell_type": "code",
   "execution_count": 4,
   "metadata": {},
   "outputs": [],
   "source": [
    "sms=pd.read_csv(FILEPATH, encoding ='ISO-8859-1')"
   ]
  },
  {
   "cell_type": "code",
   "execution_count": 5,
   "metadata": {},
   "outputs": [
    {
     "data": {
      "text/html": [
       "<div>\n",
       "<style scoped>\n",
       "    .dataframe tbody tr th:only-of-type {\n",
       "        vertical-align: middle;\n",
       "    }\n",
       "\n",
       "    .dataframe tbody tr th {\n",
       "        vertical-align: top;\n",
       "    }\n",
       "\n",
       "    .dataframe thead th {\n",
       "        text-align: right;\n",
       "    }\n",
       "</style>\n",
       "<table border=\"1\" class=\"dataframe\">\n",
       "  <thead>\n",
       "    <tr style=\"text-align: right;\">\n",
       "      <th></th>\n",
       "      <th>v1</th>\n",
       "      <th>v2</th>\n",
       "      <th>Unnamed: 2</th>\n",
       "      <th>Unnamed: 3</th>\n",
       "      <th>Unnamed: 4</th>\n",
       "      <th>Unnamed: 5</th>\n",
       "      <th>Unnamed: 6</th>\n",
       "      <th>Unnamed: 7</th>\n",
       "      <th>Unnamed: 8</th>\n",
       "      <th>Unnamed: 9</th>\n",
       "      <th>...</th>\n",
       "      <th>Unnamed: 28</th>\n",
       "      <th>Unnamed: 29</th>\n",
       "      <th>Unnamed: 30</th>\n",
       "      <th>Unnamed: 31</th>\n",
       "      <th>Unnamed: 32</th>\n",
       "      <th>Unnamed: 33</th>\n",
       "      <th>Unnamed: 34</th>\n",
       "      <th>Unnamed: 35</th>\n",
       "      <th>Unnamed: 36</th>\n",
       "      <th>Unnamed: 37</th>\n",
       "    </tr>\n",
       "  </thead>\n",
       "  <tbody>\n",
       "    <tr>\n",
       "      <th>0</th>\n",
       "      <td>ham</td>\n",
       "      <td>Go until jurong point, crazy.. Available only ...</td>\n",
       "      <td>NaN</td>\n",
       "      <td>NaN</td>\n",
       "      <td>NaN</td>\n",
       "      <td>NaN</td>\n",
       "      <td>NaN</td>\n",
       "      <td>NaN</td>\n",
       "      <td>NaN</td>\n",
       "      <td>NaN</td>\n",
       "      <td>...</td>\n",
       "      <td>NaN</td>\n",
       "      <td>NaN</td>\n",
       "      <td>NaN</td>\n",
       "      <td>NaN</td>\n",
       "      <td>NaN</td>\n",
       "      <td>NaN</td>\n",
       "      <td>NaN</td>\n",
       "      <td>NaN</td>\n",
       "      <td>NaN</td>\n",
       "      <td>NaN</td>\n",
       "    </tr>\n",
       "    <tr>\n",
       "      <th>1</th>\n",
       "      <td>ham</td>\n",
       "      <td>Ok lar... Joking wif u oni...</td>\n",
       "      <td>NaN</td>\n",
       "      <td>NaN</td>\n",
       "      <td>NaN</td>\n",
       "      <td>NaN</td>\n",
       "      <td>NaN</td>\n",
       "      <td>NaN</td>\n",
       "      <td>NaN</td>\n",
       "      <td>NaN</td>\n",
       "      <td>...</td>\n",
       "      <td>NaN</td>\n",
       "      <td>NaN</td>\n",
       "      <td>NaN</td>\n",
       "      <td>NaN</td>\n",
       "      <td>NaN</td>\n",
       "      <td>NaN</td>\n",
       "      <td>NaN</td>\n",
       "      <td>NaN</td>\n",
       "      <td>NaN</td>\n",
       "      <td>NaN</td>\n",
       "    </tr>\n",
       "    <tr>\n",
       "      <th>2</th>\n",
       "      <td>spam</td>\n",
       "      <td>Free entry in 2 a wkly comp to win FA Cup fina...</td>\n",
       "      <td>NaN</td>\n",
       "      <td>NaN</td>\n",
       "      <td>NaN</td>\n",
       "      <td>NaN</td>\n",
       "      <td>NaN</td>\n",
       "      <td>NaN</td>\n",
       "      <td>NaN</td>\n",
       "      <td>NaN</td>\n",
       "      <td>...</td>\n",
       "      <td>NaN</td>\n",
       "      <td>NaN</td>\n",
       "      <td>NaN</td>\n",
       "      <td>NaN</td>\n",
       "      <td>NaN</td>\n",
       "      <td>NaN</td>\n",
       "      <td>NaN</td>\n",
       "      <td>NaN</td>\n",
       "      <td>NaN</td>\n",
       "      <td>NaN</td>\n",
       "    </tr>\n",
       "    <tr>\n",
       "      <th>3</th>\n",
       "      <td>ham</td>\n",
       "      <td>U dun say so early hor... U c already then say...</td>\n",
       "      <td>NaN</td>\n",
       "      <td>NaN</td>\n",
       "      <td>NaN</td>\n",
       "      <td>NaN</td>\n",
       "      <td>NaN</td>\n",
       "      <td>NaN</td>\n",
       "      <td>NaN</td>\n",
       "      <td>NaN</td>\n",
       "      <td>...</td>\n",
       "      <td>NaN</td>\n",
       "      <td>NaN</td>\n",
       "      <td>NaN</td>\n",
       "      <td>NaN</td>\n",
       "      <td>NaN</td>\n",
       "      <td>NaN</td>\n",
       "      <td>NaN</td>\n",
       "      <td>NaN</td>\n",
       "      <td>NaN</td>\n",
       "      <td>NaN</td>\n",
       "    </tr>\n",
       "    <tr>\n",
       "      <th>4</th>\n",
       "      <td>ham</td>\n",
       "      <td>Nah I don't think he goes to usf, he lives aro...</td>\n",
       "      <td>NaN</td>\n",
       "      <td>NaN</td>\n",
       "      <td>NaN</td>\n",
       "      <td>NaN</td>\n",
       "      <td>NaN</td>\n",
       "      <td>NaN</td>\n",
       "      <td>NaN</td>\n",
       "      <td>NaN</td>\n",
       "      <td>...</td>\n",
       "      <td>NaN</td>\n",
       "      <td>NaN</td>\n",
       "      <td>NaN</td>\n",
       "      <td>NaN</td>\n",
       "      <td>NaN</td>\n",
       "      <td>NaN</td>\n",
       "      <td>NaN</td>\n",
       "      <td>NaN</td>\n",
       "      <td>NaN</td>\n",
       "      <td>NaN</td>\n",
       "    </tr>\n",
       "  </tbody>\n",
       "</table>\n",
       "<p>5 rows × 38 columns</p>\n",
       "</div>"
      ],
      "text/plain": [
       "     v1                                                 v2 Unnamed: 2  \\\n",
       "0   ham  Go until jurong point, crazy.. Available only ...        NaN   \n",
       "1   ham                      Ok lar... Joking wif u oni...        NaN   \n",
       "2  spam  Free entry in 2 a wkly comp to win FA Cup fina...        NaN   \n",
       "3   ham  U dun say so early hor... U c already then say...        NaN   \n",
       "4   ham  Nah I don't think he goes to usf, he lives aro...        NaN   \n",
       "\n",
       "  Unnamed: 3 Unnamed: 4 Unnamed: 5 Unnamed: 6 Unnamed: 7 Unnamed: 8  \\\n",
       "0        NaN        NaN        NaN        NaN        NaN        NaN   \n",
       "1        NaN        NaN        NaN        NaN        NaN        NaN   \n",
       "2        NaN        NaN        NaN        NaN        NaN        NaN   \n",
       "3        NaN        NaN        NaN        NaN        NaN        NaN   \n",
       "4        NaN        NaN        NaN        NaN        NaN        NaN   \n",
       "\n",
       "  Unnamed: 9  ... Unnamed: 28 Unnamed: 29 Unnamed: 30 Unnamed: 31 Unnamed: 32  \\\n",
       "0        NaN  ...         NaN         NaN         NaN         NaN         NaN   \n",
       "1        NaN  ...         NaN         NaN         NaN         NaN         NaN   \n",
       "2        NaN  ...         NaN         NaN         NaN         NaN         NaN   \n",
       "3        NaN  ...         NaN         NaN         NaN         NaN         NaN   \n",
       "4        NaN  ...         NaN         NaN         NaN         NaN         NaN   \n",
       "\n",
       "  Unnamed: 33 Unnamed: 34 Unnamed: 35 Unnamed: 36 Unnamed: 37  \n",
       "0         NaN         NaN         NaN         NaN         NaN  \n",
       "1         NaN         NaN         NaN         NaN         NaN  \n",
       "2         NaN         NaN         NaN         NaN         NaN  \n",
       "3         NaN         NaN         NaN         NaN         NaN  \n",
       "4         NaN         NaN         NaN         NaN         NaN  \n",
       "\n",
       "[5 rows x 38 columns]"
      ]
     },
     "execution_count": 5,
     "metadata": {},
     "output_type": "execute_result"
    }
   ],
   "source": [
    "sms.head()"
   ]
  },
  {
   "cell_type": "code",
   "execution_count": 6,
   "metadata": {},
   "outputs": [
    {
     "data": {
      "text/html": [
       "<div>\n",
       "<style scoped>\n",
       "    .dataframe tbody tr th:only-of-type {\n",
       "        vertical-align: middle;\n",
       "    }\n",
       "\n",
       "    .dataframe tbody tr th {\n",
       "        vertical-align: top;\n",
       "    }\n",
       "\n",
       "    .dataframe thead th {\n",
       "        text-align: right;\n",
       "    }\n",
       "</style>\n",
       "<table border=\"1\" class=\"dataframe\">\n",
       "  <thead>\n",
       "    <tr style=\"text-align: right;\">\n",
       "      <th></th>\n",
       "      <th>v1</th>\n",
       "      <th>v2</th>\n",
       "      <th>Unnamed: 2</th>\n",
       "      <th>Unnamed: 3</th>\n",
       "      <th>Unnamed: 4</th>\n",
       "      <th>Unnamed: 5</th>\n",
       "      <th>Unnamed: 6</th>\n",
       "      <th>Unnamed: 7</th>\n",
       "      <th>Unnamed: 8</th>\n",
       "      <th>Unnamed: 9</th>\n",
       "      <th>...</th>\n",
       "      <th>Unnamed: 28</th>\n",
       "      <th>Unnamed: 29</th>\n",
       "      <th>Unnamed: 30</th>\n",
       "      <th>Unnamed: 31</th>\n",
       "      <th>Unnamed: 32</th>\n",
       "      <th>Unnamed: 33</th>\n",
       "      <th>Unnamed: 34</th>\n",
       "      <th>Unnamed: 35</th>\n",
       "      <th>Unnamed: 36</th>\n",
       "      <th>Unnamed: 37</th>\n",
       "    </tr>\n",
       "  </thead>\n",
       "  <tbody>\n",
       "    <tr>\n",
       "      <th>5567</th>\n",
       "      <td>spam</td>\n",
       "      <td>This is the 2nd time we have tried 2 contact u...</td>\n",
       "      <td>NaN</td>\n",
       "      <td>NaN</td>\n",
       "      <td>NaN</td>\n",
       "      <td>NaN</td>\n",
       "      <td>NaN</td>\n",
       "      <td>NaN</td>\n",
       "      <td>NaN</td>\n",
       "      <td>NaN</td>\n",
       "      <td>...</td>\n",
       "      <td>NaN</td>\n",
       "      <td>NaN</td>\n",
       "      <td>NaN</td>\n",
       "      <td>NaN</td>\n",
       "      <td>NaN</td>\n",
       "      <td>NaN</td>\n",
       "      <td>NaN</td>\n",
       "      <td>NaN</td>\n",
       "      <td>NaN</td>\n",
       "      <td>NaN</td>\n",
       "    </tr>\n",
       "    <tr>\n",
       "      <th>5568</th>\n",
       "      <td>ham</td>\n",
       "      <td>Will Ì_ b going to esplanade fr home?</td>\n",
       "      <td>NaN</td>\n",
       "      <td>NaN</td>\n",
       "      <td>NaN</td>\n",
       "      <td>NaN</td>\n",
       "      <td>NaN</td>\n",
       "      <td>NaN</td>\n",
       "      <td>NaN</td>\n",
       "      <td>NaN</td>\n",
       "      <td>...</td>\n",
       "      <td>NaN</td>\n",
       "      <td>NaN</td>\n",
       "      <td>NaN</td>\n",
       "      <td>NaN</td>\n",
       "      <td>NaN</td>\n",
       "      <td>NaN</td>\n",
       "      <td>NaN</td>\n",
       "      <td>NaN</td>\n",
       "      <td>NaN</td>\n",
       "      <td>NaN</td>\n",
       "    </tr>\n",
       "    <tr>\n",
       "      <th>5569</th>\n",
       "      <td>ham</td>\n",
       "      <td>Pity, * was in mood for that. So...any other s...</td>\n",
       "      <td>NaN</td>\n",
       "      <td>NaN</td>\n",
       "      <td>NaN</td>\n",
       "      <td>NaN</td>\n",
       "      <td>NaN</td>\n",
       "      <td>NaN</td>\n",
       "      <td>NaN</td>\n",
       "      <td>NaN</td>\n",
       "      <td>...</td>\n",
       "      <td>NaN</td>\n",
       "      <td>NaN</td>\n",
       "      <td>NaN</td>\n",
       "      <td>NaN</td>\n",
       "      <td>NaN</td>\n",
       "      <td>NaN</td>\n",
       "      <td>NaN</td>\n",
       "      <td>NaN</td>\n",
       "      <td>NaN</td>\n",
       "      <td>NaN</td>\n",
       "    </tr>\n",
       "    <tr>\n",
       "      <th>5570</th>\n",
       "      <td>ham</td>\n",
       "      <td>The guy did some bitching but I acted like i'd...</td>\n",
       "      <td>NaN</td>\n",
       "      <td>NaN</td>\n",
       "      <td>NaN</td>\n",
       "      <td>NaN</td>\n",
       "      <td>NaN</td>\n",
       "      <td>NaN</td>\n",
       "      <td>NaN</td>\n",
       "      <td>NaN</td>\n",
       "      <td>...</td>\n",
       "      <td>NaN</td>\n",
       "      <td>NaN</td>\n",
       "      <td>NaN</td>\n",
       "      <td>NaN</td>\n",
       "      <td>NaN</td>\n",
       "      <td>NaN</td>\n",
       "      <td>NaN</td>\n",
       "      <td>NaN</td>\n",
       "      <td>NaN</td>\n",
       "      <td>NaN</td>\n",
       "    </tr>\n",
       "    <tr>\n",
       "      <th>5571</th>\n",
       "      <td>ham</td>\n",
       "      <td>Rofl. Its true to its name</td>\n",
       "      <td>NaN</td>\n",
       "      <td>NaN</td>\n",
       "      <td>NaN</td>\n",
       "      <td>NaN</td>\n",
       "      <td>NaN</td>\n",
       "      <td>NaN</td>\n",
       "      <td>NaN</td>\n",
       "      <td>NaN</td>\n",
       "      <td>...</td>\n",
       "      <td>NaN</td>\n",
       "      <td>NaN</td>\n",
       "      <td>NaN</td>\n",
       "      <td>NaN</td>\n",
       "      <td>NaN</td>\n",
       "      <td>NaN</td>\n",
       "      <td>NaN</td>\n",
       "      <td>NaN</td>\n",
       "      <td>NaN</td>\n",
       "      <td>NaN</td>\n",
       "    </tr>\n",
       "  </tbody>\n",
       "</table>\n",
       "<p>5 rows × 38 columns</p>\n",
       "</div>"
      ],
      "text/plain": [
       "        v1                                                 v2 Unnamed: 2  \\\n",
       "5567  spam  This is the 2nd time we have tried 2 contact u...        NaN   \n",
       "5568   ham              Will Ì_ b going to esplanade fr home?        NaN   \n",
       "5569   ham  Pity, * was in mood for that. So...any other s...        NaN   \n",
       "5570   ham  The guy did some bitching but I acted like i'd...        NaN   \n",
       "5571   ham                         Rofl. Its true to its name        NaN   \n",
       "\n",
       "     Unnamed: 3 Unnamed: 4 Unnamed: 5 Unnamed: 6 Unnamed: 7 Unnamed: 8  \\\n",
       "5567        NaN        NaN        NaN        NaN        NaN        NaN   \n",
       "5568        NaN        NaN        NaN        NaN        NaN        NaN   \n",
       "5569        NaN        NaN        NaN        NaN        NaN        NaN   \n",
       "5570        NaN        NaN        NaN        NaN        NaN        NaN   \n",
       "5571        NaN        NaN        NaN        NaN        NaN        NaN   \n",
       "\n",
       "     Unnamed: 9  ... Unnamed: 28 Unnamed: 29 Unnamed: 30 Unnamed: 31  \\\n",
       "5567        NaN  ...         NaN         NaN         NaN         NaN   \n",
       "5568        NaN  ...         NaN         NaN         NaN         NaN   \n",
       "5569        NaN  ...         NaN         NaN         NaN         NaN   \n",
       "5570        NaN  ...         NaN         NaN         NaN         NaN   \n",
       "5571        NaN  ...         NaN         NaN         NaN         NaN   \n",
       "\n",
       "     Unnamed: 32 Unnamed: 33 Unnamed: 34 Unnamed: 35 Unnamed: 36 Unnamed: 37  \n",
       "5567         NaN         NaN         NaN         NaN         NaN         NaN  \n",
       "5568         NaN         NaN         NaN         NaN         NaN         NaN  \n",
       "5569         NaN         NaN         NaN         NaN         NaN         NaN  \n",
       "5570         NaN         NaN         NaN         NaN         NaN         NaN  \n",
       "5571         NaN         NaN         NaN         NaN         NaN         NaN  \n",
       "\n",
       "[5 rows x 38 columns]"
      ]
     },
     "execution_count": 6,
     "metadata": {},
     "output_type": "execute_result"
    }
   ],
   "source": [
    "sms.tail()"
   ]
  },
  {
   "cell_type": "code",
   "execution_count": 7,
   "metadata": {},
   "outputs": [
    {
     "name": "stdout",
     "output_type": "stream",
     "text": [
      "<class 'pandas.core.frame.DataFrame'>\n",
      "RangeIndex: 5572 entries, 0 to 5571\n",
      "Data columns (total 38 columns):\n",
      " #   Column       Non-Null Count  Dtype \n",
      "---  ------       --------------  ----- \n",
      " 0   v1           5572 non-null   object\n",
      " 1   v2           5571 non-null   object\n",
      " 2   Unnamed: 2   255 non-null    object\n",
      " 3   Unnamed: 3   167 non-null    object\n",
      " 4   Unnamed: 4   32 non-null     object\n",
      " 5   Unnamed: 5   23 non-null     object\n",
      " 6   Unnamed: 6   10 non-null     object\n",
      " 7   Unnamed: 7   10 non-null     object\n",
      " 8   Unnamed: 8   5 non-null      object\n",
      " 9   Unnamed: 9   4 non-null      object\n",
      " 10  Unnamed: 10  4 non-null      object\n",
      " 11  Unnamed: 11  1 non-null      object\n",
      " 12  Unnamed: 12  1 non-null      object\n",
      " 13  Unnamed: 13  1 non-null      object\n",
      " 14  Unnamed: 14  1 non-null      object\n",
      " 15  Unnamed: 15  1 non-null      object\n",
      " 16  Unnamed: 16  1 non-null      object\n",
      " 17  Unnamed: 17  1 non-null      object\n",
      " 18  Unnamed: 18  1 non-null      object\n",
      " 19  Unnamed: 19  1 non-null      object\n",
      " 20  Unnamed: 20  1 non-null      object\n",
      " 21  Unnamed: 21  1 non-null      object\n",
      " 22  Unnamed: 22  1 non-null      object\n",
      " 23  Unnamed: 23  1 non-null      object\n",
      " 24  Unnamed: 24  1 non-null      object\n",
      " 25  Unnamed: 25  1 non-null      object\n",
      " 26  Unnamed: 26  1 non-null      object\n",
      " 27  Unnamed: 27  1 non-null      object\n",
      " 28  Unnamed: 28  1 non-null      object\n",
      " 29  Unnamed: 29  1 non-null      object\n",
      " 30  Unnamed: 30  1 non-null      object\n",
      " 31  Unnamed: 31  1 non-null      object\n",
      " 32  Unnamed: 32  1 non-null      object\n",
      " 33  Unnamed: 33  1 non-null      object\n",
      " 34  Unnamed: 34  1 non-null      object\n",
      " 35  Unnamed: 35  1 non-null      object\n",
      " 36  Unnamed: 36  1 non-null      object\n",
      " 37  Unnamed: 37  1 non-null      object\n",
      "dtypes: object(38)\n",
      "memory usage: 1.6+ MB\n"
     ]
    }
   ],
   "source": [
    "sms.info()"
   ]
  },
  {
   "cell_type": "markdown",
   "metadata": {},
   "source": [
    "# EDA"
   ]
  },
  {
   "cell_type": "code",
   "execution_count": 8,
   "metadata": {},
   "outputs": [
    {
     "data": {
      "text/plain": [
       "v1                0\n",
       "v2                1\n",
       "Unnamed: 2     5317\n",
       "Unnamed: 3     5405\n",
       "Unnamed: 4     5540\n",
       "Unnamed: 5     5549\n",
       "Unnamed: 6     5562\n",
       "Unnamed: 7     5562\n",
       "Unnamed: 8     5567\n",
       "Unnamed: 9     5568\n",
       "Unnamed: 10    5568\n",
       "Unnamed: 11    5571\n",
       "Unnamed: 12    5571\n",
       "Unnamed: 13    5571\n",
       "Unnamed: 14    5571\n",
       "Unnamed: 15    5571\n",
       "Unnamed: 16    5571\n",
       "Unnamed: 17    5571\n",
       "Unnamed: 18    5571\n",
       "Unnamed: 19    5571\n",
       "Unnamed: 20    5571\n",
       "Unnamed: 21    5571\n",
       "Unnamed: 22    5571\n",
       "Unnamed: 23    5571\n",
       "Unnamed: 24    5571\n",
       "Unnamed: 25    5571\n",
       "Unnamed: 26    5571\n",
       "Unnamed: 27    5571\n",
       "Unnamed: 28    5571\n",
       "Unnamed: 29    5571\n",
       "Unnamed: 30    5571\n",
       "Unnamed: 31    5571\n",
       "Unnamed: 32    5571\n",
       "Unnamed: 33    5571\n",
       "Unnamed: 34    5571\n",
       "Unnamed: 35    5571\n",
       "Unnamed: 36    5571\n",
       "Unnamed: 37    5571\n",
       "dtype: int64"
      ]
     },
     "execution_count": 8,
     "metadata": {},
     "output_type": "execute_result"
    }
   ],
   "source": [
    "# check nulls \n",
    "sms.isnull().sum()"
   ]
  },
  {
   "cell_type": "markdown",
   "metadata": {},
   "source": [
    "After checking nulls we can see that only 2 variable are relevant and others are irrelevant"
   ]
  },
  {
   "cell_type": "code",
   "execution_count": 9,
   "metadata": {},
   "outputs": [],
   "source": [
    "sms=sms[['v1','v2']]"
   ]
  },
  {
   "cell_type": "code",
   "execution_count": 10,
   "metadata": {},
   "outputs": [
    {
     "data": {
      "text/html": [
       "<div>\n",
       "<style scoped>\n",
       "    .dataframe tbody tr th:only-of-type {\n",
       "        vertical-align: middle;\n",
       "    }\n",
       "\n",
       "    .dataframe tbody tr th {\n",
       "        vertical-align: top;\n",
       "    }\n",
       "\n",
       "    .dataframe thead th {\n",
       "        text-align: right;\n",
       "    }\n",
       "</style>\n",
       "<table border=\"1\" class=\"dataframe\">\n",
       "  <thead>\n",
       "    <tr style=\"text-align: right;\">\n",
       "      <th></th>\n",
       "      <th>v1</th>\n",
       "      <th>v2</th>\n",
       "    </tr>\n",
       "  </thead>\n",
       "  <tbody>\n",
       "    <tr>\n",
       "      <th>0</th>\n",
       "      <td>ham</td>\n",
       "      <td>Go until jurong point, crazy.. Available only ...</td>\n",
       "    </tr>\n",
       "    <tr>\n",
       "      <th>1</th>\n",
       "      <td>ham</td>\n",
       "      <td>Ok lar... Joking wif u oni...</td>\n",
       "    </tr>\n",
       "    <tr>\n",
       "      <th>2</th>\n",
       "      <td>spam</td>\n",
       "      <td>Free entry in 2 a wkly comp to win FA Cup fina...</td>\n",
       "    </tr>\n",
       "    <tr>\n",
       "      <th>3</th>\n",
       "      <td>ham</td>\n",
       "      <td>U dun say so early hor... U c already then say...</td>\n",
       "    </tr>\n",
       "    <tr>\n",
       "      <th>4</th>\n",
       "      <td>ham</td>\n",
       "      <td>Nah I don't think he goes to usf, he lives aro...</td>\n",
       "    </tr>\n",
       "  </tbody>\n",
       "</table>\n",
       "</div>"
      ],
      "text/plain": [
       "     v1                                                 v2\n",
       "0   ham  Go until jurong point, crazy.. Available only ...\n",
       "1   ham                      Ok lar... Joking wif u oni...\n",
       "2  spam  Free entry in 2 a wkly comp to win FA Cup fina...\n",
       "3   ham  U dun say so early hor... U c already then say...\n",
       "4   ham  Nah I don't think he goes to usf, he lives aro..."
      ]
     },
     "execution_count": 10,
     "metadata": {},
     "output_type": "execute_result"
    }
   ],
   "source": [
    "sms.head()"
   ]
  },
  {
   "cell_type": "code",
   "execution_count": 11,
   "metadata": {},
   "outputs": [],
   "source": [
    "#In relevent variable only one null is there ,so we dropp that null\n",
    "sms=sms.dropna(axis=0)"
   ]
  },
  {
   "cell_type": "code",
   "execution_count": 12,
   "metadata": {},
   "outputs": [
    {
     "data": {
      "text/plain": [
       "v1    0\n",
       "v2    0\n",
       "dtype: int64"
      ]
     },
     "execution_count": 12,
     "metadata": {},
     "output_type": "execute_result"
    }
   ],
   "source": [
    "sms.isnull().sum()"
   ]
  },
  {
   "cell_type": "code",
   "execution_count": 13,
   "metadata": {},
   "outputs": [],
   "source": [
    "#renameing the columns name\n",
    "sms.rename(columns={'v1':'label','v2':'text'},inplace = True)"
   ]
  },
  {
   "cell_type": "code",
   "execution_count": 14,
   "metadata": {},
   "outputs": [
    {
     "data": {
      "text/html": [
       "<div>\n",
       "<style scoped>\n",
       "    .dataframe tbody tr th:only-of-type {\n",
       "        vertical-align: middle;\n",
       "    }\n",
       "\n",
       "    .dataframe tbody tr th {\n",
       "        vertical-align: top;\n",
       "    }\n",
       "\n",
       "    .dataframe thead th {\n",
       "        text-align: right;\n",
       "    }\n",
       "</style>\n",
       "<table border=\"1\" class=\"dataframe\">\n",
       "  <thead>\n",
       "    <tr style=\"text-align: right;\">\n",
       "      <th></th>\n",
       "      <th>label</th>\n",
       "      <th>text</th>\n",
       "    </tr>\n",
       "  </thead>\n",
       "  <tbody>\n",
       "    <tr>\n",
       "      <th>0</th>\n",
       "      <td>ham</td>\n",
       "      <td>Go until jurong point, crazy.. Available only ...</td>\n",
       "    </tr>\n",
       "    <tr>\n",
       "      <th>1</th>\n",
       "      <td>ham</td>\n",
       "      <td>Ok lar... Joking wif u oni...</td>\n",
       "    </tr>\n",
       "    <tr>\n",
       "      <th>2</th>\n",
       "      <td>spam</td>\n",
       "      <td>Free entry in 2 a wkly comp to win FA Cup fina...</td>\n",
       "    </tr>\n",
       "    <tr>\n",
       "      <th>3</th>\n",
       "      <td>ham</td>\n",
       "      <td>U dun say so early hor... U c already then say...</td>\n",
       "    </tr>\n",
       "    <tr>\n",
       "      <th>4</th>\n",
       "      <td>ham</td>\n",
       "      <td>Nah I don't think he goes to usf, he lives aro...</td>\n",
       "    </tr>\n",
       "  </tbody>\n",
       "</table>\n",
       "</div>"
      ],
      "text/plain": [
       "  label                                               text\n",
       "0   ham  Go until jurong point, crazy.. Available only ...\n",
       "1   ham                      Ok lar... Joking wif u oni...\n",
       "2  spam  Free entry in 2 a wkly comp to win FA Cup fina...\n",
       "3   ham  U dun say so early hor... U c already then say...\n",
       "4   ham  Nah I don't think he goes to usf, he lives aro..."
      ]
     },
     "execution_count": 14,
     "metadata": {},
     "output_type": "execute_result"
    }
   ],
   "source": [
    "sms.head()"
   ]
  },
  {
   "cell_type": "code",
   "execution_count": 15,
   "metadata": {},
   "outputs": [],
   "source": [
    "sms['length']=sms['text'].apply(len)\n"
   ]
  },
  {
   "cell_type": "code",
   "execution_count": 16,
   "metadata": {},
   "outputs": [],
   "source": [
    "#counting the number of words\n",
    "sms['num_words'] = sms['text'].apply(lambda x:len(nltk.word_tokenize(x)))"
   ]
  },
  {
   "cell_type": "code",
   "execution_count": 17,
   "metadata": {},
   "outputs": [],
   "source": [
    "#counting the number of sentence \n",
    "sms['num_sent'] = sms['text'].apply(lambda x:len(nltk.sent_tokenize(x)))"
   ]
  },
  {
   "cell_type": "code",
   "execution_count": 18,
   "metadata": {},
   "outputs": [
    {
     "data": {
      "text/html": [
       "<div>\n",
       "<style scoped>\n",
       "    .dataframe tbody tr th:only-of-type {\n",
       "        vertical-align: middle;\n",
       "    }\n",
       "\n",
       "    .dataframe tbody tr th {\n",
       "        vertical-align: top;\n",
       "    }\n",
       "\n",
       "    .dataframe thead th {\n",
       "        text-align: right;\n",
       "    }\n",
       "</style>\n",
       "<table border=\"1\" class=\"dataframe\">\n",
       "  <thead>\n",
       "    <tr style=\"text-align: right;\">\n",
       "      <th></th>\n",
       "      <th>label</th>\n",
       "      <th>text</th>\n",
       "      <th>length</th>\n",
       "      <th>num_words</th>\n",
       "      <th>num_sent</th>\n",
       "    </tr>\n",
       "  </thead>\n",
       "  <tbody>\n",
       "    <tr>\n",
       "      <th>0</th>\n",
       "      <td>ham</td>\n",
       "      <td>Go until jurong point, crazy.. Available only ...</td>\n",
       "      <td>111</td>\n",
       "      <td>23</td>\n",
       "      <td>2</td>\n",
       "    </tr>\n",
       "    <tr>\n",
       "      <th>1</th>\n",
       "      <td>ham</td>\n",
       "      <td>Ok lar... Joking wif u oni...</td>\n",
       "      <td>29</td>\n",
       "      <td>8</td>\n",
       "      <td>2</td>\n",
       "    </tr>\n",
       "    <tr>\n",
       "      <th>2</th>\n",
       "      <td>spam</td>\n",
       "      <td>Free entry in 2 a wkly comp to win FA Cup fina...</td>\n",
       "      <td>155</td>\n",
       "      <td>37</td>\n",
       "      <td>2</td>\n",
       "    </tr>\n",
       "    <tr>\n",
       "      <th>3</th>\n",
       "      <td>ham</td>\n",
       "      <td>U dun say so early hor... U c already then say...</td>\n",
       "      <td>49</td>\n",
       "      <td>13</td>\n",
       "      <td>1</td>\n",
       "    </tr>\n",
       "    <tr>\n",
       "      <th>4</th>\n",
       "      <td>ham</td>\n",
       "      <td>Nah I don't think he goes to usf, he lives aro...</td>\n",
       "      <td>61</td>\n",
       "      <td>15</td>\n",
       "      <td>1</td>\n",
       "    </tr>\n",
       "  </tbody>\n",
       "</table>\n",
       "</div>"
      ],
      "text/plain": [
       "  label                                               text  length  num_words  \\\n",
       "0   ham  Go until jurong point, crazy.. Available only ...     111         23   \n",
       "1   ham                      Ok lar... Joking wif u oni...      29          8   \n",
       "2  spam  Free entry in 2 a wkly comp to win FA Cup fina...     155         37   \n",
       "3   ham  U dun say so early hor... U c already then say...      49         13   \n",
       "4   ham  Nah I don't think he goes to usf, he lives aro...      61         15   \n",
       "\n",
       "   num_sent  \n",
       "0         2  \n",
       "1         2  \n",
       "2         2  \n",
       "3         1  \n",
       "4         1  "
      ]
     },
     "execution_count": 18,
     "metadata": {},
     "output_type": "execute_result"
    }
   ],
   "source": [
    "sms.head()"
   ]
  },
  {
   "cell_type": "code",
   "execution_count": 19,
   "metadata": {},
   "outputs": [
    {
     "data": {
      "text/html": [
       "<div>\n",
       "<style scoped>\n",
       "    .dataframe tbody tr th:only-of-type {\n",
       "        vertical-align: middle;\n",
       "    }\n",
       "\n",
       "    .dataframe tbody tr th {\n",
       "        vertical-align: top;\n",
       "    }\n",
       "\n",
       "    .dataframe thead th {\n",
       "        text-align: right;\n",
       "    }\n",
       "</style>\n",
       "<table border=\"1\" class=\"dataframe\">\n",
       "  <thead>\n",
       "    <tr style=\"text-align: right;\">\n",
       "      <th></th>\n",
       "      <th>label</th>\n",
       "      <th>text</th>\n",
       "      <th>length</th>\n",
       "      <th>num_words</th>\n",
       "      <th>num_sent</th>\n",
       "    </tr>\n",
       "  </thead>\n",
       "  <tbody>\n",
       "    <tr>\n",
       "      <th>5567</th>\n",
       "      <td>spam</td>\n",
       "      <td>This is the 2nd time we have tried 2 contact u...</td>\n",
       "      <td>161</td>\n",
       "      <td>35</td>\n",
       "      <td>4</td>\n",
       "    </tr>\n",
       "    <tr>\n",
       "      <th>5568</th>\n",
       "      <td>ham</td>\n",
       "      <td>Will Ì_ b going to esplanade fr home?</td>\n",
       "      <td>37</td>\n",
       "      <td>9</td>\n",
       "      <td>1</td>\n",
       "    </tr>\n",
       "    <tr>\n",
       "      <th>5569</th>\n",
       "      <td>ham</td>\n",
       "      <td>Pity, * was in mood for that. So...any other s...</td>\n",
       "      <td>57</td>\n",
       "      <td>15</td>\n",
       "      <td>2</td>\n",
       "    </tr>\n",
       "    <tr>\n",
       "      <th>5570</th>\n",
       "      <td>ham</td>\n",
       "      <td>The guy did some bitching but I acted like i'd...</td>\n",
       "      <td>125</td>\n",
       "      <td>27</td>\n",
       "      <td>1</td>\n",
       "    </tr>\n",
       "    <tr>\n",
       "      <th>5571</th>\n",
       "      <td>ham</td>\n",
       "      <td>Rofl. Its true to its name</td>\n",
       "      <td>26</td>\n",
       "      <td>7</td>\n",
       "      <td>2</td>\n",
       "    </tr>\n",
       "  </tbody>\n",
       "</table>\n",
       "</div>"
      ],
      "text/plain": [
       "     label                                               text  length  \\\n",
       "5567  spam  This is the 2nd time we have tried 2 contact u...     161   \n",
       "5568   ham              Will Ì_ b going to esplanade fr home?      37   \n",
       "5569   ham  Pity, * was in mood for that. So...any other s...      57   \n",
       "5570   ham  The guy did some bitching but I acted like i'd...     125   \n",
       "5571   ham                         Rofl. Its true to its name      26   \n",
       "\n",
       "      num_words  num_sent  \n",
       "5567         35         4  \n",
       "5568          9         1  \n",
       "5569         15         2  \n",
       "5570         27         1  \n",
       "5571          7         2  "
      ]
     },
     "execution_count": 19,
     "metadata": {},
     "output_type": "execute_result"
    }
   ],
   "source": [
    "sms.tail()"
   ]
  },
  {
   "cell_type": "code",
   "execution_count": 20,
   "metadata": {},
   "outputs": [
    {
     "data": {
      "text/plain": [
       "(5571, 5)"
      ]
     },
     "execution_count": 20,
     "metadata": {},
     "output_type": "execute_result"
    }
   ],
   "source": [
    "# check the diminesion of dataset\n",
    "sms.shape"
   ]
  },
  {
   "cell_type": "code",
   "execution_count": 21,
   "metadata": {},
   "outputs": [
    {
     "data": {
      "text/plain": [
       "label        object\n",
       "text         object\n",
       "length        int64\n",
       "num_words     int64\n",
       "num_sent      int64\n",
       "dtype: object"
      ]
     },
     "execution_count": 21,
     "metadata": {},
     "output_type": "execute_result"
    }
   ],
   "source": [
    "# check the datatype of data\n",
    "sms.dtypes"
   ]
  },
  {
   "cell_type": "code",
   "execution_count": 22,
   "metadata": {},
   "outputs": [],
   "source": [
    "sms.reset_index(inplace=True)"
   ]
  },
  {
   "cell_type": "code",
   "execution_count": 23,
   "metadata": {},
   "outputs": [],
   "source": [
    "#remove old index column\n",
    "sms.drop(\"index\",axis=1,inplace=True)"
   ]
  },
  {
   "cell_type": "markdown",
   "metadata": {},
   "source": [
    "# Data Visualization"
   ]
  },
  {
   "cell_type": "code",
   "execution_count": 24,
   "metadata": {},
   "outputs": [
    {
     "data": {
      "image/png": "[encoded data removed]",
      "text/plain": [
       "<Figure size 432x288 with 1 Axes>"
      ]
     },
     "metadata": {},
     "output_type": "display_data"
    }
   ],
   "source": [
    "plt.pie(sms[\"label\"].value_counts(),labels=[\"ham\",\"spam\"],autopct=\"%0.2f\")\n",
    "plt.show()"
   ]
  },
  {
   "cell_type": "code",
   "execution_count": 25,
   "metadata": {},
   "outputs": [],
   "source": [
    "text = str(sms.loc[sms['label'] == 'ham', 'text'])"
   ]
  },
  {
   "cell_type": "code",
   "execution_count": 26,
   "metadata": {},
   "outputs": [
    {
     "data": {
      "image/png": "[encoded data removed]",
      "text/plain": [
       "<Figure size 432x288 with 1 Axes>"
      ]
     },
     "metadata": {
      "needs_background": "light"
     },
     "output_type": "display_data"
    }
   ],
   "source": [
    "# Create and generate a word cloud image:\n",
    "wordcloud = WordCloud(background_color=\"white\").generate(text)\n",
    "\n",
    "# Display the generated image:\n",
    "plt.imshow(wordcloud, interpolation='bilinear')\n",
    "plt.title('Top words for  not Spam messages')\n",
    "plt.axis(\"off\")\n",
    "plt.show()"
   ]
  },
  {
   "cell_type": "code",
   "execution_count": 27,
   "metadata": {},
   "outputs": [],
   "source": [
    "text1 = str(sms.loc[sms['label'] == 'spam', 'text'])"
   ]
  },
  {
   "cell_type": "code",
   "execution_count": 28,
   "metadata": {},
   "outputs": [
    {
     "data": {
      "image/png": "[encoded data removed]",
      "text/plain": [
       "<Figure size 432x288 with 1 Axes>"
      ]
     },
     "metadata": {
      "needs_background": "light"
     },
     "output_type": "display_data"
    }
   ],
   "source": [
    "# Create and generate a word cloud image:\n",
    "wordcloud = WordCloud(background_color=\"white\").generate(text1)\n",
    "\n",
    "# Display the generated image:\n",
    "plt.imshow(wordcloud, interpolation='bilinear')\n",
    "plt.title('Top words for Spam messages')\n",
    "plt.axis(\"off\")\n",
    "plt.show()"
   ]
  },
  {
   "cell_type": "code",
   "execution_count": 29,
   "metadata": {},
   "outputs": [
    {
     "data": {
      "text/html": [
       "<div>\n",
       "<style scoped>\n",
       "    .dataframe tbody tr th:only-of-type {\n",
       "        vertical-align: middle;\n",
       "    }\n",
       "\n",
       "    .dataframe tbody tr th {\n",
       "        vertical-align: top;\n",
       "    }\n",
       "\n",
       "    .dataframe thead th {\n",
       "        text-align: right;\n",
       "    }\n",
       "</style>\n",
       "<table border=\"1\" class=\"dataframe\">\n",
       "  <thead>\n",
       "    <tr style=\"text-align: right;\">\n",
       "      <th></th>\n",
       "      <th>label</th>\n",
       "      <th>text</th>\n",
       "      <th>length</th>\n",
       "      <th>num_words</th>\n",
       "      <th>num_sent</th>\n",
       "    </tr>\n",
       "  </thead>\n",
       "  <tbody>\n",
       "    <tr>\n",
       "      <th>0</th>\n",
       "      <td>ham</td>\n",
       "      <td>Go until jurong point, crazy.. Available only ...</td>\n",
       "      <td>111</td>\n",
       "      <td>23</td>\n",
       "      <td>2</td>\n",
       "    </tr>\n",
       "    <tr>\n",
       "      <th>1</th>\n",
       "      <td>ham</td>\n",
       "      <td>Ok lar... Joking wif u oni...</td>\n",
       "      <td>29</td>\n",
       "      <td>8</td>\n",
       "      <td>2</td>\n",
       "    </tr>\n",
       "    <tr>\n",
       "      <th>2</th>\n",
       "      <td>spam</td>\n",
       "      <td>Free entry in 2 a wkly comp to win FA Cup fina...</td>\n",
       "      <td>155</td>\n",
       "      <td>37</td>\n",
       "      <td>2</td>\n",
       "    </tr>\n",
       "    <tr>\n",
       "      <th>3</th>\n",
       "      <td>ham</td>\n",
       "      <td>U dun say so early hor... U c already then say...</td>\n",
       "      <td>49</td>\n",
       "      <td>13</td>\n",
       "      <td>1</td>\n",
       "    </tr>\n",
       "    <tr>\n",
       "      <th>4</th>\n",
       "      <td>ham</td>\n",
       "      <td>Nah I don't think he goes to usf, he lives aro...</td>\n",
       "      <td>61</td>\n",
       "      <td>15</td>\n",
       "      <td>1</td>\n",
       "    </tr>\n",
       "    <tr>\n",
       "      <th>5</th>\n",
       "      <td>spam</td>\n",
       "      <td>FreeMsg Hey there darling it's been 3 week's n...</td>\n",
       "      <td>148</td>\n",
       "      <td>39</td>\n",
       "      <td>4</td>\n",
       "    </tr>\n",
       "    <tr>\n",
       "      <th>6</th>\n",
       "      <td>ham</td>\n",
       "      <td>Even my brother is not like to speak with me. ...</td>\n",
       "      <td>77</td>\n",
       "      <td>18</td>\n",
       "      <td>2</td>\n",
       "    </tr>\n",
       "    <tr>\n",
       "      <th>7</th>\n",
       "      <td>ham</td>\n",
       "      <td>As per your request 'Melle Melle (Oru Minnamin...</td>\n",
       "      <td>160</td>\n",
       "      <td>30</td>\n",
       "      <td>2</td>\n",
       "    </tr>\n",
       "    <tr>\n",
       "      <th>8</th>\n",
       "      <td>spam</td>\n",
       "      <td>WINNER!! As a valued network customer you have...</td>\n",
       "      <td>158</td>\n",
       "      <td>32</td>\n",
       "      <td>5</td>\n",
       "    </tr>\n",
       "    <tr>\n",
       "      <th>9</th>\n",
       "      <td>spam</td>\n",
       "      <td>Had your mobile 11 months or more? U R entitle...</td>\n",
       "      <td>154</td>\n",
       "      <td>31</td>\n",
       "      <td>3</td>\n",
       "    </tr>\n",
       "  </tbody>\n",
       "</table>\n",
       "</div>"
      ],
      "text/plain": [
       "  label                                               text  length  num_words  \\\n",
       "0   ham  Go until jurong point, crazy.. Available only ...     111         23   \n",
       "1   ham                      Ok lar... Joking wif u oni...      29          8   \n",
       "2  spam  Free entry in 2 a wkly comp to win FA Cup fina...     155         37   \n",
       "3   ham  U dun say so early hor... U c already then say...      49         13   \n",
       "4   ham  Nah I don't think he goes to usf, he lives aro...      61         15   \n",
       "5  spam  FreeMsg Hey there darling it's been 3 week's n...     148         39   \n",
       "6   ham  Even my brother is not like to speak with me. ...      77         18   \n",
       "7   ham  As per your request 'Melle Melle (Oru Minnamin...     160         30   \n",
       "8  spam  WINNER!! As a valued network customer you have...     158         32   \n",
       "9  spam  Had your mobile 11 months or more? U R entitle...     154         31   \n",
       "\n",
       "   num_sent  \n",
       "0         2  \n",
       "1         2  \n",
       "2         2  \n",
       "3         1  \n",
       "4         1  \n",
       "5         4  \n",
       "6         2  \n",
       "7         2  \n",
       "8         5  \n",
       "9         3  "
      ]
     },
     "execution_count": 29,
     "metadata": {},
     "output_type": "execute_result"
    }
   ],
   "source": [
    "sms.head(10)"
   ]
  },
  {
   "cell_type": "code",
   "execution_count": 30,
   "metadata": {},
   "outputs": [],
   "source": [
    "sms_clean=sms.copy()"
   ]
  },
  {
   "cell_type": "markdown",
   "metadata": {},
   "source": [
    "# Data preprocessing"
   ]
  },
  {
   "cell_type": "code",
   "execution_count": 31,
   "metadata": {},
   "outputs": [],
   "source": [
    "# removing punctuation and numbers from text data\n",
    "lem=nltk.WordNetLemmatizer()\n",
    "\n",
    "corpus=[]\n",
    "\n",
    "for i in range(sms_clean.shape[0]):\n",
    "    review=re.sub('[^a-zA-Z]',' ',str(sms_clean['text'][i]))\n",
    "    review=review.lower()\n",
    "    corpus.append(review)"
   ]
  },
  {
   "cell_type": "code",
   "execution_count": 32,
   "metadata": {},
   "outputs": [
    {
     "data": {
      "text/html": [
       "<div>\n",
       "<style scoped>\n",
       "    .dataframe tbody tr th:only-of-type {\n",
       "        vertical-align: middle;\n",
       "    }\n",
       "\n",
       "    .dataframe tbody tr th {\n",
       "        vertical-align: top;\n",
       "    }\n",
       "\n",
       "    .dataframe thead th {\n",
       "        text-align: right;\n",
       "    }\n",
       "</style>\n",
       "<table border=\"1\" class=\"dataframe\">\n",
       "  <thead>\n",
       "    <tr style=\"text-align: right;\">\n",
       "      <th></th>\n",
       "      <th>label</th>\n",
       "      <th>text</th>\n",
       "      <th>length</th>\n",
       "      <th>num_words</th>\n",
       "      <th>num_sent</th>\n",
       "      <th>clean_text</th>\n",
       "    </tr>\n",
       "  </thead>\n",
       "  <tbody>\n",
       "    <tr>\n",
       "      <th>0</th>\n",
       "      <td>ham</td>\n",
       "      <td>Go until jurong point, crazy.. Available only ...</td>\n",
       "      <td>111</td>\n",
       "      <td>23</td>\n",
       "      <td>2</td>\n",
       "      <td>go until jurong point  crazy   available only ...</td>\n",
       "    </tr>\n",
       "    <tr>\n",
       "      <th>1</th>\n",
       "      <td>ham</td>\n",
       "      <td>Ok lar... Joking wif u oni...</td>\n",
       "      <td>29</td>\n",
       "      <td>8</td>\n",
       "      <td>2</td>\n",
       "      <td>ok lar    joking wif u oni</td>\n",
       "    </tr>\n",
       "    <tr>\n",
       "      <th>2</th>\n",
       "      <td>spam</td>\n",
       "      <td>Free entry in 2 a wkly comp to win FA Cup fina...</td>\n",
       "      <td>155</td>\n",
       "      <td>37</td>\n",
       "      <td>2</td>\n",
       "      <td>free entry in   a wkly comp to win fa cup fina...</td>\n",
       "    </tr>\n",
       "    <tr>\n",
       "      <th>3</th>\n",
       "      <td>ham</td>\n",
       "      <td>U dun say so early hor... U c already then say...</td>\n",
       "      <td>49</td>\n",
       "      <td>13</td>\n",
       "      <td>1</td>\n",
       "      <td>u dun say so early hor    u c already then say</td>\n",
       "    </tr>\n",
       "    <tr>\n",
       "      <th>4</th>\n",
       "      <td>ham</td>\n",
       "      <td>Nah I don't think he goes to usf, he lives aro...</td>\n",
       "      <td>61</td>\n",
       "      <td>15</td>\n",
       "      <td>1</td>\n",
       "      <td>nah i don t think he goes to usf  he lives aro...</td>\n",
       "    </tr>\n",
       "  </tbody>\n",
       "</table>\n",
       "</div>"
      ],
      "text/plain": [
       "  label                                               text  length  num_words  \\\n",
       "0   ham  Go until jurong point, crazy.. Available only ...     111         23   \n",
       "1   ham                      Ok lar... Joking wif u oni...      29          8   \n",
       "2  spam  Free entry in 2 a wkly comp to win FA Cup fina...     155         37   \n",
       "3   ham  U dun say so early hor... U c already then say...      49         13   \n",
       "4   ham  Nah I don't think he goes to usf, he lives aro...      61         15   \n",
       "\n",
       "   num_sent                                         clean_text  \n",
       "0         2  go until jurong point  crazy   available only ...  \n",
       "1         2                      ok lar    joking wif u oni     \n",
       "2         2  free entry in   a wkly comp to win fa cup fina...  \n",
       "3         1  u dun say so early hor    u c already then say     \n",
       "4         1  nah i don t think he goes to usf  he lives aro...  "
      ]
     },
     "execution_count": 32,
     "metadata": {},
     "output_type": "execute_result"
    }
   ],
   "source": [
    "sms_clean['clean_text']=corpus\n",
    "sms_clean.head()"
   ]
  },
  {
   "cell_type": "markdown",
   "metadata": {},
   "source": [
    "# remove stop words and create other variable"
   ]
  },
  {
   "cell_type": "code",
   "execution_count": 33,
   "metadata": {},
   "outputs": [],
   "source": [
    "stop_words= set(stopwords.words('english'))\n",
    "\n",
    "def clean_txt(text):\n",
    "    text=\" \".join(word for word in text.split()if word not in stop_words)\n",
    "    return text"
   ]
  },
  {
   "cell_type": "code",
   "execution_count": 34,
   "metadata": {},
   "outputs": [],
   "source": [
    "sms_clean['clean_text1']=sms_clean['clean_text'].apply(clean_txt)"
   ]
  },
  {
   "cell_type": "code",
   "execution_count": 35,
   "metadata": {},
   "outputs": [
    {
     "data": {
      "text/html": [
       "<div>\n",
       "<style scoped>\n",
       "    .dataframe tbody tr th:only-of-type {\n",
       "        vertical-align: middle;\n",
       "    }\n",
       "\n",
       "    .dataframe tbody tr th {\n",
       "        vertical-align: top;\n",
       "    }\n",
       "\n",
       "    .dataframe thead th {\n",
       "        text-align: right;\n",
       "    }\n",
       "</style>\n",
       "<table border=\"1\" class=\"dataframe\">\n",
       "  <thead>\n",
       "    <tr style=\"text-align: right;\">\n",
       "      <th></th>\n",
       "      <th>label</th>\n",
       "      <th>text</th>\n",
       "      <th>length</th>\n",
       "      <th>num_words</th>\n",
       "      <th>num_sent</th>\n",
       "      <th>clean_text</th>\n",
       "      <th>clean_text1</th>\n",
       "    </tr>\n",
       "  </thead>\n",
       "  <tbody>\n",
       "    <tr>\n",
       "      <th>0</th>\n",
       "      <td>ham</td>\n",
       "      <td>Go until jurong point, crazy.. Available only ...</td>\n",
       "      <td>111</td>\n",
       "      <td>23</td>\n",
       "      <td>2</td>\n",
       "      <td>go until jurong point  crazy   available only ...</td>\n",
       "      <td>go jurong point crazy available bugis n great ...</td>\n",
       "    </tr>\n",
       "    <tr>\n",
       "      <th>1</th>\n",
       "      <td>ham</td>\n",
       "      <td>Ok lar... Joking wif u oni...</td>\n",
       "      <td>29</td>\n",
       "      <td>8</td>\n",
       "      <td>2</td>\n",
       "      <td>ok lar    joking wif u oni</td>\n",
       "      <td>ok lar joking wif u oni</td>\n",
       "    </tr>\n",
       "    <tr>\n",
       "      <th>2</th>\n",
       "      <td>spam</td>\n",
       "      <td>Free entry in 2 a wkly comp to win FA Cup fina...</td>\n",
       "      <td>155</td>\n",
       "      <td>37</td>\n",
       "      <td>2</td>\n",
       "      <td>free entry in   a wkly comp to win fa cup fina...</td>\n",
       "      <td>free entry wkly comp win fa cup final tkts st ...</td>\n",
       "    </tr>\n",
       "    <tr>\n",
       "      <th>3</th>\n",
       "      <td>ham</td>\n",
       "      <td>U dun say so early hor... U c already then say...</td>\n",
       "      <td>49</td>\n",
       "      <td>13</td>\n",
       "      <td>1</td>\n",
       "      <td>u dun say so early hor    u c already then say</td>\n",
       "      <td>u dun say early hor u c already say</td>\n",
       "    </tr>\n",
       "    <tr>\n",
       "      <th>4</th>\n",
       "      <td>ham</td>\n",
       "      <td>Nah I don't think he goes to usf, he lives aro...</td>\n",
       "      <td>61</td>\n",
       "      <td>15</td>\n",
       "      <td>1</td>\n",
       "      <td>nah i don t think he goes to usf  he lives aro...</td>\n",
       "      <td>nah think goes usf lives around though</td>\n",
       "    </tr>\n",
       "  </tbody>\n",
       "</table>\n",
       "</div>"
      ],
      "text/plain": [
       "  label                                               text  length  num_words  \\\n",
       "0   ham  Go until jurong point, crazy.. Available only ...     111         23   \n",
       "1   ham                      Ok lar... Joking wif u oni...      29          8   \n",
       "2  spam  Free entry in 2 a wkly comp to win FA Cup fina...     155         37   \n",
       "3   ham  U dun say so early hor... U c already then say...      49         13   \n",
       "4   ham  Nah I don't think he goes to usf, he lives aro...      61         15   \n",
       "\n",
       "   num_sent                                         clean_text  \\\n",
       "0         2  go until jurong point  crazy   available only ...   \n",
       "1         2                      ok lar    joking wif u oni      \n",
       "2         2  free entry in   a wkly comp to win fa cup fina...   \n",
       "3         1  u dun say so early hor    u c already then say      \n",
       "4         1  nah i don t think he goes to usf  he lives aro...   \n",
       "\n",
       "                                         clean_text1  \n",
       "0  go jurong point crazy available bugis n great ...  \n",
       "1                            ok lar joking wif u oni  \n",
       "2  free entry wkly comp win fa cup final tkts st ...  \n",
       "3                u dun say early hor u c already say  \n",
       "4             nah think goes usf lives around though  "
      ]
     },
     "execution_count": 35,
     "metadata": {},
     "output_type": "execute_result"
    }
   ],
   "source": [
    "sms_clean.head()"
   ]
  },
  {
   "cell_type": "markdown",
   "metadata": {},
   "source": [
    "# Remove stemming words from Portstemmer"
   ]
  },
  {
   "cell_type": "code",
   "execution_count": 36,
   "metadata": {},
   "outputs": [],
   "source": [
    "porter = PorterStemmer()\n",
    "def stemSentence(clean_txt1):\n",
    "    token_words=word_tokenize(clean_txt1)\n",
    "    token_words\n",
    "    stem_sentence=[]\n",
    "    for word in token_words:\n",
    "        stem_sentence.append(porter.stem(word))\n",
    "        stem_sentence.append(\" \")\n",
    "    return \"\".join(stem_sentence)"
   ]
  },
  {
   "cell_type": "code",
   "execution_count": 37,
   "metadata": {},
   "outputs": [],
   "source": [
    "sms_clean['final_clean_text']=sms_clean['clean_text1'].apply(stemSentence)"
   ]
  },
  {
   "cell_type": "code",
   "execution_count": 38,
   "metadata": {},
   "outputs": [
    {
     "data": {
      "text/html": [
       "<div>\n",
       "<style scoped>\n",
       "    .dataframe tbody tr th:only-of-type {\n",
       "        vertical-align: middle;\n",
       "    }\n",
       "\n",
       "    .dataframe tbody tr th {\n",
       "        vertical-align: top;\n",
       "    }\n",
       "\n",
       "    .dataframe thead th {\n",
       "        text-align: right;\n",
       "    }\n",
       "</style>\n",
       "<table border=\"1\" class=\"dataframe\">\n",
       "  <thead>\n",
       "    <tr style=\"text-align: right;\">\n",
       "      <th></th>\n",
       "      <th>label</th>\n",
       "      <th>text</th>\n",
       "      <th>length</th>\n",
       "      <th>num_words</th>\n",
       "      <th>num_sent</th>\n",
       "      <th>clean_text</th>\n",
       "      <th>clean_text1</th>\n",
       "      <th>final_clean_text</th>\n",
       "    </tr>\n",
       "  </thead>\n",
       "  <tbody>\n",
       "    <tr>\n",
       "      <th>0</th>\n",
       "      <td>ham</td>\n",
       "      <td>Go until jurong point, crazy.. Available only ...</td>\n",
       "      <td>111</td>\n",
       "      <td>23</td>\n",
       "      <td>2</td>\n",
       "      <td>go until jurong point  crazy   available only ...</td>\n",
       "      <td>go jurong point crazy available bugis n great ...</td>\n",
       "      <td>go jurong point crazi avail bugi n great world...</td>\n",
       "    </tr>\n",
       "    <tr>\n",
       "      <th>1</th>\n",
       "      <td>ham</td>\n",
       "      <td>Ok lar... Joking wif u oni...</td>\n",
       "      <td>29</td>\n",
       "      <td>8</td>\n",
       "      <td>2</td>\n",
       "      <td>ok lar    joking wif u oni</td>\n",
       "      <td>ok lar joking wif u oni</td>\n",
       "      <td>ok lar joke wif u oni</td>\n",
       "    </tr>\n",
       "    <tr>\n",
       "      <th>2</th>\n",
       "      <td>spam</td>\n",
       "      <td>Free entry in 2 a wkly comp to win FA Cup fina...</td>\n",
       "      <td>155</td>\n",
       "      <td>37</td>\n",
       "      <td>2</td>\n",
       "      <td>free entry in   a wkly comp to win fa cup fina...</td>\n",
       "      <td>free entry wkly comp win fa cup final tkts st ...</td>\n",
       "      <td>free entri wkli comp win fa cup final tkt st m...</td>\n",
       "    </tr>\n",
       "    <tr>\n",
       "      <th>3</th>\n",
       "      <td>ham</td>\n",
       "      <td>U dun say so early hor... U c already then say...</td>\n",
       "      <td>49</td>\n",
       "      <td>13</td>\n",
       "      <td>1</td>\n",
       "      <td>u dun say so early hor    u c already then say</td>\n",
       "      <td>u dun say early hor u c already say</td>\n",
       "      <td>u dun say earli hor u c alreadi say</td>\n",
       "    </tr>\n",
       "    <tr>\n",
       "      <th>4</th>\n",
       "      <td>ham</td>\n",
       "      <td>Nah I don't think he goes to usf, he lives aro...</td>\n",
       "      <td>61</td>\n",
       "      <td>15</td>\n",
       "      <td>1</td>\n",
       "      <td>nah i don t think he goes to usf  he lives aro...</td>\n",
       "      <td>nah think goes usf lives around though</td>\n",
       "      <td>nah think goe usf live around though</td>\n",
       "    </tr>\n",
       "  </tbody>\n",
       "</table>\n",
       "</div>"
      ],
      "text/plain": [
       "  label                                               text  length  num_words  \\\n",
       "0   ham  Go until jurong point, crazy.. Available only ...     111         23   \n",
       "1   ham                      Ok lar... Joking wif u oni...      29          8   \n",
       "2  spam  Free entry in 2 a wkly comp to win FA Cup fina...     155         37   \n",
       "3   ham  U dun say so early hor... U c already then say...      49         13   \n",
       "4   ham  Nah I don't think he goes to usf, he lives aro...      61         15   \n",
       "\n",
       "   num_sent                                         clean_text  \\\n",
       "0         2  go until jurong point  crazy   available only ...   \n",
       "1         2                      ok lar    joking wif u oni      \n",
       "2         2  free entry in   a wkly comp to win fa cup fina...   \n",
       "3         1  u dun say so early hor    u c already then say      \n",
       "4         1  nah i don t think he goes to usf  he lives aro...   \n",
       "\n",
       "                                         clean_text1  \\\n",
       "0  go jurong point crazy available bugis n great ...   \n",
       "1                            ok lar joking wif u oni   \n",
       "2  free entry wkly comp win fa cup final tkts st ...   \n",
       "3                u dun say early hor u c already say   \n",
       "4             nah think goes usf lives around though   \n",
       "\n",
       "                                    final_clean_text  \n",
       "0  go jurong point crazi avail bugi n great world...  \n",
       "1                             ok lar joke wif u oni   \n",
       "2  free entri wkli comp win fa cup final tkt st m...  \n",
       "3               u dun say earli hor u c alreadi say   \n",
       "4              nah think goe usf live around though   "
      ]
     },
     "execution_count": 38,
     "metadata": {},
     "output_type": "execute_result"
    }
   ],
   "source": [
    "sms_clean.head()"
   ]
  },
  {
   "cell_type": "code",
   "execution_count": 39,
   "metadata": {},
   "outputs": [],
   "source": [
    "# Use clean text for model building\n",
    "x=sms_clean['final_clean_text']\n",
    "y=sms_clean['label']"
   ]
  },
  {
   "cell_type": "markdown",
   "metadata": {},
   "source": [
    "# use CountVectorizer to convert text vaiable into matrix form"
   ]
  },
  {
   "cell_type": "code",
   "execution_count": 40,
   "metadata": {},
   "outputs": [],
   "source": [
    "cvec=CountVectorizer()\n",
    "cvdf=cvec.fit(x)"
   ]
  },
  {
   "cell_type": "code",
   "execution_count": 41,
   "metadata": {},
   "outputs": [],
   "source": [
    "vocab=cvdf.vocabulary_"
   ]
  },
  {
   "cell_type": "code",
   "execution_count": 42,
   "metadata": {},
   "outputs": [
    {
     "name": "stdout",
     "output_type": "stream",
     "text": [
      "vocabulary : {'go': 2116, 'jurong': 2741, 'point': 3966, 'crazi': 1146, 'avail': 365, 'bugi': 718, 'great': 2187, 'world': 5948, 'la': 2839, 'buffet': 716, 'cine': 941, 'got': 2151, 'amor': 182, 'wat': 5774, 'ok': 3643, 'lar': 2866, 'joke': 2709, 'wif': 5870, 'oni': 3665, 'free': 1960, 'entri': 1636, 'wkli': 5914, 'comp': 1035, 'win': 5881, 'fa': 1752, 'cup': 1196, 'final': 1849, 'tkt': 5368, 'st': 4945, 'may': 3172, 'text': 5255, 'receiv': 4261, 'question': 4181, 'std': 4972, 'txt': 5522, 'rate': 4224, 'appli': 253, 'dun': 1516, 'say': 4500, 'earli': 1533, 'hor': 2407, 'alreadi': 156, 'nah': 3422, 'think': 5301, 'goe': 2120, 'usf': 5635, 'live': 2973, 'around': 292, 'though': 5318, 'freemsg': 1966, 'hey': 2342, 'darl': 1243, 'week': 5807, 'word': 5942, 'back': 400, 'like': 2946, 'fun': 2006, 'still': 4993, 'tb': 5202, 'xxx': 6015, 'chg': 899, 'send': 4569, 'rcv': 4235, 'even': 1684, 'brother': 692, 'speak': 4879, 'treat': 5466, 'aid': 111, 'patent': 3813, 'per': 3849, 'request': 4331, 'mell': 3203, 'oru': 3710, 'minnaminungint': 3256, 'nurungu': 3594, 'vettam': 5679, 'set': 4589, 'callertun': 768, 'caller': 767, 'press': 4062, 'copi': 1103, 'friend': 1978, 'winner': 5889, 'valu': 5655, 'network': 3487, 'custom': 1207, 'select': 4558, 'receivea': 4262, 'prize': 4089, 'reward': 4363, 'claim': 949, 'call': 763, 'code': 1002, 'kl': 2814, 'valid': 5654, 'hour': 2422, 'mobil': 3302, 'month': 3330, 'entitl': 1634, 'updat': 5606, 'latest': 2878, 'colour': 1018, 'camera': 776, 'co': 991, 'gon': 2130, 'na': 3418, 'home': 2389, 'soon': 4844, 'want': 5762, 'talk': 5174, 'stuff': 5046, 'anymor': 224, 'tonight': 5411, 'cri': 1157, 'enough': 1628, 'today': 5385, 'six': 4728, 'chanc': 856, 'cash': 815, 'pound': 4011, 'csh': 1176, 'cost': 1113, 'day': 1254, 'tsandc': 5493, 'repli': 4326, 'hl': 2366, 'info': 2559, 'urgent': 5619, 'membership': 3208, 'jackpot': 2649, 'www': 5996, 'dbuk': 1258, 'net': 3481, 'lccltd': 2890, 'pobox': 3956, 'ldnw': 2894, 'rw': 4442, 'search': 4537, 'right': 4374, 'thank': 5269, 'breather': 664, 'promis': 4113, 'wont': 5933, 'take': 5169, 'help': 2331, 'grant': 2176, 'fulfil': 2002, 'wonder': 5932, 'bless': 575, 'time': 5353, 'date': 1250, 'sunday': 5084, 'xxxmobilemovieclub': 6016, 'use': 5632, 'credit': 1154, 'click': 966, 'wap': 5763, 'link': 2959, 'next': 3501, 'messag': 3221, 'http': 2439, 'com': 1019, 'qjkgighjjgcbl': 4172, 'oh': 3638, 'watch': 5775, 'eh': 1575, 'rememb': 4311, 'spell': 4889, 'name': 3427, 'ye': 6040, 'naughti': 3446, 'make': 3112, 'wet': 5837, 'fine': 1854, 'way': 5787, 'feel': 1812, 'gota': 2152, 'england': 1621, 'macedonia': 3082, 'dont': 1448, 'miss': 3268, 'goal': 2117, 'team': 5210, 'news': 3497, 'ur': 5615, 'nation': 3441, 'eg': 1571, 'tri': 5472, 'wale': 5748, 'scotland': 4520, 'poboxox': 3957, 'wq': 5965, 'serious': 4585, 'ha': 2235, 'pay': 3824, 'first': 1866, 'da': 1221, 'stock': 4996, 'comin': 1026, 'aft': 92, 'finish': 1857, 'lunch': 3061, 'str': 5015, 'lor': 3015, 'ard': 274, 'smth': 4790, 'ffffffffff': 1827, 'alright': 157, 'meet': 3195, 'sooner': 4845, 'forc': 1926, 'eat': 1545, 'slice': 4754, 'realli': 4250, 'hungri': 2455, 'tho': 5315, 'suck': 5063, 'mark': 3143, 'get': 2075, 'worri': 5950, 'know': 2820, 'sick': 4690, 'turn': 5509, 'pizza': 3922, 'lol': 2996, 'alway': 166, 'convinc': 1095, 'catch': 822, 'bu': 708, 'fri': 1975, 'egg': 1573, 'tea': 5207, 'mom': 3318, 'left': 2907, 'dinner': 1378, 'love': 3033, 'amp': 184, 'pack': 3757, 'car': 796, 'let': 2924, 'room': 4404, 'ahhh': 107, 'work': 5943, 'vagu': 5651, 'wait': 5745, 'clear': 962, 'sure': 5107, 'sarcast': 4485, 'us': 5628, 'yeah': 6041, 'apologet': 242, 'fallen': 1774, 'actin': 50, 'spoilt': 4913, 'child': 906, 'caught': 824, 'till': 5351, 'badli': 405, 'cheer': 884, 'tell': 5224, 'anyth': 227, 'fear': 1804, 'faint': 1766, 'housework': 2426, 'quick': 4182, 'cuppa': 1198, 'subscript': 5057, 'rington': 4380, 'uk': 5545, 'charg': 863, 'pleas': 3938, 'confirm': 1068, 'yup': 6091, 'look': 3007, 'msg': 3368, 'xuhui': 6011, 'learn': 2902, 'nd': 3452, 'lesson': 2923, 'oop': 3678, 'roommat': 4406, 'done': 1446, 'see': 4549, 'letter': 2925, 'decid': 1273, 'hello': 2328, 'saturday': 4495, 'tomo': 5402, 'invit': 2607, 'pl': 3923, 'ahead': 106, 'watt': 5783, 'weekend': 5809, 'abiola': 11, 'forget': 1932, 'need': 3466, 'crave': 1145, 'sweet': 5134, 'arabian': 271, 'steed': 4978, 'mmmmmm': 3292, 'yummi': 6085, 'rodger': 4395, 'burn': 732, 'sm': 4769, 'nokia': 3541, 'camcord': 774, 'deliveri': 1302, 'tomorrow': 5404, 'hope': 2405, 'man': 3120, 'well': 5820, 'endow': 1614, 'lt': 3049, 'hep': 2337, 'immunis': 2520, 'nigeria': 3512, 'fair': 1767, 'tyler': 5531, 'could': 1119, 'mayb': 3173, 'ask': 312, 'bit': 559, 'stubborn': 5037, 'hospit': 2413, 'kept': 2781, 'weak': 5791, 'sucker': 5064, 'saw': 4499, 'class': 956, 'gram': 2170, 'usual': 5639, 'run': 4436, 'gt': 2209, 'half': 2249, 'eighth': 1577, 'smarter': 4775, 'almost': 152, 'whole': 5860, 'second': 4541, 'fyi': 2020, 'ride': 4373, 'morn': 3337, 'crash': 1144, 'place': 3924, 'wow': 5963, 'never': 3489, 'realiz': 4249, 'embarass': 1599, 'accomod': 35, 'thought': 5319, 'sinc': 4709, 'best': 519, 'seem': 4553, 'happi': 2271, 'cave': 826, 'sorri': 4853, 'give': 2100, 'offer': 3629, 'ac': 25, 'sptv': 4932, 'new': 3492, 'jersey': 2688, 'devil': 1340, 'detroit': 1336, 'red': 4276, 'wing': 5888, 'play': 3933, 'ice': 2481, 'hockey': 2378, 'correct': 1108, 'incorrect': 2542, 'end': 1612, 'mallika': 3119, 'sherawat': 4632, 'yesterday': 6052, 'find': 1853, 'congrat': 1072, 'year': 6042, 'special': 4881, 'cinema': 942, 'pass': 3806, 'suprman': 5105, 'matrix': 3165, 'starwar': 4963, 'etc': 1672, 'bx': 749, 'ip': 2612, 'pm': 3952, 'later': 2877, 'reach': 4239, 'gauti': 2045, 'sehwag': 4557, 'odi': 3624, 'seri': 4583, 'pick': 3900, 'burger': 729, 'move': 3355, 'pain': 3763, 'kill': 2799, 'good': 2135, 'girl': 2095, 'situat': 4726, 'seeker': 4552, 'part': 3797, 'check': 878, 'iq': 2617, 'took': 5413, 'forev': 1929, 'come': 1022, 'doubl': 1460, 'hair': 2244, 'dresser': 1482, 'said': 4458, 'wun': 5994, 'cut': 1210, 'short': 4662, 'nice': 3506, 'advis': 79, 'follow': 1914, 'recent': 4263, 'review': 4361, 'mob': 3299, 'award': 379, 'bonu': 610, 'song': 4840, 'dedic': 1279, 'valuabl': 5656, 'frnd': 1983, 'rpli': 4417, 'complimentari': 1049, 'trip': 5474, 'eurodisinc': 1677, 'trav': 5461, 'aco': 47, 'di': 1348, 'morefrmmob': 3336, 'shracomorsglsuplt': 4676, 'ls': 3047, 'aj': 122, 'hear': 2311, 'divorc': 1411, 'barbi': 433, 'ken': 2779, 'plane': 3928, 'wah': 5738, 'lucki': 3056, 'save': 4498, 'money': 3323, 'hee': 2321, 'hi': 2346, 'babe': 394, 'im': 2511, 'wan': 5759, 'someth': 4828, 'xx': 6012, 'perform': 3854, 'machan': 3084, 'that': 5275, 'cool': 1098, 'gentleman': 2066, 'digniti': 1371, 'respect': 4343, 'peopl': 3848, 'much': 3381, 'shi': 4635, 'pa': 3755, 'oper': 3681, 'job': 2703, 'ta': 5156, 'earn': 1536, 'ah': 104, 'stop': 5004, 'urgnt': 5621, 'real': 4245, 'yo': 6063, 'ticket': 5341, 'one': 3664, 'jacket': 2648, 'multi': 3388, 'start': 4961, 'came': 775, 'bed': 484, 'coin': 1006, 'factori': 1759, 'nitro': 3528, 'ela': 1582, 'kano': 2762, 'il': 2507, 'download': 1466, 'wen': 5823, 'stand': 4954, 'close': 971, 'anoth': 213, 'night': 3514, 'spent': 4891, 'late': 2875, 'afternoon': 94, 'casualti': 820, 'mean': 3182, 'moro': 3339, 'includ': 2537, 'sheet': 4627, 'smile': 4781, 'pleasur': 3941, 'troubl': 5480, 'pour': 4012, 'rain': 4202, 'sum': 5078, 'hurt': 2461, 'becoz': 482, 'someon': 4823, 'servic': 4588, 'repres': 4329, 'guarante': 2213, 'havent': 2294, 'plan': 3927, 'buy': 743, 'lido': 2934, 'show': 4672, 'collect': 1015, 'simpli': 4706, 'password': 3810, 'mix': 3283, 'verifi': 5677, 'usher': 5636, 'britney': 683, 'fml': 1908, 'telugu': 5228, 'movi': 3356, 'abt': 21, 'load': 2983, 'loan': 2984, 'wk': 5910, 'hol': 2380, 'forgot': 1935, 'hairdress': 2246, 'appoint': 255, 'four': 1946, 'shower': 4673, 'beforehand': 493, 'caus': 825, 'prob': 4093, 'ham': 2254, 'noth': 3565, 'els': 1594, 'okay': 3644, 'price': 4074, 'long': 3003, 'legal': 2910, 'ave': 370, 'am': 168, 'gone': 2132, 'drive': 1487, 'test': 5251, 'yet': 6053, 'guess': 2219, 'gave': 2046, 'boston': 627, 'men': 3211, 'chang': 857, 'locat': 2987, 'nyc': 3604, 'cuz': 1216, 'signin': 4697, 'page': 3760, 'umma': 5550, 'life': 2936, 'vava': 5666, 'lot': 3021, 'dear': 1264, 'wish': 5896, 'birthday': 557, 'truli': 5487, 'memor': 3209, 'aight': 113, 'hit': 2360, 'would': 5960, 'address': 61, 'consid': 1078, 'comput': 1053, 'minecraft': 3250, 'server': 4587, 'grumpi': 2206, 'old': 3653, 'better': 524, 'lie': 2935, 'busi': 737, 'plural': 3949, 'noun': 3573, 'research': 4333, 'thing': 5300, 'scare': 4507, 'mah': 3102, 'loud': 3028, 'gent': 2064, 'contact': 1083, 'last': 2873, 'draw': 1477, 'hr': 2435, 'ppm': 4020, 'wa': 5734, 'openin': 3680, 'sentenc': 4577, 'formal': 1939, 'anyway': 232, 'juz': 2746, 'tt': 5496, 'eatin': 1547, 'puttin': 4161, 'weight': 5812, 'haha': 2240, 'anythin': 229, 'happen': 2268, 'enter': 1630, 'cabin': 753, 'boss': 626, 'felt': 1818, 'askd': 313, 'apart': 235, 'went': 5826, 'holiday': 2386, 'flight': 1889, 'inc': 2533, 'min': 3244, 'goodo': 2143, 'must': 3404, 'friday': 1976, 'potato': 4007, 'ratio': 4226, 'tortilla': 5428, 'hmm': 2371, 'uncl': 5558, 'inform': 2560, 'school': 4513, 'directli': 1384, 'food': 1919, 'privat': 4086, 'account': 38, 'statement': 4966, 'unredeem': 5596, 'identifi': 2492, 'expir': 1736, 'landlin': 2855, 'box': 637, 'wr': 5966, 'appl': 250, 'pair': 3765, 'malarki': 3116, 'voda': 5717, 'number': 3591, 'match': 3159, 'quot': 4190, 'standard': 4955, 'app': 244, 'sao': 4479, 'mu': 3379, 'predict': 4045, 'yetund': 6055, 'sent': 4576, 'bother': 629, 'involv': 2610, 'impos': 2527, 'apologis': 243, 'del': 1295, 'bak': 412, 'lucyxx': 3059, 'tmorrow': 5374, 'answer': 215, 'sunshin': 5091, 'quiz': 4187, 'top': 5421, 'soni': 4841, 'dvd': 1525, 'player': 3934, 'countri': 1124, 'algarv': 139, 'ansr': 214, 'sp': 4868, 'tyron': 5534, 'laid': 2849, 'dog': 1430, 'direct': 1383, 'join': 2708, 'largest': 2870, 'bt': 705, 'txting': 5525, 'gravel': 2181, 'nt': 3581, 'ec': 1549, 'haf': 2239, 'msn': 3372, 'yiju': 6060, 'hotmail': 2419, 'befor': 492, 'activ': 52, 'chat': 871, 'svc': 5120, 'hardcor': 2276, 'age': 98, 'yr': 6081, 'lazi': 2888, 'type': 5532, 'lect': 2905, 'pouch': 4010, 'sir': 4718, 'mail': 3107, 'swt': 5147, 'nver': 3598, 'tire': 5357, 'littl': 2972, 'lovabl': 3032, 'person': 3866, 'coz': 1134, 'somtim': 4837, 'occupi': 3618, 'biggest': 543, 'heart': 2314, 'gud': 2215, 'ni': 3504, 'open': 3679, 'ya': 6025, 'dot': 1459, 'what': 5841, 'staff': 4948, 'randi': 4216, 'sexi': 4595, 'femal': 1819, 'local': 2986, 'luv': 3066, 'netcollex': 3482, 'ltd': 3050, 'ummma': 5552, 'begin': 496, 'qatar': 4166, 'pray': 4041, 'hard': 2275, 'delet': 1297, 'sindu': 4711, 'birla': 553, 'soft': 4812, 'wine': 5887, 'flow': 1900, 'thk': 5307, 'plaza': 3937, 'typic': 5533, 'everywher': 1697, 'dirt': 1386, 'floor': 1897, 'window': 5886, 'shirt': 4644, 'sometim': 4830, 'mouth': 3354, 'dream': 1479, 'without': 5904, 'chore': 930, 'joy': 2720, 'tv': 5511, 'exist': 1725, 'hail': 2243, 'mist': 3276, 'becom': 481, 'aaooooright': 2, 'leav': 2904, 'hous': 2424, 'interview': 2597, 'boy': 638, 'annonc': 207, 'arrang': 295, 'keep': 2777, 'safe': 4454, 'envi': 1641, 'everyon': 1692, 'parent': 3792, 'hand': 2257, 'excit': 1717, 'spend': 4890, 'bootydeli': 620, 'bangbab': 426, 'order': 3699, 'content': 1085, 'goto': 2157, 'bangb': 425, 'internet': 2596, 'menu': 3215, 'cultur': 1193, 'modul': 3312, 'avoid': 376, 'missunderstd': 3275, 'wit': 5900, 'belov': 509, 'escap': 1661, 'fanci': 1780, 'bridg': 670, 'lager': 2848, 'complet': 1046, 'form': 1938, 'clark': 954, 'also': 159, 'utter': 5642, 'wast': 5773, 'axi': 387, 'bank': 428, 'hmmm': 2372, 'hop': 2404, 'muz': 3409, 'discuss': 1398, 'liao': 2929, 'bloodi': 585, 'hell': 2326, 'cant': 788, 'believ': 502, 'surnam': 5111, 'mr': 3361, 'ill': 2509, 'clue': 982, 'spanish': 4874, 'bath': 451, 'carlo': 806, 'mall': 3118, 'stay': 4969, 'til': 5350, 'smoke': 4783, 'worth': 5953, 'doesnt': 1429, 'log': 2991, 'spoke': 4914, 'maneesha': 3127, 'satisfi': 4493, 'experi': 1733, 'toll': 5398, 'lift': 2941, 'especi': 1665, 'approach': 257, 'studi': 5042, 'gr': 2165, 'trust': 5489, 'guy': 2229, 'bye': 751, 'handsom': 2260, 'toward': 5440, 'mummi': 3394, 'boytoy': 641, 'awesom': 381, 'minut': 3260, 'freephon': 1967, 'xma': 6007, 'radio': 4196, 'ju': 2727, 'si': 4686, 'uniqu': 5582, 'th': 5266, 'august': 355, 'areyouuniqu': 279, 'leagu': 2900, 'touch': 5436, 'deal': 1262, 'cours': 1128, 'howev': 2431, 'suggest': 5074, 'abl': 13, 'or': 3694, 'everi': 1688, 'stool': 5003, 'settl': 4590, 'wishin': 5897, 'mrng': 3363, 'hav': 2292, 'stori': 5013, 'hamster': 2256, 'dead': 1261, 'tmr': 5375, 'orchard': 3698, 'mrt': 3365, 'kate': 2767, 'babyjontet': 397, 'found': 1945, 'enc': 1611, 'darlin': 1244, 'ive': 2639, 'colleg': 1016, 'refil': 4284, 'success': 5062, 'inr': 2575, 'goodmorn': 2139, 'sleep': 4748, 'ga': 2021, 'alter': 160, 'dat': 1248, 'ericsson': 1650, 'oso': 3713, 'can': 779, 'not': 3562, 'oredi': 3701, 'straight': 5016, 'dogg': 1432, 'connect': 1074, 'shoot': 4657, 'big': 541, 'readi': 4244, 'bruv': 700, 'break': 659, 'semest': 4565, 'noe': 3535, 'leh': 2912, 'sound': 4859, 'head': 2303, 'slept': 4753, 'past': 3811, 'easi': 1538, 'sen': 4568, 'exam': 1713, 'march': 3138, 'atm': 338, 'regist': 4294, 'os': 3711, 'ubandu': 5536, 'instal': 2582, 'disk': 1400, 'import': 2525, 'file': 1843, 'system': 5155, 'repair': 4322, 'shop': 4658, 'romant': 4401, 'nite': 3527, 'sceneri': 4510, 'tc': 5203, 'biz': 562, 'optout': 3693, 'gbp': 2052, 'mtmsg': 3376, 'appreci': 256, 'partner': 3802, 'career': 802, 'flyng': 1906, 'horo': 2410, 'star': 4957, 'sign': 4694, 'ari': 284, 'compani': 1036, 'elama': 1585, 'po': 3955, 'mudyadhu': 3384, 'strict': 5025, 'teacher': 5209, 'bcoz': 469, 'teach': 5208, 'conduct': 1063, 'gandhipuram': 2032, 'walk': 5750, 'cross': 1164, 'road': 4389, 'side': 4691, 'rubber': 4426, 'batteri': 455, 'die': 1361, 'flirt': 1893, 'sam': 4468, 'recd': 4259, 'thirtyeight': 5305, 'penc': 3843, 'print': 4080, 'closer': 973, 'street': 5020, 'wil': 5875, 'theori': 5286, 'argument': 283, 'lose': 3017, 'argu': 282, 'kick': 2793, 'secret': 4543, 'admir': 67, 'reveal': 4359, 'tomarrow': 5400, 'laptop': 2865, 'case': 814, 'pleassssssseeeee': 3940, 'tel': 5220, 'avent': 372, 'sportsx': 4922, 'shine': 4641, 'meant': 3185, 'although': 162, 'told': 5395, 'baig': 409, 'face': 1755, 'fr': 1951, 'thanx': 5273, 'everyth': 1694, 'commerci': 1030, 'websit': 5800, 'slipper': 4758, 'kalli': 2756, 'bat': 448, 'inning': 2570, 'didnt': 1359, 'goodnight': 2140, 'fix': 1873, 'wake': 5747, 'dearli': 1266, 'congratul': 1073, 'cd': 831, 'voucher': 5728, 'gift': 2089, 'music': 3402, 'tnc': 5378, 'ldew': 2892, 'ppmx': 4024, 'ranjith': 4221, 'cal': 758, 'drpd': 1494, 'deeraj': 1285, 'deepak': 1282, 'hold': 2382, 'bcum': 470, 'angri': 200, 'wid': 5868, 'dnt': 1420, 'childish': 907, 'true': 5485, 'deep': 1281, 'affect': 85, 'care': 800, 'kettoda': 2784, 'manda': 3123, 'up': 5603, 'ship': 4643, 'usp': 5638, 'lag': 2846, 'bribe': 668, 'nipost': 3525, 'lem': 2915, 'me': 3180, 'necessarili': 3462, 'expect': 1731, 'headin': 2305, 'mmm': 3289, 'jolt': 2712, 'suzi': 5119, 'lover': 3036, 'video': 5688, 'handset': 2259, 'anytim': 231, 'unlimit': 5591, 'park': 3795, 'mini': 3251, 'disturb': 1407, 'luton': 3065, 'ring': 4379, 'horni': 2408, 'nake': 3425, 'hot': 2417, 'unsubscrib': 5600, 'dint': 1380, 'wana': 5760, 'sometm': 4831, 'club': 978, 'choos': 927, 'mk': 3286, 'wt': 5983, 'evo': 1703, 'flash': 1882, 'jealou': 2676, 'singl': 4714, 'chart': 868, 'qualiti': 4176, 'sort': 4855, 'narcot': 3434, 'sunni': 5087, 'ray': 4229, 'blue': 590, 'bay': 458, 'hmv': 2376, 'genuin': 2069, 'percent': 3850, 'might': 3235, 'object': 3612, 'bf': 531, 'rob': 4391, 'mack': 3088, 'gf': 2084, 'theater': 5278, 'celebr': 836, 'full': 2003, 'swing': 5142, 'tool': 5415, 'far': 1783, 'oki': 3648, 'ahold': 110, 'anybodi': 222, 'throw': 5329, 'babi': 395, 'cruisin': 1171, 'fone': 1918, 'jenni': 2683, 'ge': 2054, 'shall': 4613, 'tonit': 5412, 'varunnathu': 5662, 'edukkukaye': 1563, 'raksha': 4210, 'ollu': 3655, 'sens': 4573, 'gautham': 2044, 'stupid': 5048, 'cam': 773, 'buzi': 745, 'accident': 32, 'resend': 4334, 'phone': 3889, 'upgrad': 5607, 'sim': 4702, 'card': 797, 'loyalti': 3045, 'thfeb': 5295, 'unless': 5589, 'gurl': 2227, 'appropri': 258, 'teas': 5212, 'plz': 3951, 'rose': 4407, 'grave': 2180, 'bslvyl': 701, 'coffe': 1003, 'somebodi': 4821, 'high': 2349, 'diesel': 1362, 'shit': 4645, 'shock': 4654, 'scari': 4508, 'imagin': 2513, 'def': 1286, 'somewher': 4833, 'taxi': 5197, 'fridg': 1977, 'meal': 3181, 'womdarful': 5928, 'actor': 53, 'blind': 577, 'rodd': 4394, 'aberdeen': 8, 'unit': 5583, 'kingdom': 2805, 'img': 2516, 'icmb': 2485, 'cktz': 946, 'hide': 2348, 'remb': 4310, 'book': 613, 'jo': 2701, 'friendship': 1980, 'hang': 2261, 'thread': 5323, 'themob': 5283, 'newest': 3494, 'game': 2030, 'tone': 5407, 'gossip': 2150, 'sport': 4921, 'fit': 1870, 'funki': 2012, 'garag': 2036, 'key': 2785, 'bookshelf': 616, 'accept': 29, 'sister': 4720, 'clo': 969, 'lvblefrnd': 3071, 'jstfrnd': 2725, 'cutefrnd': 1212, 'lifpartnr': 2940, 'belovd': 510, 'swtheart': 5148, 'bstfrnd': 704, 'enemi': 1615, 'smart': 4773, 'weekli': 5810, 'cs': 1173, 'winnersclub': 5890, 'uz': 5648, 'definit': 1290, 'normal': 3556, 'rest': 4347, 'mylif': 3413, 'wot': 5956, 'lost': 3020, 'made': 3092, 'advanc': 76, 'pongal': 3979, 'kb': 2773, 'power': 4014, 'yoga': 6064, 'dunno': 1518, 'tahan': 5164, 'anot': 212, 'lo': 2982, 'dude': 1510, 'afraid': 89, 'decemb': 1271, 'mth': 3375, 'cake': 757, 'merri': 3219, 'christma': 935, 'kiss': 2810, 'cud': 1189, 'ppl': 4018, 'gona': 2131, 'buse': 735, 'waitin': 5746, 'pete': 3873, 'guild': 2223, 'bristol': 681, 'problem': 4095, 'track': 5445, 'record': 4270, 'read': 4242, 'women': 5929, 'light': 2942, 'apo': 240, 'return': 4358, 'immedi': 2519, 'germani': 2074, 'line': 2954, 'via': 5681, 'access': 30, 'prepay': 4052, 'evapor': 1681, 'violat': 5700, 'privaci': 4085, 'steal': 4975, 'employ': 1607, 'paperwork': 3782, 'report': 4327, 'supervisor': 5097, 'valentin': 5653, 'lifetim': 2939, 'rcvd': 4236, 'custcar': 1206, 'daaaaa': 1222, 'dine': 1375, 'surf': 5108, 'post': 4002, 'wiv': 5908, 'carolin': 807, 'favourit': 1802, 'stranger': 5018, 'interest': 2592, 'two': 5521, 'round': 4409, 'gudnit': 2217, 'practic': 4029, 'huim': 2449, 'num': 3590, 'small': 4771, 'prestig': 4064, 'shag': 4607, 'sextextuk': 4597, 'xxuk': 6014, 'jeremiah': 2684, 'iphon': 2615, 'apeshit': 237, 'ever': 1687, 'misbehav': 3263, 'slap': 4746, 'urself': 5627, 'fault': 1796, 'basic': 444, 'figur': 1841, 'alcohol': 132, 'jay': 2668, 'weed': 5806, 'onam': 3661, 'sirji': 4719, 'met': 3224, 'insur': 2588, 'insha': 2577, 'allah': 147, 'rakhesh': 4209, 'ex': 1710, 'tata': 5191, 'aig': 112, 'tissco': 5361, 'tayseer': 5201, 'balanc': 415, 'current': 1201, 'maxim': 3170, 'cc': 829, 'hg': 2344, 'suit': 5075, 'land': 2854, 'row': 4412, 'unemploy': 5572, 'moment': 3319, 'andrew': 197, 'cold': 1010, 'chikku': 905, 'db': 1257, 'audrey': 353, 'statu': 4968, 'forward': 1944, 'dawn': 1253, 'refresh': 4288, 'aliv': 145, 'breath': 663, 'air': 115, 'motorola': 3351, 'sonyericsson': 4842, 'bluetooth': 591, 'orang': 3696, 'mobileupd': 3305, 'discount': 1396, 'rp': 4415, 'regalportfolio': 4292, 'uniform': 5580, 'geeee': 2056, 'woke': 5925, 'cuddl': 1190, 'spoil': 4912, 'agre': 103, 'will': 5879, 'refer': 4281, 'seen': 4554, 'recognis': 4269, 'lindsay': 2953, 'sigh': 4692, 'bar': 432, 'ptbo': 4139, 'heron': 2339, 'payasam': 3825, 'rinu': 4382, 'bring': 678, 'taught': 5194, 'becau': 479, 'he': 2302, 'project': 4109, 'prabu': 4027, 'mistak': 3277, 'bodi': 601, 'quit': 4185, 'slow': 4764, 'guid': 2221, 'ovul': 3745, 'relax': 4302, 'reason': 4253, 'followin': 1915, 'coupl': 1125, 'wallet': 5754, 'dx': 1528, 'owl': 3748, 'lick': 2933, 'mm': 3288, 'rental': 4320, 'mobilesdirect': 3303, 'stoptxt': 5010, 'huh': 2447, 'sat': 4490, 'intro': 2601, 'pilat': 3909, 'kickbox': 2794, 'offic': 3630, 'lap': 2863, 'shut': 4685, 'bout': 634, 'ish': 2625, 'calcul': 759, 'period': 3858, 'actual': 54, 'rock': 4393, 'put': 4160, 'pictur': 3903, 'ass': 319, 'facebook': 1756, 'al': 127, 'salam': 4461, 'wahleykkum': 5743, 'share': 4621, 'grace': 2167, 'god': 2119, 'inshah': 2578, 'visitor': 5711, 'india': 2549, 'field': 1832, 'quickli': 4183, 'administr': 66, 'poli': 3971, 'pw': 4164, 'chechi': 877, 'cream': 1151, 'none': 3545, 'yep': 6049, 'loxahatche': 3043, 'tree': 5469, 'stoner': 5002, 'slightli': 4756, 'disastr': 1393, 'fav': 1797, 'wld': 5917, 'drink': 1484, 'busetop': 736, 'sender': 4570, 'fullonsm': 2004, 'iron': 2620, 'yan': 6031, 'jiu': 2699, 'skip': 4738, 'den': 1307, 'blah': 567, 'wendi': 5824, 'whatsup': 5843, 'competit': 1041, 'txttowin': 5529, 'logo': 2993, 'mobno': 3306, 'adam': 56, 'eve': 1682, 'yahoo': 6027, 'txtno': 5526, 'ad': 55, 'tf': 5263, 'siva': 4727, 'hostel': 2415, 'aha': 105, 'voic': 5720, 'express': 1743, 'sentiment': 4579, 'rowdi': 4413, 'ful': 2001, 'attitud': 346, 'attract': 347, 'funni': 2013, 'aathi': 3, 'urin': 5623, 'esplanad': 1666, 'mind': 3247, 'wnt': 5921, 'bmw': 596, 'vri': 5730, 'hv': 2466, 'shortag': 4663, 'fifteen': 1836, 'fuck': 1995, 'respond': 4345, 'vari': 5659, 'bcm': 467, 'ldn': 2893, 'wc': 5790, 'hillsborough': 2353, 'askin': 314, 'iouri': 2611, 'ten': 5233, 'applebe': 252, 'journey': 2719, 'hasnt': 2285, 'gd': 2053, 'bhaji': 534, 'cricket': 1159, 'sachin': 4448, 'tough': 5437, 'suppos': 5103, 'oic': 3640, 'tot': 5433, 'din': 1374, 'group': 2201, 'wereth': 5830, 'monkeespeopl': 3324, 'monkeyaround': 3326, 'howdi': 2430, 'gorgeou': 2147, 'blimey': 576, 'exercis': 1721, 'kinda': 2802, 'concentr': 1058, 'hank': 2264, 'lotsli': 3023, 'detail': 1334, 'transfer': 5456, 'acc': 27, 'optimist': 3690, 'improv': 2531, 'purpos': 4155, 'homeown': 2390, 'tenant': 5234, 'welcom': 5819, 'previous': 4072, 'refus': 4290, 'oreo': 3702, 'truffl': 5486, 'ami': 174, 'ure': 5617, 'beauti': 477, 'intellig': 2589, 'woman': 5927, 'result': 4353, 'consist': 1079, 'kind': 2801, 'practicum': 4030, 'ear': 1532, 'ttyl': 5497, 'isnt': 2628, 'bad': 403, 'thru': 5332, 'differ': 1365, 'waver': 5785, 'decis': 1275, 'cope': 1102, 'individu': 2552, 'heal': 2308, 'upgrdcentr': 5608, 'juli': 2733, 'opt': 3688, 'railway': 4201, 'princess': 4079, 'oral': 3695, 'doggi': 1433, 'style': 5049, 'fave': 1798, 'posit': 3999, 'enjoy': 1623, 'slipperi': 4759, 'bike': 544, 'mani': 3130, 'languag': 2860, 'okmail': 3649, 'dave': 1252, 'notic': 3567, 'tenerif': 5236, 'sae': 4452, 'cw': 1217, 'wx': 5997, 'scream': 4526, 'remov': 4316, 'flat': 1883, 'dollar': 1442, 'ja': 2645, 'moan': 3298, 'nyt': 3606, 'broken': 688, 'cum': 1194, 'infront': 2562, 'wise': 5895, 'tension': 5238, 'machi': 3085, 'mcr': 3179, 'sec': 4540, 'tast': 5189, 'fb': 1803, 'jaykwon': 2670, 'thuglyf': 5335, 'falconerf': 1772, 'term': 5240, 'condit': 1062, 'visit': 5710, 'depend': 1314, 'fade': 1760, 'glori': 2108, 'ralph': 4212, 'dri': 1483, 'trade': 5447, 'meh': 3199, 'nope': 3551, 'monday': 3321, 'accentur': 28, 'jackson': 2650, 'rec': 4258, 'center': 839, 'fight': 1839, 'either': 1580, 'fightng': 1840, 'dificult': 1368, 'nuerologist': 3589, 'lolnic': 2997, 'fish': 1867, 'water': 5779, 'bore': 622, 'outsid': 3733, 'westshor': 5836, 'hyde': 2469, 'villag': 5698, 'near': 3455, 'anthoni': 219, 'fee': 1811, 'rent': 4319, 'signific': 4696, 'opinion': 3682, 'jada': 2652, 'kusruthi': 2836, 'silent': 4699, 'spl': 4905, 'charact': 862, 'matur': 3168, 'stylish': 5050, 'simpl': 4704, 'scroung': 4529, 'ammo': 179, 'ak': 124, 'prabha': 4026, 'soryda': 4857, 'reali': 4246, 'frm': 1982, 'sori': 4852, 'forgiven': 1934, 'jst': 2724, 'tat': 5190, 'gb': 2051, 'ipod': 2616, 'mp': 3358, 'ibhltd': 2474, 'mtmsgrcvd': 3377, 'boltblu': 606, 'mono': 3327, 'cha': 848, 'slide': 4755, 'jamz': 2658, 'toxic': 5442, 'bubbletext': 709, 'renew': 4318, 'pin': 3913, 'tgxxrz': 5265, 'transport': 5458, 'less': 2921, 'problemat': 4096, 'bday': 472, 'no': 3532, 'unconsci': 5562, 'children': 909, 'adult': 75, 'behav': 499, 'abnorm': 14, 'ebay': 1548, 'elsewher': 1595, 'pickl': 3901, 'taco': 5160, 'rude': 4427, 'campu': 778, 'attempt': 342, 'qu': 4175, 'ma': 3077, 'savamob': 4497, 'member': 3207, 'sub': 5051, 'unsub': 5599, 'pretti': 4068, 'ladi': 2845, 'reciev': 4267, 'within': 5903, 'channel': 858, 'teletext': 5223, 'pg': 3877, 'faggot': 1762, 'un': 5554, 'redeem': 4277, 'malaria': 3115, 'bani': 427, 'lead': 2896, 'passion': 3808, 'across': 48, 'sea': 4536, 'probabl': 4094, 'fat': 1791, 'finger': 1856, 'button': 742, 'ummmmmaah': 5553, 'tirupur': 5360, 'applausestor': 251, 'monthlysubscript': 3332, 'max': 3169, 'csc': 1175, 'web': 5796, 'famou': 1778, 'develop': 1338, 'abil': 10, 'listen': 2967, 'uncondit': 5561, 'temper': 5231, 'self': 4559, 'confid': 1066, 'marri': 3147, 'oclock': 3621, 'mine': 3249, 'bash': 443, 'recoveri': 4272, 'id': 2487, 'rather': 4225, 'coop': 1099, 'hotel': 2418, 'cali': 760, 'english': 1622, 'bloke': 581, 'weddin': 5802, 'omw': 3660, 'btw': 706, 'alibi': 144, 'sink': 4715, 'pace': 3756, 'cage': 756, 'cock': 999, 'surround': 5114, 'remind': 4314, 'own': 3749, 'cuck': 1188, 'hurri': 2459, 'defici': 1289, 'three': 5325, 'acknowledg': 44, 'astoundingli': 329, 'tactless': 5162, 'gener': 2062, 'faggi': 1761, 'demand': 1306, 'blood': 584, 'oath': 3608, 'fo': 1910, 'warm': 5766, 'milk': 3240, 'magic': 3100, 'loos': 3013, 'pan': 3768, 'cheap': 874, 'perhap': 3856, 'silli': 4700, 'uv': 5645, 'mutat': 3408, 'sunscreen': 5090, 'essenti': 1668, 'theseday': 5289, 'onlin': 3667, 'pic': 3899, 'aiyo': 121, 'mei': 3200, 'fast': 1788, 'workin': 5946, 'bao': 431, 'sugardad': 5073, 'gee': 2055, 'browni': 694, 'geeeee': 2057, 'bare': 435, 'mrw': 3366, 'ninish': 3523, 'icki': 2484, 'american': 173, 'freek': 1964, 'callin': 770, 'jen': 2681, 'oooh': 3675, 'ridden': 4372, 'ey': 1749, 'gym': 2232, 'whatev': 5842, 'daddi': 1226, 'dick': 1355, 'missi': 3270, 'yar': 6032, 'mum': 3391, 'sch': 4511, 'clean': 961, 'lab': 2840, 'goggl': 2121, 'door': 1453, 'arngd': 290, 'marriag': 3148, 'walkin': 5752, 'unfortuntli': 5576, 'snake': 4792, 'bite': 561, 'danc': 1232, 'frnt': 1987, 'sayin': 4502, 'izzit': 2644, 'textand': 5256, 'wife': 5871, 'kid': 2796, 'jjc': 2700, 'tendenc': 5235, 'headach': 2304, 'jazz': 2672, 'yogasana': 6065, 'em': 1597, 'meiv': 3201, 'hardli': 2279, 'gotani': 2153, 'srsli': 4942, 'yi': 6058, 'spree': 4929, 'ag': 97, 'promo': 4114, 'grand': 2172, 'prix': 4087, 'nitz': 3530, 'announc': 208, 'exhaust': 1723, 'train': 5450, 'pie': 3904, 'present': 4058, 'ar': 269, 'blastin': 572, 'tsunami': 5495, 'occur': 3619, 'rajnik': 4208, 'swim': 5140, 'indian': 2550, 'ocean': 3620, 'noon': 3548, 'xclusiv': 6003, 'clubsaisai': 980, 'morow': 3340, 'soire': 4815, 'zouk': 6105, 'nichol': 3507, 'pari': 3793, 'bridgwat': 671, 'banter': 430, 'neva': 3488, 'imma': 2518, 'somethin': 4829, 'euro': 1676, 'daili': 1228, 'que': 4178, 'cer': 841, 'often': 3635, 'futur': 2016, 'hundr': 2453, 'aunti': 357, 'shuhui': 4683, 'leona': 2919, 'reaction': 4241, 'famili': 1776, 'snow': 4802, 'weather': 5795, 'togeth': 5388, 'grow': 2202, 'dismay': 1402, 'alex': 137, 'concern': 1059, 'pub': 4141, 'bud': 711, 'offici': 3631, 'paid': 3762, 'market': 3144, 'tootsi': 5420, 'pop': 3989, 'longer': 3004, 'darren': 1245, 'textbuddi': 5258, 'area': 275, 'postcod': 4005, 'gaytextbuddi': 2049, 'vodafon': 5718, 'seventeen': 4592, 'seven': 4591, 'ml': 3287, 'holder': 2383, 'pc': 3831, 'tlp': 5370, 'expressoff': 1744, 'ts': 5492, 'sweetheart': 5136, 'biola': 551, 'login': 2992, 'dad': 1225, 'fetch': 1822, 'restock': 4349, 'thanksgiv': 5270, 'effect': 1568, 'brighten': 674, 'wee': 5805, 'thursday': 5337, 'allo': 150, 'brave': 653, 'taken': 5171, 'triumph': 5477, 'jolli': 2711, 'cartoon': 813, 'templ': 5232, 'church': 939, 'uncomfort': 5560, 'email': 1598, 'rstm': 4420, 'sw': 5121, 'ss': 4944, 'gentl': 2065, 'sonetim': 4839, 'rough': 4408, 'panic': 3772, 'tuesday': 5499, 'wesley': 5831, 'town': 5441, 'bet': 520, 'hella': 2327, 'drug': 1495, 'dealer': 1263, 'impati': 2522, 'sun': 5083, 'earth': 1537, 'cloud': 976, 'river': 4387, 'evng': 1702, 'wikipedia': 5874, 'premium': 4050, 'lay': 2887, 'envelop': 1640, 'paper': 3781, 'repent': 4324, 'de': 1260, 'prepar': 4051, 'kama': 2758, 'sutra': 5117, 'en': 1610, 'nang': 3431, 'bakra': 413, 'kalstiya': 2757, 'ho': 2377, 'belli': 506, 'laugh': 2880, 'ditto': 1408, 'peac': 3834, 'knw': 2822, 'wetherspoon': 5838, 'piggi': 3908, 'awak': 378, 'freaki': 1958, 'yell': 6045, 'scrappi': 4524, 'lone': 3001, 'hex': 2341, 'explain': 1738, 'sdryb': 4534, 'xy': 6024, 'sue': 5067, 'lapdanc': 2864, 'sex': 4594, 'bedroom': 486, 'textoper': 5261, 'ppmsg': 4023, 'king': 2804, 'build': 719, 'map': 3134, 'imprtant': 2532, 'tomorw': 5405, 'cherthala': 893, 'cochin': 998, 'bfore': 533, 'accordingli': 37, 'tmorow': 5373, 'engag': 1618, 'an': 190, 'torch': 5426, 'bold': 604, 'farm': 1784, 'law': 2885, 'purchas': 4152, 'poop': 3985, 'gpu': 2164, 'entrepreneur': 1635, 'corpor': 1106, 'gap': 2035, 'prevent': 4069, 'dehydr': 1294, 'fluid': 1902, 'weird': 5814, 'idea': 2489, 'away': 380, 'trek': 5470, 'harri': 2283, 'drivin': 1489, 'fantast': 1782, 'gage': 2022, 'deck': 1276, 'cnupdat': 990, 'newslett': 3499, 'alert': 134, 'height': 2323, 'aeronaut': 82, 'professor': 4104, 'wer': 5828, 'calld': 766, 'shitstorm': 4650, 'attribut': 348, 'stress': 5021, 'dorm': 1454, 'sell': 4563, 'csbcm': 1174, 'callcost': 765, 'mobilesvari': 3304, 'sth': 4988, 'spec': 4880, 'px': 4165, 'macha': 3083, 'upset': 5611, 'assum': 325, 'mindset': 3248, 'wondar': 5930, 'flim': 1890, 'cooki': 1097, 'jelli': 2680, 'admit': 69, 'mad': 3090, 'scrumptiou': 4530, 'ba': 391, 'dao': 1238, 'exactli': 1712, 'jide': 2698, 'alertfrom': 135, 'jeri': 2685, 'stewarts': 4986, 'kbsubject': 2774, 'low': 3041, 'prescripiton': 4055, 'drvgsto': 1501, 'spring': 4930, 'yay': 6038, 'steak': 4974, 'twice': 5515, 'neglect': 3473, 'opportun': 3685, 'add': 57, 'prayer': 4042, 'txtauction': 5523, 'ctxt': 1187, 'rite': 4385, 'faster': 1789, 'gal': 2026, 'attach': 340, 'glad': 2102, 'clock': 970, 'shout': 4670, 'realis': 4247, 'wahay': 5740, 'shorter': 4666, 'gaze': 2050, 'eye': 1750, 'subscrib': 5056, 'helplin': 2332, 'spoken': 4915, 'gist': 2098, 'thousand': 5321, 'tattoo': 5192, 'premier': 4049, 'gim': 2092, 'lip': 2964, 'caveboy': 827, 'librari': 2932, 'confus': 1071, 'holla': 2387, 'anyon': 225, 'spare': 4875, 'faith': 1768, 'possibl': 4001, 'vibrat': 5683, 'act': 49, 'grandma': 2174, 'hungov': 2454, 'unclaim': 5559, 'closingd': 974, 'claimcod': 950, 'pmmorefrommobil': 3953, 'bremov': 667, 'mobypobox': 3309, 'yf': 6056, 'gua': 2211, 'mt': 3373, 'faber': 1754, 'yest': 6051, 'citi': 943, 'summer': 5080, 'store': 5012, 'skilgm': 4732, 'tsc': 5494, 'winawk': 5883, 'perwksub': 3871, 'goin': 2123, 'meetin': 3196, 'ti': 5339, 'dramat': 1475, 'appar': 245, 'inch': 2534, 'anywher': 233, 'damn': 1230, 'hunt': 2458, 'drunkard': 1499, 'idc': 2488, 'weasel': 5794, 'trash': 5459, 'beg': 494, 'sing': 4712, 'slave': 4747, 'punish': 4147, 'beerag': 491, 'randomlli': 4219, 'diff': 1364, 'perfect': 3853, 'commun': 1033, 'polyphon': 3978, 'toppoli': 5424, 'tune': 5506, 'subpoli': 5055, 'pole': 3970, 'fondli': 1917, 'bein': 501, 'thot': 5316, 'dogbreath': 1431, 'jan': 2659, 'omg': 3659, 'weigh': 5811, 'woohoo': 5937, 'uncount': 5564, 'dictionari': 1357, 'piec': 3905, 'thmarch': 5310, 'availa': 366, 'petey': 3874, 'wherear': 5850, 'friendsar': 1979, 'thekingshead': 5281, 'canlov': 785, 'nic': 3505, 'ago': 102, 'appt': 261, 'mate': 3160, 'getz': 2082, 'norm': 3555, 'cashto': 817, 'getstop': 2080, 'php': 3894, 'rg': 4364, 'jx': 2747, 'dled': 1416, 'imp': 2521, 'smokin': 4784, 'boooo': 617, 'bec': 478, 'ugh': 5539, 'nervou': 3479, 'costum': 1115, 'yowif': 6079, 'hint': 2355, 'borrow': 625, 'bag': 407, 'outbid': 3725, 'simonwatson': 4703, 'shinco': 4639, 'plyr': 3950, 'bid': 540, 'smsreward': 4788, 'notif': 3568, 'model': 3311, 'youi': 6069, 'galileo': 2027, 'dobbi': 1422, 'boo': 611, 'enjoyin': 1624, 'yourjob': 6075, 'gettin': 2081, 'hunni': 2457, 'llspeak': 2979, 'soonlot': 4846, 'lovem': 3035, 'xxxx': 6017, 'starshin': 4960, 'ach': 40, 'sip': 4716, 'cappuccino': 794, 'smsservic': 4789, 'yourinclus': 6074, 'comuk': 1055, 'qxj': 4191, 'extra': 1746, 'cm': 983, 'ae': 81, 'alfi': 138, 'moon': 3334, 'chariti': 864, 'zed': 6097, 'profit': 4106, 'hahaha': 2241, 'brain': 646, 'green': 2191, 'burial': 731, 'mojibiola': 3315, 'cust': 1205, 'rv': 4440, 'rvx': 4441, 'skype': 4742, 'kz': 2838, 'sura': 5106, 'given': 2101, 'ultimatum': 5548, 'countin': 1122, 'aburo': 23, 'five': 1872, 'inconsider': 2540, 'nag': 3420, 'recess': 4265, 'henc': 2335, 'wed': 5801, 'soo': 4843, 'understand': 5567, 'morrow': 3343, 'comprehens': 1050, 'prashanthettan': 4039, 'mother': 3347, 'ibiza': 2475, 'await': 377, 'sk': 4730, 'wp': 5964, 'meanwhil': 3186, 'xavier': 6001, 'stomach': 4999, 'trauma': 5460, 'swear': 5131, 'matter': 3166, 'shoe': 4655, 'inner': 2569, 'tigress': 5347, 'version': 5678, 'poor': 3986, 'urfeel': 5618, 'bettersn': 525, 'probthat': 4098, 'overdos': 3740, 'spk': 4904, 'sn': 4791, 'lovejen': 3034, 'fall': 1773, 'discreet': 1397, 'vip': 5703, 'hai': 2242, 'ana': 191, 'spoon': 4919, 'tampa': 5181, 'geniu': 2063, 'whenev': 5848, 'lotta': 3024, 'corvett': 1111, 'suppli': 5100, 'virgin': 5706, 'mysteri': 3417, 'smsco': 4786, 'approx': 260, 'wall': 5753, 'bunker': 727, 'xxxxxx': 6019, 'posh': 3997, 'bird': 552, 'chap': 859, 'user': 5634, 'trial': 5473, 'prod': 4100, 'champney': 855, 'dob': 1421, 'asap': 305, 'philosoph': 3885, 'hole': 2384, 'drop': 1492, 'nap': 3433, 'atleast': 337, 'otherwis': 3716, 'shakespear': 4612, 'shesil': 4633, 'travel': 5462, 'ntt': 3584, 'cr': 1137, 'fixedlin': 1875, 'castor': 819, 'liverpool': 2975, 'mid': 3232, 'stopsm': 5008, 'doit': 1438, 'mymobi': 3414, 'knew': 2817, 'woul': 5959, 'curfew': 1199, 'gibe': 2088, 'midnight': 3234, 'getsleep': 2079, 'studdi': 5039, 'massag': 3154, 'oil': 3641, 'sup': 5093, 'yoyyooo': 6080, 'permiss': 3861, 'mac': 3081, 'usb': 5630, 'gibb': 2087, 'unsold': 5598, 'mike': 3237, 'hussey': 2463, 'fail': 1764, 'sad': 4451, 'unbeliev': 5556, 'faglord': 1763, 'murder': 3399, 'nutter': 3597, 'cutter': 1215, 'ctter': 1185, 'cttergg': 1186, 'cttargg': 1184, 'ctargg': 1181, 'ctagg': 1180, 'ie': 2497, 'thu': 5334, 'superb': 5095, 'grate': 2179, 'happier': 2272, 'agent': 100, 'due': 1512, 'sever': 4593, 'outstand': 3734, 'invoic': 2609, 'smell': 4778, 'tobacco': 5381, 'derek': 1319, 'taylor': 5200, 'worst': 5952, 'charl': 865, 'lastest': 2874, 'stereophon': 4982, 'marley': 3145, 'dizze': 1414, 'racal': 4193, 'libertin': 2931, 'stroke': 5030, 'nookii': 3547, 'bookmark': 615, 'plu': 3945, 'grinul': 2196, 'greet': 2192, 'white': 5857, 'fudg': 1998, 'januari': 2662, 'male': 3117, 'sale': 4463, 'gay': 2047, 'cheaper': 875, 'peak': 3836, 'zaher': 6094, 'ym': 6061, 'nauseou': 3447, 'piss': 3917, 'pig': 3907, 'diet': 1363, 'chip': 921, 'iam': 2472, 'addict': 60, 'msging': 3369, 'wrong': 5979, 'photo': 3892, 'yck': 6039, 'ashley': 308, 'avalarr': 367, 'hollalat': 2388, 'attend': 344, 'blog': 579, 'magicalsong': 3101, 'blogspot': 580, 'aftr': 96, 'ate': 333, 'kvb': 2837, 'million': 3242, 'ppt': 4025, 'jy': 2748, 'altern': 161, 'ore': 3700, 'mo': 3297, 'owo': 3750, 'fro': 1988, 'wherev': 5851, 'samu': 4471, 'shoulder': 4669, 'matthew': 3167, 'lux': 3068, 'xh': 6005, 'wear': 5793, 'jean': 2677, 'fever': 1823, 'vomitin': 5725, 'hp': 2433, 'stuf': 5045, 'bleh': 574, 'least': 2903, 'writh': 5973, 'ton': 5406, 'paypal': 3830, 'voila': 5722, 'pocket': 3961, 'theyr': 5294, 'medic': 3192, 'folk': 1913, 'sorta': 4856, 'blown': 588, 'score': 4518, 'sopha': 4850, 'secondari': 4542, 'applic': 254, 'ogunrind': 3637, 'expens': 1732, 'tcr': 5204, 'lodg': 2990, 'chk': 923, 'ms': 3367, 'dict': 1356, 'shb': 4624, 'truth': 5490, 'graviti': 2183, 'heavi': 2318, 'bowl': 636, 'filthi': 1847, 'brand': 650, 'simpler': 4705, 'welp': 5822, 'retir': 4356, 'natwest': 3445, 'chad': 850, 'gymnast': 2233, 'site': 4722, 'christian': 934, 'necklac': 3464, 'token': 5393, 'aptitud': 266, 'hors': 2412, 'race': 4194, 'earlier': 1534, 'chicken': 902, 'rice': 4369, 'wrongli': 5980, 'crap': 1143, 'borin': 623, 'boggi': 602, 'biatch': 539, 'nxt': 3602, 'hesit': 2340, 'notebook': 3564, 'salari': 4462, 'chocol': 925, 'potenti': 4008, 'talent': 5173, 'reckon': 4268, 'eightish': 1578, 'carpark': 809, 'videophon': 5690, 'videochat': 5689, 'java': 2667, 'dload': 1418, 'polyph': 3977, 'nolin': 3542, 'rentl': 4321, 'fuckin': 1996, 'yun': 6087, 'ubi': 5537, 'iren': 2618, 'ere': 1648, 'cre': 1150, 'tech': 5213, 'ph': 3878, 'wkg': 5913, 'sd': 4532, 'butt': 740, 'sore': 4851, 'parti': 3798, 'stripe': 5029, 'skirt': 4739, 'miracl': 3261, 'jesu': 2690, 'escal': 1660, 'quiet': 4184, 'beth': 522, 'aunt': 356, 'charli': 866, 'helen': 2325, 'heard': 2312, 'panason': 3770, 'bluetoothhdset': 592, 'doublemin': 1461, 'doubletxt': 1462, 'contract': 1088, 'poyyarikatur': 4015, 'kolathupalayam': 2825, 'unjalur': 5586, 'erod': 1652, 'hero': 2338, 'apt': 265, 'kerala': 2782, 'terribl': 5245, 'fan': 1779, 'meat': 3188, 'suprem': 5104, 'regret': 4296, 'cudnt': 1191, 'drove': 1493, 'ctla': 1183, 'ent': 1629, 'ishtamayoo': 2626, 'bakrid': 414, 'exe': 1719, 'gloriou': 2109, 'anniversari': 206, 'prey': 4073, 'coax': 995, 'imag': 2512, 'fond': 1916, 'souveni': 4865, 'cougar': 1117, 'pen': 3842, 'secretli': 4545, 'datebox': 1251, 'essexcm': 1669, 'xn': 6008, 'pattern': 3818, 'throat': 5328, 'scratch': 4525, 'plm': 3943, 'asleep': 316, 'foreign': 1928, 'stamp': 4953, 'lectur': 2906, 'sheffield': 4628, 'nanni': 3432, 'rais': 4203, 'zoe': 6102, 'shitin': 4647, 'defo': 1292, 'hardest': 2278, 'lekdog': 2914, 'fill': 1844, 'loverboy': 3037, 'blanket': 571, 'suffici': 5069, 'thx': 5338, 'edison': 1558, 'rightli': 4376, 'fool': 1920, 'speechless': 4885, 'viva': 5714, 'gm': 2111, 'atten': 343, 'roast': 4390, 'hb': 2299, 'educ': 1562, 'seriou': 4584, 'kickoff': 2795, 'june': 2738, 'rd': 4237, 'data': 1249, 'analysi': 193, 'thesi': 5290, 'belliger': 507, 'hiya': 2365, 'april': 263, 'le': 2895, 'rudi': 4428, 'snore': 4800, 'drunk': 1498, 'ink': 2566, 'eastend': 1543, 'flower': 1901, 'compar': 1038, 'violet': 5702, 'tulip': 5503, 'lili': 2949, 'wkent': 5912, 'technic': 5214, 'support': 5102, 'process': 4099, 'finalis': 1850, 'flirtparti': 1894, 'bitch': 560, 'dentist': 1312, 'wu': 5989, 'xchat': 6002, 'lul': 3060, 'juici': 2730, 'nurs': 3592, 'she': 4626, 'obes': 3610, 'oyea': 3752, 'oi': 3639, 'parchi': 3790, 'kicchu': 2792, 'kaaj': 2749, 'kort': 2830, 'iccha': 2480, 'korch': 2827, 'tul': 5502, 'sculptur': 4531, 'convey': 1094, 'regard': 4293, 'surya': 5116, 'vijay': 5693, 'pokkiri': 3969, 'dearer': 1265, 'dem': 1305, 'sorrow': 4854, 'craziest': 1147, 'proov': 4120, 'planet': 3929, 'prais': 4032, 'curri': 1202, 'maki': 3113, 'sambar': 4470, 'ndship': 3453, 'needl': 3469, 'evn': 1701, 'itz': 2638, 'alwi': 167, 'conect': 1064, 'spatula': 4878, 'sipix': 4717, 'digit': 1370, 'bp': 642, 'warranti': 5769, 'doctor': 1425, 'complex': 1047, 'freeli': 1965, 'tax': 5196, 'outrag': 3731, 'tomorro': 5403, 'ryder': 4445, 'receipt': 4260, 'elvi': 1596, 'presley': 4060, 'fret': 1974, 'strip': 5028, 'postal': 4003, 'cliff': 967, 'ne': 3454, 'wrking': 5976, 'uni': 5578, 'depress': 1316, 'sittin': 4725, 'wind': 5884, 'black': 564, 'aiyah': 119, 'onto': 3670, 'urawinn': 5616, 'surpris': 5112, 'hen': 2334, 'italian': 2630, 'grin': 2194, 'math': 3161, 'dhoni': 1346, 'teju': 5219, 'hourish': 2423, 'ground': 2200, 'amla': 177, 'durban': 1520, 'conveni': 1091, 'evalu': 1680, 'speed': 4886, 'speedchat': 4887, 'swap': 5125, 'chatter': 873, 'rcd': 4233, 'cancel': 783, 'cheyyamo': 897, 'aiyar': 120, 'survey': 5115, 'who': 5859, 'error': 1655, 'difficulti': 1367, 'howz': 2432, 'tau': 5193, 'sar': 4481, 'piah': 3898, 'stchoic': 4971, 'film': 1845, 'shade': 4605, 'notifi': 3569, 'luck': 3055, 'station': 4967, 'tank': 5182, 'fil': 1842, 'sexual': 4598, 'cute': 1211, 'sitter': 4724, 'kaitlyn': 2753, 'danger': 1237, 'peep': 3839, 'comment': 1029, 'veggi': 5671, 'neighbor': 3474, 'computerless': 1054, 'balloon': 418, 'drm': 1491, 'wrc': 5967, 'ralli': 4211, 'oz': 3754, 'lucozad': 3058, 'energi': 1616, 'itcould': 2631, 'melodi': 3205, 'horribl': 2411, 'toot': 5417, 'bigger': 542, 'nw': 3601, 'hme': 2370, 'island': 2627, 'chennai': 890, 'velacheri': 5673, 'flippin': 1892, 'cstore': 1178, 'annoy': 209, 'hangin': 2263, 'makin': 3114, 'shame': 4614, 'quizz': 4189, 'popcorn': 3990, 'jordan': 2716, 'celeb': 835, 'pocketbab': 3962, 'voicemail': 5721, 'thin': 5299, 'fed': 1809, 'himso': 2354, 'neft': 3471, 'transact': 5454, 'tuition': 5501, 'choic': 926, 'semi': 4566, 'deliv': 1300, 'exp': 1730, 'apr': 262, 'strong': 5031, 'arm': 287, 'maaaan': 3078, 'guessin': 2220, 'walmart': 5756, 'ilol': 2510, 'wuldnt': 5993, 'mite': 3279, 'creepi': 1156, 'lunchtim': 3062, 'organis': 3704, 'passabl': 3807, 'phd': 3882, 'easier': 1539, 'nok': 3540, 'txtin': 5524, 'prakesh': 4035, 'rofl': 4396, 'betta': 523, 'invest': 2605, 'anti': 220, 'product': 4101, 'delay': 1296, 'accommod': 33, 'variou': 5660, 'global': 2107, 'phb': 3881, 'submit': 5054, 'textcomp': 5259, 'snatch': 4795, 'purs': 4156, 'drivbi': 1486, 'edrunk': 1560, 'iff': 2498, 'pthi': 4140, 'senrd': 4572, 'dnot': 1419, 'dancc': 1233, 'drum': 1497, 'basq': 447, 'ihav': 2502, 'nhite': 3503, 'ro': 4388, 'xxxxxxx': 6020, 'reliev': 4305, 'westonzoyland': 5835, 'europ': 1678, 'nobodi': 3534, 'chines': 917, 'doc': 1423, 'havin': 2296, 'mc': 3175, 'hun': 2452, 'ava': 364, 'goodtim': 2144, 'oli': 3654, 'rang': 4220, 'melnit': 3204, 'ifink': 2499, 'everythin': 1695, 'mon': 3320, 'rs': 4419, 'flip': 1891, 'shun': 4684, 'bian': 538, 'glass': 2105, 'exhibit': 1724, 'el': 1581, 'nino': 3524, 'cbe': 828, 'honey': 2394, 'jd': 2674, 'execut': 1720, 'downstem': 1468, 'wahala': 5739, 'inperialmus': 2573, 'weirdest': 5815, 'leafcutt': 2899, 'john': 2707, 'insect': 2576, 'molest': 3317, 'plumb': 3947, 'remix': 4315, 'evil': 1700, 'acid': 43, 'didntgiv': 1360, 'bellearli': 505, 'exact': 1711, 'jane': 2660, 'minmoremobsemspobox': 3255, 'tee': 5216, 'cheeri': 885, 'cell': 837, 'tht': 5333, 'dough': 1464, 'control': 1090, 'weirdo': 5817, 'mode': 3310, 'stalk': 4952, 'profil': 4105, 'jerri': 2687, 'irrit': 2621, 'drinkin': 1485, 'other': 3715, 'tour': 5439, 'pax': 3823, 'deposit': 1315, 'jap': 2664, 'disappear': 1390, 'birthdat': 556, 'certif': 845, 'publish': 4143, 'nydc': 3605, 'wheellock': 5846, 'destin': 1332, 'fifti': 1838, 'favour': 1801, 'happenin': 2270, 'ola': 3651, 'cocksuck': 1000, 'ipad': 2613, 'worthless': 5954, 'garbag': 2037, 'novelti': 3574, 'item': 2632, 'fran': 1953, 'broke': 687, 'knacker': 2815, 'janx': 2663, 'design': 1325, 'softwar': 4813, 'jamster': 2657, 'videosound': 5691, 'gold': 2125, 'musicnew': 3403, 'lion': 2961, 'lionm': 2962, 'lionp': 2963, 'origin': 3707, 'jokin': 2710, 'spirit': 4901, 'bb': 459, 'shatter': 4622, 'alrit': 158, 'idiot': 2494, 'girli': 2097, 'darker': 1241, 'whenevr': 5849, 'gray': 2184, 'remembr': 4313, 'listn': 2968, 'watevr': 5781, 'potter': 4009, 'phoenix': 3888, 'among': 180, 'reader': 4243, 'shd': 4625, 'minu': 3259, 'paragraph': 3787, 'coveragd': 1133, 'vasai': 5663, 'retard': 4355, 'bathroom': 452, 'sang': 4474, 'uptown': 5614, 'februari': 1808, 'rush': 4438, 'icic': 2482, 'syria': 5153, 'canada': 780, 'goodnoon': 2142, 'gaug': 2043, 'patti': 3819, 'vl': 5716, 'ax': 385, 'chill': 911, 'surgic': 5109, 'emerg': 1603, 'unfold': 5574, 'fren': 1969, 'korean': 2828, 'fredericksburg': 1959, 'pase': 3805, 'buen': 714, 'tiempo': 5343, 'chillin': 913, 'super': 5094, 'georg': 2071, 'sauci': 4496, 'there': 5288, 'tmrw': 5376, 'compass': 1039, 'soul': 4858, 'gnun': 2115, 'baaaaab': 393, 'misss': 3274, 'youuuuu': 6076, 'ned': 3465, 'witot': 5906, 'main': 3109, 'sweeti': 5137, 'blackberri': 565, 'buyer': 744, 'pple': 4019, 'becz': 483, 'undrstndng': 5571, 'chain': 851, 'suffer': 5068, 'whn': 5858, 'arrest': 296, 'suntec': 5092, 'steamboat': 4977, 'moji': 3314, 'forgiv': 1933, 'messeng': 3222, 'tp': 5443, 'fantasi': 1781, 'croydon': 1166, 'wb': 5789, 'bbq': 463, 'everyso': 1693, 'panick': 3773, 'write': 5972, 'cover': 1132, 'screen': 4527, 'gentli': 2067, 'bear': 475, 'nick': 3508, 'tom': 5399, 'fact': 1758, 'upload': 5609, 'huai': 2441, 'juan': 2728, 'linerent': 2956, 'lf': 2927, 'tlk': 5369, 'ideal': 2490, 'path': 3814, 'appear': 247, 'front': 1991, 'shot': 4668, 'reserv': 4336, 'thirunelvali': 5306, 'tirunelvali': 5359, 'tackl': 5159, 'storm': 5014, 'phne': 3887, 'margaret': 3139, 'girlfrnd': 2096, 'grahmbel': 2169, 'invnt': 2608, 'telphon': 5227, 'moral': 3335, 'tonght': 5409, 'plough': 3944, 'pile': 3910, 'chinki': 918, 'wi': 5864, 'nz': 3607, 'aust': 358, 'bk': 563, 'cafe': 755, 'recharg': 4266, 'papa': 3780, 'shld': 4652, 'stretch': 5023, 'sinco': 4710, 'paye': 3827, 'icicibank': 2483, 'urn': 5626, 'vote': 5726, 'loser': 3018, 'kaiez': 2751, 'option': 3692, 'beta': 521, 'buck': 710, 'noncomitt': 3544, 'beneath': 514, 'pale': 3766, 'goodnit': 2141, 'msgrcvdhg': 3371, 'snicker': 4798, 'total': 5434, 'chord': 929, 'rem': 4308, 'silver': 4701, 'lmao': 2980, 'silenc': 4698, 'revis': 4362, 'boyf': 639, 'interviw': 2598, 'exet': 1722, 'spreadsheet': 4928, 'whose': 5862, 'determin': 1335, 'entir': 1633, 'arsen': 299, 'dartboard': 1246, 'trebl': 5468, 'coat': 994, 'everybodi': 1689, 'alon': 153, 'intrepid': 2600, 'duo': 1519, 'missin': 3271, 'guilti': 2224, 'aiya': 118, 'cardiff': 798, 'addi': 59, 'tue': 5498, 'breez': 665, 'bright': 673, 'fresh': 1972, 'twitter': 5520, 'restaur': 4348, 'textpod': 5262, 'pod': 3963, 'duck': 1509, 'chinchilla': 916, 'function': 2007, 'headstart': 2307, 'desper': 1329, 'rummer': 4434, 'fli': 1888, 'monkey': 3325, 'certainli': 844, 'optin': 3691, 'bbc': 460, 'rajini': 4207, 'spi': 4893, 'clair': 951, 'bought': 632, 'yalru': 6029, 'lyfu': 3073, 'astn': 328, 'innu': 2572, 'mundh': 3396, 'lyf': 3072, 'ali': 142, 'halla': 2251, 'ke': 2775, 'bilo': 548, 'program': 4107, 'edha': 1557, 'ovr': 3744, 'vargu': 5658, 'meow': 3216, 'twelv': 5513, 'aah': 1, 'xxxxxxxxx': 6022, 'prone': 4118, 'llc': 2978, 'ny': 3603, 'usa': 5629, 'msgrcvd': 3370, 'luci': 3054, 'hubbi': 2442, 'cumin': 1195, 'minmobsmorelkpobox': 3254, 'fl': 1877, 'natur': 3444, 'dose': 1457, 'tablet': 5158, 'incomm': 2539, 'blake': 568, 'lotr': 3022, 'googl': 2145, 'browsin': 697, 'compulsori': 1052, 'puriti': 4154, 'musthu': 3406, 'investig': 2606, 'vomit': 5724, 'aint': 114, 'sha': 4604, 'vitamin': 5713, 'centr': 840, 'crucial': 1167, 'jsco': 2723, 'leadership': 2897, 'skill': 4733, 'psychic': 4137, 'host': 2414, 'base': 442, 'idp': 2496, 'linux': 2960, 'convert': 1093, 'along': 154, 'karaok': 2764, 'sayi': 4501, 'except': 1715, 'nit': 3526, 'leann': 2901, 'eight': 1576, 'format': 1940, 'disc': 1394, 'how': 2427, 'champ': 853, 'glasgow': 2104, 'lovin': 3038, 'arriv': 297, 'shortli': 4667, 'brows': 695, 'artist': 302, 'corect': 1104, 'spele': 4888, 'sarcasm': 4484, 'forum': 1943, 'ron': 4403, 'ct': 1179, 'employe': 1608, 'nike': 3519, 'sooo': 4847, 'dang': 1236, 'unfortun': 5575, 'airport': 116, 'auction': 350, 'jhl': 2694, 'difficult': 1366, 'earliest': 1535, 'nordstrom': 3554, 'konw': 2826, 'waht': 5744, 'rael': 4197, 'gving': 2231, 'yuo': 6089, 'exmpel': 1727, 'jsut': 2726, 'ese': 1662, 'tih': 5348, 'evrey': 1706, 'splle': 4911, 'wrnog': 5978, 'sitll': 4723, 'ra': 4192, 'wihtuot': 5873, 'ayn': 389, 'mitsak': 3280, 'confer': 1065, 'ow': 3746, 'degre': 1293, 'financ': 1851, 'prospect': 4127, 'bleak': 573, 'shant': 4619, 'jia': 2696, 'bishan': 558, 'nearer': 3457, 'sux': 5118, 'raiden': 4200, 'buff': 715, 'south': 4863, 'prefer': 4046, 'kegger': 2778, 'tote': 5435, 'pierr': 3906, 'cardin': 799, 'rhythm': 4368, 'establish': 1670, 'truro': 5488, 'ext': 1745, 'gang': 2034, 'adventur': 77, 'cloth': 975, 'sunroof': 5089, 'excel': 1714, 'wifi': 5872, 'blank': 570, 'rumour': 4435, 'kalainar': 2755, 'thenampet': 5284, 'nosi': 3561, 'idk': 2495, 'react': 4240, 'freak': 1957, 'satan': 4491, 'impost': 2529, 'destini': 1333, 'companion': 1037, 'chef': 889, 'brotha': 691, 'chase': 869, 'chez': 898, 'jule': 2732, 'hhahhaahahah': 2345, 'wtf': 5985, 'nig': 3511, 'leonardo': 2920, 'withdraw': 5901, 'anyhow': 223, 'smeon': 4779, 'bill': 545, 'miller': 3241, 'fire': 1861, 'spark': 4876, 'flame': 1881, 'rawr': 4228, 'xoxo': 6009, 'somewhr': 4835, 'crush': 1172, 'honeymoon': 2396, 'outfit': 3727, 'propos': 4125, 'blame': 569, 'chequ': 891, 'olymp': 3658, 'leo': 2918, 'haul': 2290, 'wildlif': 5878, 'worzel': 5955, 'wizzl': 5909, 'dippeditinadew': 1382, 'lovingli': 3039, 'itwhichturnedinto': 2636, 'tomeandsaid': 5401, 'shanghai': 4617, 'instead': 2585, 'cya': 1218, 'freez': 1968, 'rt': 4421, 'pro': 4092, 'ringtonek': 4381, 'thnx': 5314, 'sef': 4555, 'dey': 1342, 'anji': 202, 'batch': 449, 'fring': 1981, 'flaki': 1880, 'sooooo': 4849, 'tooo': 5416, 'nte': 3582, 'wate': 5778, 'british': 682, 'london': 3000, 'anim': 201, 'buzz': 746, 'ador': 70, 'eeri': 1567, 'titl': 5362, 'dracula': 1472, 'ghost': 2086, 'addamsfa': 58, 'munster': 3397, 'exorcist': 1729, 'twilight': 5517, 'brought': 693, 'shini': 4642, 'constant': 1081, 'french': 1970, 'allow': 151, 'respons': 4346, 'supplier': 5101, 'comedi': 1023, 'feelin': 1813, 'lnli': 2981, 'mobi': 3301, 'hlp': 2368, 'keen': 2776, 'switch': 5144, 'dammit': 1229, 'wright': 5971, 'somewhat': 4832, 'event': 1685, 'laden': 2844, 'wreck': 5969, 'spontan': 4917, 'lei': 2913, 'action': 51, 'movietrivia': 3357, 'partnership': 3803, 'rgent': 4366, 'lookin': 3009, 'daytim': 1255, 'busti': 738, 'janinexx': 2661, 'mostli': 3346, 'insid': 2579, 'spageddi': 4871, 'phase': 3880, 'fourth': 1947, 'dimens': 1373, 'meaning': 3183, 'compromis': 1051, 'monthli': 3331, 'mobsi': 3307, 'dub': 1506, 'je': 2675, 'toughest': 5438, 'sight': 4693, 'remain': 4309, 'maintain': 3110, 'sh': 4603, 'squat': 4935, 'cramp': 1142, 'nan': 3430, 'sonathaya': 4838, 'soladha': 4817, 'rape': 4222, 'poker': 3968, 'weightloss': 5813, 'mushi': 3401, 'embarrass': 1600, 'stash': 4964, 'ran': 4215, 'priya': 4088, 'father': 1793, 'messi': 3223, 'kilo': 2800, 'accid': 31, 'tookplac': 5414, 'ghodbandar': 2085, 'traffic': 5449, 'slove': 4763, 'slip': 4757, 'nu': 3586, 'sc': 4503, 'specialis': 4882, 'wad': 5736, 'dislik': 1401, 'queen': 4179, 'despar': 1328, 'gotten': 2158, 'stereo': 4981, 'mi': 3229, 'unknown': 5588, 'album': 131, 'vu': 5733, 'classmat': 958, 'pre': 4044, 'trackmarqu': 5446, 'vipclub': 5704, 'missionari': 3273, 'hook': 2402, 'entertain': 1631, 'hugh': 2446, 'lauri': 2882, 'stick': 4989, 'inde': 2546, 'prap': 4036, 'jon': 2713, 'bin': 550, 'spain': 4872, 'dinero': 1376, 'pe': 3833, 'jame': 2656, 'maangalyam': 3079, 'alaipayuth': 129, 'complain': 1043, 'mandi': 3126, 'sullivan': 5077, 'hotmix': 2420, 'fm': 1907, 'chosen': 931, 'easter': 1544, 'telephon': 5222, 'finn': 1860, 'bahama': 408, 'callfreefon': 769, 'cruis': 1170, 'calm': 772, 'downon': 1467, 'theacus': 5277, 'itxt': 2637, 'iwana': 2641, 'wotu': 5957, 'doin': 1436, 'thew': 5293, 'haventcn': 2295, 'neth': 3484, 'conact': 1057, 'social': 4810, 'inspect': 2580, 'nurseri': 3593, 'slowli': 4766, 'habit': 2237, 'panren': 3774, 'paru': 3804, 'chuckin': 938, 'trainner': 5451, 'carryin': 811, 'bac': 399, 'schedul': 4512, 'dhanush': 1344, 'stuck': 5038, 'habba': 2236, 'hw': 2468, 'dileep': 1372, 'muchand': 3382, 'venugop': 5676, 'mention': 3213, 'everytim': 1696, 'mandan': 3124, 'ibh': 2473, 'textbook': 5257, 'algorithm': 141, 'edit': 1559, 'bun': 724, 'space': 4869, 'invad': 2603, 'orig': 3706, 'arcad': 272, 'consol': 1080, 'cro': 1162, 'atlanta': 335, 'creat': 1152, 'arun': 304, 'transfr': 5457, 'amt': 188, 'takin': 5172, 'philosophi': 3886, 'intend': 2590, 'iwa': 2640, 'marin': 3142, 'itri': 2635, 'urmom': 5625, 'careabout': 801, 'foley': 1912, 'fake': 1769, 'pai': 3761, 'seh': 4556, 'beer': 490, 'combin': 1021, 'walsal': 5757, 'terri': 5244, 'jess': 2689, 'sian': 4687, 'ccna': 830, 'shrek': 4677, 'dirti': 1387, 'fellow': 1817, 'teresa': 5239, 'packag': 3758, 'dec': 1269, 'ld': 2891, 'bam': 419, 'usml': 5637, 'squishi': 4939, 'mwah': 3411, 'hottest': 2421, 'promin': 4112, 'cheek': 883, 'septemb': 4581, 'husband': 2462, 'hack': 2238, 'backdoor': 401, 'fraction': 1952, 'neo': 3478, 'dp': 1470, 'list': 2966, 'joanna': 2702, 'comingdown': 1027, 'replac': 4325, 'murali': 3398, 'engalnd': 1619, 'telli': 5225, 'mia': 3230, 'elliot': 1592, 'upto': 5613, 'tooth': 5418, 'wv': 5995, 'wipro': 5892, 'matric': 3164, 'toa': 5379, 'payoh': 3829, 'payment': 3828, 'fedex': 1810, 'recept': 4264, 'hate': 2288, 'consensu': 1075, 'tag': 5163, 'wednesday': 5804, 'laundri': 2881, 'underwear': 5569, 'bra': 644, 'strewn': 5024, 'pillow': 3911, 'wahe': 5741, 'fathima': 1794, 'mmmm': 3290, 'push': 4157, 'knee': 2816, 'expos': 1742, 'pull': 4144, 'wick': 5865, 'srt': 4943, 'thnk': 5311, 'ps': 4134, 'jontin': 2715, 'nearli': 3458, 'ban': 421, 'beyond': 530, 'biro': 554, 'master': 3156, 'shell': 4630, 'unhappi': 5577, 'excus': 1718, 'jog': 2706, 'abta': 22, 'season': 4538, 'lark': 2871, 'extrem': 1748, 'sic': 4689, 'wild': 5876, 'uh': 5541, 'lim': 2950, 'vday': 5668, 'parachut': 3784, 'tabl': 5157, 'lambda': 2850, 'snowman': 4805, 'angel': 199, 'snowbal': 4803, 'ello': 1593, 'ikea': 2504, 'grr': 2204, 'prescript': 4056, 'pharmaci': 3879, 'cook': 1096, 'electr': 1589, 'rpl': 4416, 'cnl': 988, 'fffff': 1826, 'kadeem': 2750, 'fujitsu': 2000, 'lifebook': 2937, 'scold': 4515, 'zhong': 6100, 'se': 4535, 'qing': 4171, 'wud': 5990, 'annoyin': 210, 'prompt': 4116, 'vpod': 5729, 'carri': 810, 'avatar': 368, 'nigro': 3518, 'anyplac': 226, 'prioriti': 4083, 'constantli': 1082, 'ecstasi': 1554, 'minapn': 3246, 'hittng': 2364, 'reflex': 4286, 'costa': 1114, 'sol': 4816, 'toclaim': 5384, 'stockport': 4997, 'lousi': 3030, 'cat': 821, 'woken': 5926, 'hip': 2356, 'adewal': 62, 'aka': 125, 'egbon': 1572, 'ic': 2479, 'mari': 3141, 'deduct': 1280, 'wrk': 5974, 'asshol': 321, 'grab': 2166, 'payback': 3826, 'honeybe': 2395, 'sweetest': 5135, 'havnt': 2298, 'crack': 1139, 'gn': 2113, 'tesco': 5249, 'featheri': 1805, 'bowa': 635, 'infra': 2561, 'nvm': 3599, 'gep': 2072, 'delhi': 1298, 'thinkin': 5302, 'fifa': 1835, 'held': 2324, 'boat': 598, 'shhhhh': 4634, 'relat': 4300, 'arul': 303, 'amk': 176, 'length': 2917, 'distract': 1406, 'antha': 218, 'corrct': 1107, 'dane': 1235, 'basket': 445, 'proof': 4119, 'rupaul': 4437, 'provid': 4130, 'practis': 4031, 'curtsey': 1203, 'yeh': 6044, 'memori': 3210, 'african': 91, 'soil': 4814, 'decim': 1274, 'major': 3111, 'role': 4398, 'outreach': 3732, 'mel': 3202, 'birth': 555, 'lb': 2889, 'brilliantli': 676, 'intent': 2591, 'rule': 4431, 'bend': 513, 'thia': 5298, 'inlud': 2567, 'preview': 4070, 'freefon': 1963, 'ambrith': 172, 'madurai': 3095, 'dha': 1343, 'marrg': 3146, 'kitti': 2812, 'shave': 4623, 'onward': 3672, 'tact': 5161, 'skillgam': 4734, 'winaweek': 5882, 'ppermesssubscript': 4017, 'theatr': 5279, 'obvious': 3616, 'pert': 3868, 'cram': 1141, 'satsgettin': 4494, 'apolog': 241, 'pei': 3841, 'boost': 618, 'subtoitl': 5061, 'sit': 4721, 'jot': 2718, 'cereal': 842, 'gari': 2039, 'infern': 2557, 'affair': 84, 'calicut': 761, 'cast': 818, 'aom': 234, 'er': 1647, 'thkin': 5308, 'parco': 3791, 'nb': 3450, 'resub': 4351, 'shadow': 4606, 'breadstick': 658, 'ahmad': 109, 'saeed': 4453, 'hallaq': 2252, 'qp': 4174, 'eldest': 1587, 'drugdeal': 1496, 'gender': 2060, 'wither': 5902, 'sleepwel': 4752, 'wondarful': 5931, 'txtx': 5530, 'onbu': 3662, 'donyt': 1451, 'latelyxxx': 2876, 'mca': 3176, 'rich': 4370, 'flag': 1878, 'yer': 6050, 'eng': 1617, 'yor': 6066, 'jason': 2666, 'soooo': 4848, 'tming': 5372, 'cutest': 1213, 'dice': 1354, 'art': 300, 'inclus': 2538, 'howda': 2429, 'samachara': 4469, 'audri': 354, 'autocorrect': 362, 'simul': 4708, 'armand': 288, 'rub': 4425, 'feet': 1815, 'lara': 2867, 'clever': 965, 'med': 3191, 'bray': 654, 'wicklow': 5867, 'eir': 1579, 'washob': 5771, 'nob': 3533, 'nickey': 3509, 'platt': 3932, 'ryan': 4444, 'vikki': 5695, 'idew': 2493, 'argh': 281, 'spotti': 4925, 'provinc': 4131, 'sterl': 4983, 'xam': 6000, 'hall': 2250, 'manag': 3121, 'intha': 2599, 'ponnungal': 3980, 'ipaditan': 2614, 'reject': 4298, 'shitload': 4649, 'diamond': 1352, 'tessi': 5250, 'favor': 1799, 'nimya': 3522, 'shija': 4637, 'china': 914, 'noisi': 3539, 'needa': 3467, 'mcat': 3177, 'manual': 3133, 'reset': 4337, 'troubleshoot': 5481, 'marsm': 3150, 'utel': 5640, 'strongli': 5032, 'sacrific': 4450, 'creativ': 1153, 'stifl': 4991, 'morphin': 3341, 'requir': 4332, 'stayin': 4970, 'getha': 2077, 'buffi': 717, 'pix': 3920, 'qlynnbv': 4173, 'cld': 960, 'nosh': 3560, 'waaaat': 5735, 'lololo': 2998, 'kindli': 2803, 'document': 1426, 'stapati': 4956, 'mile': 3239, 'cuti': 1214, 'hill': 2352, 'colleagu': 1014, 'sed': 4548, 'mood': 3333, 'latr': 2879, 'kidz': 2797, 'sofa': 4811, 'honesti': 2392, 'labor': 2841, 'shakara': 4610, 'beggar': 495, 'smash': 4776, 'driver': 1488, 'dent': 1311, 'crickit': 1160, 'imin': 2517, 'dontmatt': 1450, 'urgoin': 5622, 'outl': 3730, 'yavnt': 6035, 'grown': 2203, 'chinatown': 915, 'porridg': 3992, 'claypot': 959, 'yam': 6030, 'fishhead': 1868, 'beehoon': 488, 'tok': 5391, 'specif': 4883, 'jaklin': 2654, 'nearbi': 3456, 'ntwk': 3585, 'bundl': 726, 'avbl': 369, 'mf': 3226, 'ooh': 3674, 'moseley': 3345, 'thankyou': 5272, 'pend': 3844, 'aluabl': 164, 'ffection': 1825, 'oveabl': 3737, 'ternal': 5243, 'obl': 3613, 'ruth': 4439, 'ntimat': 3583, 'atur': 349, 'namou': 3429, 'textin': 5260, 'cousin': 1131, 'frndship': 1984, 'raji': 4206, 'leg': 2909, 'neck': 3463, 'amigo': 175, 'progress': 4108, 'continu': 1087, 'holi': 2385, 'arti': 301, 'collag': 1012, 'tryin': 5491, 'billion': 547, 'walik': 5749, 'carton': 812, 'shelv': 4631, 'distanc': 1405, 'mirror': 3262, 'your': 6073, 'ref': 4280, 'jod': 2705, 'keri': 2783, 'smidgin': 4780, 'beliv': 503, 'empti': 1609, 'slot': 4762, 'accordin': 36, 'knock': 2819, 'como': 1034, 'plaid': 3926, 'hilari': 2351, 'braindanc': 647, 'ofstuff': 3634, 'aphex': 238, 'nelson': 3477, 'temp': 5230, 'unmit': 5592, 'display': 1404, 'newspap': 3500, 'soup': 4861, 'yummmm': 6086, 'puzzel': 4162, 'goten': 2155, 'scammer': 4505, 'regular': 4297, 'prem': 4047, 'bewar': 529, 'morro': 3342, 'dena': 1308, 'threat': 5324, 'shifad': 4636, 'complaint': 1044, 'lk': 2976, 'lov': 3031, 'splashmobil': 4907, 'subscrit': 5059, 'dust': 1523, 'watchin': 5776, 'meaningless': 3184, 'brdget': 656, 'jone': 2714, 'inev': 2554, 'hype': 2470, 'studio': 5043, 'bedrm': 485, 'unabl': 5555, 'velli': 5674, 'wkend': 5911, 'huge': 2445, 'upd': 5605, 'stoptx': 5009, 'anni': 205, 'mailbox': 3108, 'retriev': 4357, 'va': 5649, 'hrishi': 2436, 'nothin': 3566, 'hanger': 2262, 'poem': 3964, 'tear': 5211, 'duchess': 1508, 'cornwal': 1105, 'arrow': 298, 'tddnewslett': 5205, 'emc': 1602, 'thedailydraw': 5280, 'dozen': 1469, 'prizeswith': 4091, 'waqt': 5764, 'pehl': 3840, 'naseeb': 3436, 'zyada': 6107, 'kisi': 2809, 'ko': 2823, 'kuch': 2834, 'nahi': 3423, 'milta': 3243, 'zindgi': 6101, 'wo': 5922, 'hum': 2450, 'socht': 4809, 'jeetey': 2678, 'wors': 5951, 'dan': 1231, 'varaya': 5657, 'elaya': 1586, 'anand': 194, 'beach': 473, 'aww': 383, 'jez': 2693, 'iscom': 2624, 'todo': 5386, 'workand': 5945, 'whilltak': 5855, 'zogtoriu': 6103, 'stare': 4958, 'whether': 5854, 'financi': 1852, 'alian': 143, 'posibl': 3998, 'unnecessarili': 5593, 'affection': 86, 'restrict': 4350, 'buddi': 712, 'possess': 4000, 'clarif': 952, 'spook': 4918, 'halloween': 2253, 'issu': 2629, 'footbal': 1922, 'sky': 4740, 'gamestar': 2031, 'coimbator': 1005, 'monoc': 3328, 'polyc': 3975, 'stream': 5019, 'categori': 823, 'measur': 3187, 'ethnic': 1673, 'censu': 838, 'transcrib': 5455, 'propsd': 4126, 'gv': 2230, 'lv': 3070, 'lttr': 3052, 'threw': 5326, 'thm': 5309, 'aproach': 264, 'dt': 1504, 'truck': 5484, 'wn': 5919, 'cn': 986, 'instantli': 2584, 'thi': 5297, 'happili': 2274, 'gthr': 2210, 'evrydi': 1708, 'paragon': 3786, 'arent': 276, 'bluff': 593, 'imposs': 2528, 'goodmat': 2138, 'sari': 4486, 'asusu': 332, 'franyxxxxx': 1956, 'batt': 454, 'pussi': 4159, 'becausethey': 480, 'responc': 4344, 'happend': 2269, 'wiskey': 5899, 'brandi': 651, 'rum': 4432, 'gin': 2094, 'vodka': 5719, 'scotch': 4519, 'shampain': 4615, 'kudi': 2835, 'yarasu': 6033, 'dhina': 1345, 'vaazhthukk': 5650, 'gain': 2025, 'dumb': 1514, 'thangam': 5268, 'okey': 3647, 'doke': 1439, 'dress': 1481, 'neshanth': 3480, 'byatch': 750, 'whassup': 5840, 'kay': 2771, 'roger': 4397, 'cl': 947, 'nasti': 3437, 'filthyguy': 1848, 'slo': 4760, 'chiong': 920, 'christ': 933, 'dialogu': 1351, 'reltnship': 4307, 'solv': 4820, 'polic': 3972, 'garden': 2038, 'veget': 5670, 'maid': 3106, 'neighbour': 3475, 'brilliant': 675, 'pose': 3996, 'comb': 1020, 'dryer': 1502, 'fp': 1950, 'scienc': 4514, 'madam': 3091, 'dlf': 1417, 'premarica': 4048, 'rgd': 4365, 'gotto': 2159, 'err': 1654, 'bloo': 583, 'hitter': 2363, 'offlin': 3632, 'anjola': 203, 'asjesu': 311, 'wrote': 5981, 'swiss': 5143, 'director': 1385, 'lac': 2842, 'crore': 1163, 'taxless': 5198, 'budget': 713, 'lane': 2858, 'supli': 5098, 'citizen': 944, 'imf': 2515, 'block': 578, 'politician': 3973, 'corrupt': 1110, 'itna': 2634, 'karo': 2766, 'ki': 2791, 'pura': 4151, 'padh': 3759, 'torrent': 5427, 'particularli': 3801, 'commit': 1031, 'random': 4217, 'trivia': 5478, 'rightio': 4375, 'brum': 699, 'donno': 1447, 'scorabl': 4517, 'paranoid': 3788, 'brin': 677, 'properli': 4123, 'bettr': 526, 'bsnl': 703, 'offc': 3626, 'suganya': 5071, 'dessert': 1331, 'abeg': 7, 'sponsor': 4916, 'onum': 3671, 'poet': 3965, 'rr': 4418, 'famamu': 1775, 'sri': 4941, 'furnitur': 2014, 'lock': 2989, 'jenn': 2682, 'easiest': 1540, 'barcelona': 434, 'ru': 4424, 'sppok': 4927, 'complementari': 1045, 'pansi': 3775, 'jungl': 2739, 'kanji': 2761, 'sr': 4940, 'drizzl': 1490, 'shove': 4671, 'drama': 1473, 'struggl': 5035, 'strang': 5017, 'ego': 1574, 'necess': 3460, 'reppurcuss': 4328, 'releas': 4303, 'cosign': 1112, 'hvae': 2467, 'acl': 45, 'hcl': 2300, 'fresher': 1973, 'dai': 1227, 'resum': 4354, 'reliant': 4304, 'fwiw': 2019, 'afford': 88, 'whr': 5863, 'maga': 3097, 'sq': 4934, 'yunni': 6088, 'citylink': 945, 'prop': 4121, 'pleasant': 3939, 'bognor': 603, 'splendid': 4909, 'ktv': 2833, 'misplac': 3267, 'mmmmm': 3291, 'medicin': 3193, 'begun': 497, 'registr': 4295, 'perman': 3860, 'resid': 4338, 'plenti': 3942, 'rel': 4299, 'risk': 4384, 'benefit': 515, 'amount': 183, 'accumul': 39, 'belong': 508, 'fate': 1792, 'shoranur': 4660, 'incid': 2535, 'fuell': 1999, 'prior': 4082, 'grief': 2193, 'violenc': 5701, 'environ': 1642, 'terrif': 5246, 'honestli': 2393, 'promptli': 4117, 'burnt': 733, 'advic': 78, 'snap': 4793, 'quizclub': 4188, 'rwm': 4443, 'gmw': 2112, 'someplac': 4825, 'pressi': 4063, 'dr': 1471, 'superior': 5096, 'ultim': 5547, 'tor': 5425, 'motiv': 3349, 'tui': 5500, 'achiev': 42, 'korli': 2829, 'dock': 1424, 'roll': 4399, 'newscast': 3498, 'dabbl': 1223, 'flute': 1905, 'behind': 500, 'wheel': 5845, 'amaz': 170, 'picsfre': 3902, 'vid': 5687, 'keyword': 2787, 'ruin': 4430, 'erm': 1651, 'octob': 3622, 'elabor': 1583, 'safeti': 4455, 'aspect': 318, 'tarot': 5187, 'depart': 1313, 'conform': 1070, 'horniest': 2409, 'instruct': 2587, 'lp': 3046, 'ovarian': 3736, 'cyst': 1220, 'bc': 464, 'shrink': 4678, 'timin': 5355, 'ape': 236, 'death': 1267, 'ibm': 2476, 'toshiba': 5431, 'gosh': 2148, 'spose': 4923, 'rimac': 4378, 'arestaur': 277, 'squid': 4938, 'dosometh': 1458, 'dabook': 1224, 'eachoth': 1531, 'luckili': 3057, 'tkl': 5367, 'stoptxtstop': 5011, 'innoc': 2571, 'mental': 3212, 'smoothli': 4785, 'challeng': 852, 'marrow': 3149, 'hon': 2391, 'breakfast': 661, 'hamper': 2255, 'realiti': 4248, 'unni': 5594, 'lack': 2843, 'particular': 3800, 'dramastorm': 1474, 'forfeit': 1931, 'digi': 1369, 'fab': 1753, 'coupla': 1126, 'sundayish': 5085, 'prasad': 4037, 'tiwari': 5363, 'rcb': 4232, 'battl': 456, 'bang': 424, 'kochi': 2824, 'cancer': 784, 'checkup': 882, 'pap': 3779, 'smear': 4777, 'gobi': 2118, 'pandi': 3771, 'technolog': 5215, 'olowoyey': 3657, 'usc': 5631, 'edu': 1561, 'argentina': 280, 'secretari': 4544, 'taxt': 5199, 'tie': 5342, 'lool': 3010, 'shake': 4611, 'booti': 619, 'lil': 2948, 'scarcasim': 4506, 'bro': 684, 'amongst': 181, 'impress': 2530, 'sensibl': 4574, 'nalla': 3426, 'obedi': 3609, 'ft': 1994, 'needi': 3468, 'pout': 4013, 'stomp': 5000, 'northampton': 3558, 'abj': 12, 'serv': 4586, 'playng': 3936, 'mcfli': 3178, 'ab': 4, 'sara': 4482, 'jorg': 2717, 'smith': 4782, 'anna': 204, 'nagar': 3421, 'yupz': 6092, 'ericson': 1649, 'der': 1318, 'cheesi': 887, 'frosti': 1993, 'witin': 5905, 'sept': 4580, 'nnfwfli': 3531, 'nudist': 3588, 'theme': 5282, 'pump': 4145, 'petrol': 3875, 'feb': 1807, 'ignor': 2501, 'evr': 1705, 'signal': 4695, 'neither': 3476, 'unusu': 5602, 'hug': 2444, 'snog': 4799, 'west': 5832, 'palm': 3767, 'fastest': 1790, 'state': 4965, 'tariff': 5186, 'perpetu': 3862, 'dd': 1259, 'steam': 4976, 'reg': 4291, 'pract': 4028, 'flung': 1903, 'public': 4142, 'govt': 2161, 'instituit': 2586, 'justbeen': 2742, 'overa': 3738, 'mush': 3400, 'tund': 5505, 'mission': 3272, 'luxuri': 3069, 'canari': 782, 'aq': 267, 'sleepi': 4749, 'dare': 1239, 'ben': 512, 'mag': 3096, 'avo': 375, 'middl': 3233, 'chachi': 849, 'tiz': 5365, 'kanagu': 2759, 'brat': 652, 'diwali': 1412, 'tick': 5340, 'onion': 3666, 'derp': 1320, 'abus': 24, 'lipo': 2965, 'netflix': 3483, 'thgt': 5296, 'clash': 955, 'arr': 294, 'oscar': 3712, 'rebtel': 4257, 'firefox': 1862, 'lower': 3042, 'bcmsfwc': 468, 'footi': 1924, 'stadium': 4947, 'larg': 2869, 'coca': 996, 'cola': 1008, 'dark': 1240, 'teenag': 5217, 'mittelschmertz': 3281, 'paracetamol': 3783, 'pee': 3838, 'cthen': 1182, 'enuff': 1639, 'conclus': 1061, 'instant': 2583, 'rugbi': 4429, 'affidavit': 87, 'twigg': 5516, 'divis': 1410, 'courtroom': 1130, 'creep': 1155, 'golden': 2127, 'crazyin': 1148, 'sleepingwith': 4751, 'finest': 1855, 'ymca': 6062, 'wtc': 5984, 'weiyi': 5818, 'properti': 4124, 'interflora': 2593, 'teeth': 5218, 'romcapspam': 4402, 'presenc': 4057, 'outgo': 3729, 'maggi': 3099, 'mee': 3194, 'cough': 1118, 'bbd': 461, 'pooja': 3982, 'pimpl': 3912, 'sweatter': 5133, 'ambiti': 171, 'miiiiiiissssssssss': 3236, 'tunji': 5507, 'iz': 2643, 'yellow': 6046, 'misscal': 3269, 'frog': 1989, 'tall': 5177, 'doubt': 1463, 'handl': 2258, 'note': 3563, 'aveng': 371, 'japanes': 2665, 'proverb': 4129, 'strike': 5026, 'toss': 5432, 'gudni': 2216, 'dancin': 1234, 'explicitli': 1740, 'nora': 3552, 'gayl': 2048, 'crucifi': 1168, 'but': 739, 'freedom': 1961, 'vs': 5731, 'cedar': 833, 'twenti': 5514, 'durham': 1521, 'seat': 4539, 'porn': 3991, 'stopbcm': 5005, 'sf': 4601, 'paint': 3764, 'printer': 4081, 'groovi': 2199, 'harish': 2281, 'acnt': 46, 'nowaday': 3576, 'showroom': 4675, 'shape': 4620, 'doinat': 1437, 'callon': 771, 'swatch': 5128, 'ganesh': 2033, 'pdate': 3832, 'yhl': 6057, 'configur': 1067, 'anal': 192, 'pear': 3837, 'helloooo': 2330, 'oooooh': 3676, 'resubmit': 4352, 'expiri': 1737, 'geva': 2083, 'mint': 3258, 'human': 2451, 'studyn': 5044, 'wuld': 5992, 'everyboy': 1690, 'xxxxxxxx': 6021, 'student': 5040, 'tm': 5371, 'ing': 2563, 'fireplac': 1863, 'icon': 2486, 'fifth': 1837, 'woozl': 5940, 'machin': 3086, 'sake': 4459, 'my': 3412, 'bruce': 698, 'down': 1465, 'cozi': 1135, 'buzzzz': 747, 'chest': 895, 'trend': 5471, 'con': 1056, 'brief': 672, 'descript': 1322, 'nuclear': 3587, 'fusion': 2015, 'histori': 2359, 'iter': 2633, 'jet': 2691, 'nowher': 3577, 'ikno': 2505, 'doesdiscount': 1428, 'shitinnit': 4648, 'jabo': 2646, 'abi': 9, 'slower': 4765, 'maniac': 3131, 'sapna': 4480, 'maneg': 3128, 'hogidh': 2379, 'chinnu': 919, 'swalpa': 5122, 'agidhan': 101, 'lyk': 3074, 'footbl': 1923, 'crckt': 1149, 'swell': 5138, 'tim': 5352, 'bollox': 605, 'tol': 5394, 'ingredi': 2564, 'poci': 3959, 'bell': 504, 'non': 3543, 'qf': 4169, 'senor': 4571, 'giggl': 2090, 'nvq': 3600, 'profession': 4103, 'tiger': 5344, 'wood': 5935, 'reboot': 4256, 'grinder': 2195, 'pt': 4138, 'understood': 5568, 'bottom': 631, 'disconnect': 1395, 'onluy': 3668, 'offcampu': 3627, 'riley': 4377, 'ew': 1709, 'lingo': 2958, 'hm': 2369, 'chrgd': 932, 'exit': 1726, 'salon': 4466, 'sankranti': 4476, 'republ': 4330, 'shivratri': 4651, 'ugadi': 5538, 'independ': 2547, 'festiv': 1821, 'dasara': 1247, 'rememberi': 4312, 'raj': 4204, 'lifei': 2938, 'daywith': 1256, 'somewheresomeon': 4834, 'tosend': 5430, 'selfless': 4562, 'initi': 2565, 'tallent': 5179, 'portal': 3994, 'crab': 1138, 'shore': 4661, 'wave': 5784, 'footprint': 1925, 'fox': 1949, 'frndsship': 1986, 'dwn': 1527, 'slaaaaav': 4744, 'summon': 5081, 'appendix': 248, 'slob': 4761, 'topic': 5422, 'webpag': 5799, 'yeesh': 6043, 'hunk': 2456, 'gotbab': 2154, 'gopalettan': 2146, 'particip': 3799, 'admin': 65, 'abroad': 16, 'xxsp': 6013, 'visionsm': 5709, 'stopcost': 5007, 'goodi': 2137, 'mat': 3158, 'ay': 388, 'andro': 198, 'isaiah': 2623, 'foot': 1921, 'peni': 3846, 'expert': 1735, 'thinl': 5304, 'importantli': 2526, 'tightli': 5346, 'wnevr': 5920, 'fal': 1771, 'vth': 5732, 'yen': 6047, 'madodu': 3093, 'nav': 3448, 'pretsorginta': 4066, 'nammanna': 3428, 'pretsovru': 4067, 'alwa': 165, 'eveb': 1683, 'lord': 3016, 'soundtrack': 4860, 'stdtxtrate': 4973, 'sg': 4602, 'phyhcmk': 3896, 'emigr': 1604, 'olol': 3656, 'stagwood': 4950, 'winterston': 5891, 'victor': 5685, 'jp': 2721, 'mofo': 3313, 'pathaya': 3815, 'enketa': 1625, 'maraikara': 3136, 'priest': 4076, 'intrud': 2602, 'walkabout': 5751, 'blow': 587, 'phil': 3884, 'nevil': 3490, 'abbey': 5, 'punj': 4148, 'classic': 957, 'thur': 5336, 'sack': 4449, 'lookatm': 3008, 'clip': 968, 'mmsto': 3294, 'twat': 5512, 'dungere': 1517, 'punch': 4146, 'vat': 5664, 'thasa': 5274, 'mess': 3220, 'tex': 5252, 'mecaus': 3190, 'werebor': 5829, 'okden': 3646, 'uin': 5543, 'likeyour': 2947, 'countinlot': 1123, 'xxxxx': 6018, 'count': 1121, 'hdd': 2301, 'describ': 1321, 'asu': 331, 'randomli': 4218, 'reformat': 4287, 'otsid': 3719, 'plumber': 3948, 'tape': 5185, 'wrench': 5970, 'appeal': 246, 'thriller': 5327, 'size': 4729, 'eleph': 1590, 'um': 5549, 'pooki': 3983, 'nri': 3580, 'deserv': 1324, 'tight': 5345, 'diddi': 1358, 'toothpast': 5419, 'av': 363, 'poke': 3967, 'everyday': 1691, 'curiou': 1200, 'kg': 2789, 'coccoon': 997, 'auto': 361, 'newquay': 3496, 'postcard': 4004, 'talkin': 5176, 'bread': 657, 'windi': 5885, 'mahal': 3103, 'tirunelvai': 5358, 'dusk': 1522, 'puzzl': 4163, 'stair': 4951, 'phew': 3883, 'recycl': 4275, 'toledo': 5396, 'ding': 1377, 'tai': 5165, 'feng': 1820, 'swimsuit': 5141, 'necessari': 3461, 'squeeeeez': 4936, 'lik': 2945, 'frndshp': 1985, 'luvd': 3067, 'volcano': 5723, 'erupt': 1657, 'aris': 285, 'hurrican': 2460, 'sway': 5129, 'aroundn': 293, 'disast': 1392, 'lighter': 2943, 'lasagna': 2872, 'sugar': 5072, 'woould': 5939, 'deu': 1337, 'deliveredtomorrow': 1301, 'tap': 5184, 'spile': 4897, 'broad': 685, 'canal': 781, 'engin': 1620, 'edg': 1556, 'raviyog': 4227, 'peripher': 3859, 'bhayandar': 537, 'east': 1542, 'sunoco': 5088, 'howard': 2428, 'color': 1017, 'plate': 3931, 'leftov': 2908, 'starv': 4962, 'cheat': 876, 'fatti': 1795, 'badrith': 406, 'owe': 3747, 'checkin': 880, 'armenia': 289, 'swann': 5124, 'fromm': 1990, 'wyli': 5998, 'justifi': 2744, 'hava': 2293, 'rct': 4234, 'thnq': 5313, 'adrian': 73, 'vatian': 5665, 'babysit': 398, 'gonnamissu': 2134, 'butther': 741, 'abouta': 15, 'merememberin': 3218, 'asther': 326, 'ofsi': 3633, 'breakin': 662, 'yaxx': 6036, 'ee': 1565, 'poortiyagi': 3988, 'odalebeku': 3623, 'hanumanji': 2267, 'hanuman': 2266, 'bajarangabali': 411, 'maruti': 3151, 'pavanaputra': 3822, 'sankatmochan': 4475, 'ramaduth': 4213, 'mahav': 3104, 'easili': 1541, 'ijust': 2503, 'opp': 3683, 'gei': 2058, 'tron': 5479, 'dl': 1415, 'selfish': 4561, 'spif': 4896, 'workag': 5944, 'supos': 5099, 'embassi': 1601, 'lightli': 2944, 'checkbox': 879, 'sac': 4447, 'batsman': 453, 'yetti': 6054, 'jiayin': 2697, 'tg': 5264, 'forgotten': 1936, 'revers': 4360, 'mathemat': 3162, 'waxsto': 5786, 'yifeng': 6059, 'slurp': 4768, 'minimum': 3252, 'brainless': 649, 'doll': 1441, 'vehicl': 5672, 'sariyag': 4488, 'madok': 3094, 'barolla': 439, 'postpon': 4006, 'elain': 1584, 'tiim': 5349, 'afternon': 93, 'resiz': 4339, 'oppos': 3686, 'drunken': 1500, 'shortcod': 4665, 'refund': 4289, 'somerset': 4826, 'overtim': 3743, 'nigpun': 3517, 'dismissi': 1403, 'screwd': 4528, 'bull': 722, 'float': 1895, 'heehe': 2322, 'arithmet': 286, 'percentag': 3851, 'chillaxin': 912, 'iknow': 2506, 'wellda': 5821, 'peril': 3857, 'studentfinanci': 5041, 'crisi': 1161, 'monster': 3329, 'obey': 3611, 'uhhhhrmm': 5542, 'mb': 3174, 'deltomorrow': 1303, 'smartcal': 4774, 'subscriptn': 5058, 'landlineonli': 2856, 'callback': 764, 'orno': 3708, 'fink': 1859, 'carli': 804, 'minmobsmor': 3253, 'lkpobox': 2977, 'youphon': 6072, 'athom': 334, 'youwanna': 6077, 'jack': 2647, 'pretend': 4065, 'hypotheticalhuagauahahuagahyuhagga': 2471, 'braini': 648, 'occas': 3617, 'reflect': 4285, 'desir': 1326, 'tradit': 5448, 'cantdo': 789, 'anythingtomorrow': 230, 'mypar': 3415, 'aretak': 278, 'outfor': 3728, 'katexxx': 2768, 'level': 2926, 'gate': 2042, 'lingeri': 2957, 'bridal': 669, 'petticoatdream': 3876, 'weddingfriend': 5803, 'board': 597, 'overh': 3742, 'reslov': 4340, 'inst': 2581, 'western': 5833, 'outta': 3735, 'notixiqu': 3570, 'laxinorf': 2886, 'bambl': 420, 'entrop': 1637, 'oblising': 3614, 'masteriast': 3157, 'amplikat': 185, 'fidalf': 1831, 'champlaxig': 854, 'atroci': 339, 'wotz': 5958, 'junna': 2740, 'knicker': 2818, 'nikiyu': 3520, 'divert': 1409, 'wadebridg': 5737, 'vill': 5696, 'orc': 3697, 'bloomberg': 586, 'seek': 4551, 'priscilla': 4084, 'wisdom': 5894, 'wherr': 5853, 'logoff': 2994, 'parkin': 3796, 'kent': 2780, 'vale': 5652, 'westlif': 5834, 'unbreak': 5557, 'untam': 5601, 'unkempt': 5587, 'princ': 4078, 'charm': 867, 'arnt': 291, 'xxxxxxxxxxxxxx': 6023, 'dorothi': 1456, 'kiefer': 2798, 'granit': 2175, 'explos': 1741, 'nasdaq': 3435, 'symbol': 5150, 'cdgt': 832, 'all': 146, 'mone': 3322, 'eppolum': 1644, 'allalo': 148, 'fundament': 2009, 'mega': 3198, 'pixel': 3921, 'optic': 3689, 'doom': 1452, 'noi': 3536, 'js': 2722, 'burgundi': 730, 'captain': 795, 'placement': 3925, 'amrita': 187, 'bpo': 643, 'nighter': 3515, 'persev': 3863, 'spous': 4926, 'pmt': 3954, 'sumthin': 5082, 'shldxxxx': 4653, 'scenario': 4509, 'spun': 4933, 'wrld': 5977, 'ppmpobox': 4022, 'bhamb': 535, 'xe': 6004, 'devour': 1341, 'airtel': 117, 'broadband': 686, 'tens': 5237, 'warn': 5767, 'sprint': 4931, 'prolli': 4110, 'gower': 2162, 'chik': 904, 'filth': 1846, 'saristar': 4487, 'yt': 6083, 'wire': 5893, 'mobcudb': 3300, 'sabarish': 4446, 'jaya': 2669, 'inperson': 2574, 'flea': 1886, 'banneduk': 429, 'highest': 2350, 'maximum': 3171, 'taj': 5167, 'lesser': 2922, 'known': 2821, 'mumtaz': 3395, 'shahjahan': 4609, 'hari': 2280, 'rtf': 4422, 'sphost': 4892, 'webadr': 5797, 'gete': 2076, 'incred': 2544, 'fwd': 2018, 'passport': 3809, 'multipli': 3390, 'twin': 5518, 'strt': 5033, 'ltdhelpdesk': 3051, 'equal': 1646, 'unev': 5573, 'peski': 3872, 'cyclist': 1219, 'adi': 63, 'entey': 1632, 'nattil': 3443, 'kittum': 2813, 'kavalan': 2770, 'hire': 2358, 'hitman': 2362, 'cp': 1136, 'outag': 3724, 'conserv': 1077, 'epi': 1643, 'bhaskar': 536, 'dubsack': 1507, 'gong': 2133, 'kaypoh': 2772, 'basketbal': 446, 'outdoor': 3726, 'macho': 3087, 'interfu': 2594, 'hustl': 2464, 'forth': 1941, 'audit': 352, 'harlem': 2282, 'workout': 5947, 'zac': 6093, 'hui': 2448, 'xin': 6006, 'lib': 2930, 'underdtand': 5566, 'muchxxlov': 3383, 'locaxx': 2988, 'skateboard': 4731, 'despit': 1330, 'thrown': 5331, 'bandag': 423, 'html': 2438, 'mfl': 3227, 'upstair': 5612, 'hectic': 2320, 'fell': 1816, 'swoop': 5146, 'wamma': 5758, 'doggin': 1434, 'langport': 2859, 'virtual': 5707, 'senthil': 4578, 'apnt': 239, 'pant': 3776, 'lanka': 2861, 'mere': 3217, 'relationship': 4301, 'wherevr': 5852, 'forevr': 1930, 'gudnyt': 2218, 'plum': 3946, 'smack': 4770, 'alot': 155, 'promot': 4115, 'vega': 5669, 'lou': 3027, 'lancast': 2853, 'neway': 3493, 'soc': 4808, 'bsn': 702, 'lobbi': 2985, 'ything': 6084, 'vewi': 5680, 'lubli': 3053, 'specifi': 4884, 'domain': 1444, 'nusstu': 3595, 'bari': 436, 'hudgi': 2443, 'yorg': 6067, 'pataistha': 3812, 'ertini': 1656, 'hasbro': 2284, 'jump': 2736, 'hoop': 2403, 'ummifi': 5551, 'associ': 323, 'rip': 4383, 'uteru': 5641, 'pool': 3984, 'jacuzzi': 2651, 'txtstar': 5527, 'uve': 5646, 'wildest': 5877, 'aldrin': 133, 'rtm': 4423, 'sourc': 4862, 'neces': 3459, 'witout': 5907, 'wth': 5986, 'esp': 1664, 'wrd': 5968, 'wthout': 5987, 'takecar': 5170, 'univ': 5584, 'raja': 4205, 'burrito': 734, 'terrorist': 5248, 'confirmd': 1069, 'cnn': 989, 'ibn': 2477, 'stitch': 4995, 'trouser': 5482, 'cheeto': 888, 'sync': 5152, 'shangela': 4616, 'hppnss': 2434, 'goodfriend': 2136, 'loung': 3029, 'poo': 3981, 'gloucesterroad': 2110, 'uup': 5644, 'ouch': 3721, 'glo': 2106, 'wlcome': 5916, 'eaten': 1546, 'timi': 5354, 'mila': 3238, 'blond': 582, 'mtalk': 3374, 'pp': 4016, 'increment': 2545, 'fishrman': 1869, 'stone': 5001, 'strtd': 5034, 'throwin': 5330, 'atlast': 336, 'mobstorequiz': 3308, 'physic': 3897, 'praveesh': 4040, 'delici': 1299, 'salad': 4460, 'desert': 1323, 'whore': 5861, 'funk': 2011, 'twink': 5519, 'scalli': 4504, 'skin': 4735, 'jock': 2704, 'nat': 3438, 'flood': 1896, 'bead': 474, 'wishlist': 5898, 'section': 4546, 'comfort': 1025, 'sold': 4818, 'reffer': 4283, 'geti': 2078, 'weirdi': 5816, 'funer': 2010, 'vivek': 5715, 'brah': 645, 'greec': 2190, 'protect': 4128, 'sib': 4688, 'sensit': 4575, 'someday': 4822, 'grandfath': 2173, 'blu': 589, 'concert': 1060, 'novemb': 3575, 'yuou': 6090, 'spot': 4924, 'bunch': 725, 'lotto': 3025, 'authoris': 360, 'gimmi': 2093, 'goss': 2149, 'ystrday': 6082, 'chile': 910, 'sublet': 5053, 'amma': 178, 'steer': 4979, 'rounder': 4410, 'lambu': 2851, 'ji': 2695, 'batchlor': 450, 'zoom': 6104, 'cncl': 987, 'stopc': 5006, 'chees': 886, 'pink': 3914, 'widel': 5869, 'index': 2548, 'wml': 5918, 'ecef': 1550, 'ff': 1824, 'jul': 2731, 'xafter': 5999, 'cst': 1177, 'pure': 4153, 'gail': 2023, 'tr': 5444, 'yaxxx': 6037, 'theoret': 5285, 'multimedia': 3389, 'hsbc': 2437, 'agenc': 99, 'nicki': 3510, 'gumbi': 2225, 'alto': 163, 'asp': 317, 'tarpon': 5188, 'cab': 752, 'step': 4980, 'limit': 2951, 'hf': 2343, 'radiat': 4195, 'proper': 4122, 'tongu': 5410, 'qi': 4170, 'suddenli': 5066, 'flurri': 1904, 'melt': 3206, 'eek': 1566, 'pushbutton': 4158, 'dontcha': 1449, 'babygoodby': 396, 'golddigg': 2126, 'webeburnin': 5798, 'nigh': 3513, 'nooooooo': 3549, 'cabl': 754, 'so': 4807, 'playin': 3935, 'guoyang': 2226, 'rahul': 4199, 'dengra': 1309, 'antelop': 217, 'toplay': 5423, 'fieldof': 1833, 'selfindepend': 4560, 'gnarl': 2114, 'barkley': 437, 'borderlin': 621, 'nightnight': 3516, 'groov': 2198, 'mise': 3264, 'secur': 4547, 'unsecur': 5597, 'lanr': 2862, 'fakey': 1770, 'eckankar': 1552, 'heater': 2316, 'dodgey': 1427, 'asssssholeee': 324, 'ceri': 843, 'rebel': 4255, 'dreamz': 1480, 'nationwid': 3442, 'newport': 3495, 'juliana': 2734, 'nacho': 3419, 'eta': 1671, 'dizzamn': 1413, 'suitem': 5076, 'nimbomson': 3521, 'contin': 1086, 'housew': 2425, 'fiend': 1834, 'imped': 2523, 'thousad': 5320, 'nose': 3559, 'essay': 1667, 'tram': 5452, 'vic': 5684, 'coher': 1004, 'tripl': 5475, 'echo': 1551, 'gran': 2171, 'onlyfound': 3669, 'afew': 83, 'cusoon': 1204, 'honi': 2397, 'dial': 1349, 'univers': 5585, 'southern': 4864, 'california': 762, 'rayan': 4230, 'macleran': 3089, 'ball': 416, 'olav': 3652, 'mandara': 3125, 'trishul': 5476, 'woo': 5934, 'hoo': 2399, 'panti': 3778, 'thout': 5322, 'flatter': 1884, 'pint': 3915, 'carlin': 805, 'liter': 2970, 'ciao': 940, 'wknd': 5915, 'yalrigu': 6028, 'heltini': 2333, 'iyo': 2642, 'kothi': 2832, 'noic': 3537, 'esaplanad': 1659, 'prof': 4102, 'sem': 4564, 'enna': 1626, 'kalaachutaarama': 2754, 'coco': 1001, 'sporad': 4920, 'persolvo': 3865, 'kath': 2769, 'manchest': 3122, 'burden': 728, 'noworriesloan': 3578, 'harder': 2277, 'nbme': 3451, 'villa': 5697, 'sathya': 4492, 'gam': 2028, 'tip': 5356, 'muhommad': 3386, 'penni': 3847, 'fite': 1871, 'mj': 3284, 'unconvinc': 5563, 'willpow': 5880, 'absenc': 17, 'answerin': 216, 'evey': 1698, 'mnth': 3296, 'prin': 4077, 'gsoh': 2208, 'spam': 4873, 'gigolo': 2091, 'oncal': 3663, 'mjzgroup': 3285, 'ashwini': 309, 'ukp': 5546, 'thet': 5292, 'skinni': 4736, 'elect': 1588, 'hlday': 2367, 'camp': 777, 'amrca': 186, 'serena': 4582, 'prescrib': 4054, 'kappa': 2763, 'meatbal': 3189, 'approv': 259, 'panalam': 3769, 'spjanuari': 4903, 'fortun': 1942, 'allday': 149, 'perf': 3852, 'familiar': 1777, 'infact': 2555, 'simpson': 4707, 'band': 422, 'shite': 4646, 'kip': 2808, 'hont': 2398, 'amanda': 169, 'subject': 5052, 'perspect': 3867, 'debat': 1268, 'wtlp': 5988, 'flake': 1879, 'jb': 2673, 'florida': 1899, 'hidden': 2347, 'royal': 4414, 'tog': 5387, 'swhrt': 5139, 'ez': 1751, 'cmon': 985, 'sticki': 4990, 'lunsford': 3063, 'prizeawait': 4090, 'kfc': 2788, 'gravi': 2182, 'mw': 3410, 'tuth': 5510, 'evict': 1699, 'spiral': 4900, 'michael': 3231, 'riddanc': 4371, 'raglan': 4198, 'edward': 1564, 'closebi': 972, 'skye': 4741, 'bookedth': 614, 'hut': 2465, 'drastic': 1476, 'indic': 2551, 'garment': 2040, 'sez': 4600, 'arab': 270, 'evri': 1707, 'eshxxxxxxxxxxx': 1663, 'bimbo': 549, 'ugo': 5540, 'porteg': 3995, 'semiobscur': 4567, 'gpr': 2163, 'repeat': 4323, 'loosu': 3014, 'careless': 803, 'myspac': 3416, 'method': 3225, 'blur': 594, 'jewelri': 2692, 'breaker': 660, 'delux': 1304, 'featur': 1806, 'graphic': 2177, 'bbdelux': 462, 'lush': 3064, 'fumbl': 2005, 'taunton': 5195, 'weekday': 5808, 'haiz': 2248, 'nail': 3424, 'greatest': 2188, 'courag': 1127, 'defeat': 1287, 'stil': 4992, 'tobe': 5382, 'natalja': 3440, 'asthma': 327, 'attack': 341, 'spin': 4898, 'haiyoh': 2247, 'prsn': 4133, 'sunlight': 5086, 'loss': 3019, 'audiit': 351, 'reloc': 4306, 'pock': 3960, 'brison': 680, 'cap': 791, 'bullshit': 723, 'motherfuck': 3348, 'kit': 2811, 'ig': 2500, 'oja': 3642, 'thesmszon': 5291, 'anonym': 211, 'mask': 3153, 'woodland': 5936, 'avenu': 373, 'parish': 3794, 'magazin': 3098, 'billi': 546, 'awww': 384, 'useless': 5633, 'loo': 3006, 'ed': 1555, 'shelf': 4629, 'swollen': 5145, 'gland': 2103, 'previou': 4071, 'bcaz': 465, 'cann': 786, 'stu': 5036, 'trubl': 5483, 'evon': 1704, 'bck': 466, 'mokka': 3316, 'view': 5692, 'dual': 1505, 'hostil': 2416, 'haircut': 2245, 'breezi': 666, 'polyh': 3976, 'tulsi': 5504, 'leaf': 2898, 'lemon': 2916, 'bone': 608, 'problm': 4097, 'litr': 2971, 'watr': 5782, 'diseas': 1399, 'snd': 4796, 'lavend': 2884, 'manki': 3132, 'scous': 4522, 'steve': 4985, 'inmind': 2568, 'recreat': 4274, 'epsilon': 1645, 'judgement': 2729, 'waheeda': 5742, 'bot': 628, 'eventu': 1686, 'toler': 5397, 'hellogorg': 2329, 'lst': 3048, 'nitw': 3529, 'texd': 5254, 'hopeu': 2406, 'ward': 5765, 'jaz': 2671, 'exorc': 1728, 'emili': 1605, 'emot': 1606, 'dsn': 1503, 'prayr': 4043, 'othrwis': 3718, 'ujhhhhhhh': 5544, 'sandiago': 4472, 'parantella': 3789, 'sweater': 5132, 'mango': 3129, 'massiv': 3155, 'landmark': 2857, 'bob': 600, 'barri': 441, 'absolutli': 19, 'consent': 1076, 'tonex': 5408, 'clubz': 981, 'polo': 3974, 'mathew': 3163, 'tait': 5166, 'anderson': 195, 'haunt': 2291, 'crowd': 1165, 'snowboard': 4804, 'christmassi': 936, 'recpt': 4273, 'baaaaaaaab': 392, 'shola': 4656, 'academ': 26, 'sagamu': 4456, 'lautech': 2883, 'vital': 5712, 'zealand': 6095, 'qet': 4168, 'browser': 696, 'convers': 1092, 'overemphasis': 3741, 'headset': 2306, 'adp': 71, 'intern': 2595, 'extract': 1747, 'skint': 4737, 'bevi': 528, 'waz': 5788, 'othr': 3717, 'watchng': 5777, 'comfey': 1024, 'wudn': 5991, 'coast': 993, 'frequent': 1971, 'cupboard': 1197, 'rout': 4411, 'mro': 3364, 'floppi': 1898, 'snappi': 4794, 'grasp': 2178, 'flavour': 1885, 'lareadi': 2868, 'deni': 1310, 'dom': 1443, 'ffffuuuuuuu': 1828, 'julianaland': 2735, 'oblivi': 3615, 'mapquest': 3135, 'dogwood': 1435, 'archiv': 273, 'mg': 3228, 'behalf': 498, 'stun': 5047, 'visa': 5708, 'gucci': 2214, 'sozi': 4867, 'culdnt': 1192, 'talkbut': 5175, 'wannatel': 5761, 'wenwecan': 5827, 'smsing': 4787, 'effici': 1569, 'explicit': 1739, 'erutupalam': 1658, 'thandiyachu': 5267, 'invent': 2604, 'lyric': 3075, 'nevr': 3491, 'unrecogn': 5595, 'somon': 4836, 'definitli': 1291, 'undrstnd': 5570, 'ger': 2073, 'toke': 5392, 'syd': 5149, 'khelat': 2790, 'kintu': 2806, 'opponent': 3684, 'dhort': 1347, 'lage': 2847, 'looovvv': 3012, 'warwick': 5770, 'tmw': 5377, 'havn': 2297, 'parad': 3785, 'proze': 4132, 'norcorp': 3553, 'cfca': 846, 'grumbl': 2205, 'linear': 2955, 'algebra': 140, 'decor': 1278, 'roomat': 4405, 'graduat': 2168, 'adjust': 64, 'cooper': 1100, 'nottingham': 3571, 'mph': 3359, 'clearli': 964, 'mornin': 3338, 'thanku': 5271, 'string': 5027, 'ea': 1530, 'otbox': 3714, 'ws': 5982, 'besid': 518, 'brisk': 679, 'sexiest': 4596, 'dirtiest': 1388, 'tellmiss': 5226, 'contribut': 1089, 'greatli': 2189, 'urgh': 5620, 'coach': 992, 'duvet': 1524, 'utxt': 5643, 'url': 5624, 'beverag': 527, 'pist': 3918, 'surrend': 5113, 'symptom': 5151, 'rdi': 4238, 'backward': 402, 'abstract': 20, 'africa': 90, 'avin': 374, 'chit': 922, 'logon': 2995, 'zf': 6099, 'quiteamuz': 4186, 'scool': 4516, 'ppmmobilesvari': 4021, 'fixd': 1874, 'chapter': 861, 'common': 1032, 'chop': 928, 'noooooooo': 3550, 'firsg': 1865, 'split': 4910, 'wasnt': 5772, 'heat': 2315, 'sumf': 5079, 'txtstop': 5528, 'hiphop': 2357, 'oxygen': 3751, 'resort': 4342, 'roller': 4400, 'cannam': 787, 'capit': 793, 'australia': 359, 'mquiz': 3360, 'showr': 4674, 'upon': 5610, 'ceil': 834, 'presnt': 4061, 'bcz': 471, 'jeevithathil': 2679, 'irulina': 2622, 'neekunna': 3470, 'prakasamanu': 4034, 'sneham': 4797, 'prakasam': 4033, 'ennal': 1627, 'mn': 3295, 'firmwar': 1864, 'vijaykanth': 5694, 'anythi': 228, 'clubmobi': 979, 'keypad': 2786, 'btwn': 707, 'decad': 1270, 'gover': 2160, 'loyal': 3044, 'spice': 4894, 'prasanth': 4038, 'ettan': 1675, 'appi': 249, 'fizz': 1876, 'contain': 1084, 'genu': 2068, 'robinson': 4392, 'out': 3723, 'soz': 4866, 'imat': 2514, 'born': 624, 'sometext': 4827, 'chloe': 924, 'wewa': 5839, 'iriv': 2619, 'bw': 748, 'surli': 5110, 'dokey': 1440, 'mmmmmmm': 3293, 'snuggl': 4806, 'whisper': 5856, 'healthi': 2309, 'giv': 2099, 'scrape': 4523, 'barrel': 440, 'misfit': 3266, 'sleepin': 4750, 'clearer': 963, 'peach': 3835, 'rayman': 4231, 'golf': 2129, 'termsappli': 5242, 'minor': 3257, 'shindig': 4640, 'indyarock': 2553, 'phonebook': 3890, 'ash': 307, 'shijutta': 4638, 'offens': 3628, 'dvg': 1526, 'vinobanagar': 5699, 'woah': 5923, 'orh': 3705, 'axel': 386, 'akon': 126, 'cashbin': 816, 'canteen': 790, 'stressful': 5022, 'presid': 4059, 'assist': 322, 'when': 5847, 'watev': 5780, 'built': 720, 'lonlin': 3005, 'lotz': 3026, 'gailxx': 2024, 'complac': 1042, 'mina': 3245, 'miwa': 3282, 'woulda': 5961, 'opposit': 3687, 'heavili': 2319, 'patrick': 3817, 'swayz': 5130, 'santa': 4477, 'santacal': 4478, 'miser': 3265, 'quarter': 4177, 'limp': 2952, 'aa': 0, 'oga': 3636, 'poorli': 3987, 'brb': 655, 'smaller': 4772, 'capac': 792, 'shsex': 4680, 'netun': 3485, 'fgkslpopw': 1830, 'fgkslpo': 1829, 'defer': 1288, 'admiss': 68, 'checkmat': 881, 'chess': 894, 'persian': 3864, 'phrase': 3895, 'shah': 4608, 'maat': 3080, 'rat': 4223, 'photoshop': 3893, 'shoppin': 4659, 'increas': 2543, 'north': 3557, 'carolina': 808, 'texa': 5253, 'gre': 2186, 'bomb': 607, 'weapon': 5792, 'lovli': 3040, 'customercar': 1208, 'cla': 948, 'lit': 2969, 'loooooool': 3011, 'couch': 1116, 'swashbuckl': 5126, 'terror': 5247, 'cruel': 1169, 'decent': 1272, 'dip': 1381, 'gek': 2059, 'nuther': 3596, 'lyricalladi': 3076, 'hmmross': 2374, 'happiest': 2273, 'antibiot': 221, 'abdomen': 6, 'gyna': 2234, 'infect': 2556, 'chastiti': 870, 'devic': 1339, 'beat': 476, 'gut': 2228, 'tallahasse': 5178, 'ou': 3720, 'taka': 5168, 'nr': 3579, 'zs': 6106, 'ritten': 4386, 'fold': 1911, 'warner': 5768, 'colin': 1011, 'farrel': 1785, 'swat': 5127, 'kiosk': 2807, 'mre': 3362, 'solihul': 4819, 'nh': 3502, 'termin': 5241, 'inconveni': 2541, 'henri': 2336, 'yard': 6034, 'bergkamp': 517, 'margin': 3140, 'snot': 4801, 'unintent': 5581, 'nonetheless': 3546, 'hooch': 2400, 'toaday': 5380, 'splat': 4908, 'graze': 2185, 'hearin': 2313, 'yah': 6026, 'tortur': 5429, 'sexychat': 4599, 'court': 1129, 'chapel': 860, 'frontiervil': 1992, 'mountain': 3352, 'deer': 1284, 'varma': 5661, 'fart': 1786, 'ortxt': 3709, 'advisor': 80, 'diall': 1350, 'woot': 5938, 'ahhhh': 108, 'experiencehttp': 1734, 'vouch': 5727, 'etlp': 1674, 'kaila': 2752, 'donat': 1445, 'unicef': 5579, 'asian': 310, 'fund': 2008, 'cme': 984, 'collaps': 1013, 'jade': 2653, 'paul': 3820, 'barm': 438, 'thinkthi': 5303, 'goldvik': 2128, 'coulda': 1120, 'phoni': 3891, 'okday': 3645, 'hmph': 2375, 'baller': 417, 'punto': 4149, 'ayo': 390, 'freeentri': 1962, 'xt': 6010, 'clover': 977, 'achan': 41, 'rencontr': 4317, 'te': 5206, 'puppi': 4150, 'nois': 3538, 'sarasota': 4483, 'meg': 3197, 'deepest': 1283, 'darkest': 1242, 'adsens': 74, 'dudett': 1511, 'perumbavoor': 3869, 'stage': 4949, 'cherish': 892, 'clarifi': 953, 'prepon': 4053, 'natali': 3439, 'younger': 6071, 'wallpap': 5755, 'liver': 2974, 'loneli': 3002, 'skyve': 4743, 'onword': 3673, 'mtnl': 3378, 'mumbai': 3392, 'accommodationvouch': 34, 'mustprovid': 3407, 'perweeksub': 3870, 'slp': 4767, 'muah': 3380, 'disagre': 1389, 'afterward': 95, 'uawak': 5535, 'feellikw': 1814, 'justfound': 2743, 'alett': 136, 'thatmum': 5276, 'gotmarri': 2156, 'thnov': 5312, 'ourback': 3722, 'fuckinnic': 1997, 'rearrang': 4252, 'dormitori': 1455, 'astronom': 330, 'starer': 4959, 'recount': 4271, 'hitler': 2361, 'eleven': 1591, 'worm': 5949, 'dysentri': 1529, 'andr': 196, 'virgil': 5705, 'gokila': 2124, 'shanil': 4618, 'exchang': 1716, 'uncut': 5565, 'dino': 1379, 'kote': 2831, 'panther': 3777, 'sugabab': 5070, 'zebra': 6096, 'badass': 404, 'hoodi': 2401, 'resent': 4335, 'queri': 4180, 'customersqueri': 1209, 'netvis': 3486, 'hassl': 2286, 'haughaighgtujhyguj': 2289, 'fassyol': 1787, 'blacko': 566, 'londn': 2999, 'eva': 1679, 'vco': 5667, 'reassur': 4254, 'aslamalaikkum': 315, 'tohar': 5389, 'beeen': 487, 'muht': 3387, 'albi': 130, 'mufti': 3385, 'mahfuuz': 3105, 'enufcredeit': 1638, 'tocal': 5383, 'ileav': 2508, 'okor': 3650, 'ibor': 2478, 'zero': 6098, 'goigng': 2122, 'perfum': 3855, 'sday': 4533, 'grocer': 2197, 'franki': 1954, 'benni': 516, 'diaper': 1353, 'unlik': 5590, 'patient': 3816, 'turkey': 5508, 'bulb': 721, 'seed': 4550, 'scotsman': 4521, 'notxt': 3572, 'wenev': 5825, 'stabil': 4946, 'tranquil': 5453, 'vibrant': 5682, 'bawl': 457, 'failur': 1765, 'boyfriend': 640, 'velusami': 5675, 'facil': 1757, 'karnan': 2765, 'bluray': 595, 'salt': 4467, 'wound': 5962, 'geoenvironment': 2070, 'implic': 2524, 'fuuuuck': 2017, 'salmon': 4465, 'wrkin': 5975, 'ree': 4279, 'compens': 1040, 'awkward': 382, 'splash': 4906, 'musta': 3405, 'overdid': 3739, 'telediscount': 5221, 'gastroenter': 2041, 'reduc': 4278, 'chuck': 937, 'port': 3993, 'juswok': 2745, 'boatin': 599, 'spinout': 4899, 'uworld': 5647, 'qbank': 4167, 'assess': 320, 'someonon': 4824, 'ch': 847, 'tke': 5366, 'temal': 5229, 'finishd': 1858, 'dull': 1513, 'treadmil': 5464, 'craigslist': 1140, 'absolut': 18, 'swan': 5123, 'lamp': 2852, 'foward': 1948, 'misundrstud': 3278, 'gene': 2061, 'reappli': 4251, 'treatin': 5467, 'treacl': 5463, 'mumha': 3393, 'beendrop': 489, 'theplac': 5287, 'adress': 72, 'favorit': 1800, 'oyster': 3753, 'sashimi': 4489, 'rumbl': 4433, 'marandratha': 3137, 'correctli': 1109, 'alaikkum': 128, 'pride': 4075, 'heaven': 2317, 'pisc': 3916, 'aquariu': 268, 'steyn': 4987, 'wicket': 5866, 'sterm': 4984, 'resolv': 4341, 'jam': 2655, 'hannaford': 2265, 'wheat': 5844, 'chex': 896, 'jerk': 2686, 'stink': 4994, 'subsequ': 5060, 'upcharg': 5604, 'guai': 2212, 'bottl': 630, 'amus': 189, 'slack': 4745, 'mentor': 3214, 'erot': 1653, 'ecstaci': 1553, 'dept': 1317, 'coincid': 1007, 'sane': 4473, 'paus': 3821, 'psp': 4136, 'spacebuck': 4870, 'squeez': 4937, 'dread': 1478, 'thou': 5317, 'forgt': 1937, 'ajith': 123, 'ooooooh': 3677, 'yovil': 6078, 'asda': 306, 'bff': 532, 'brolli': 689, 'franxx': 1955, 'prometazin': 4111, 'syrup': 5154, 'shu': 4681, 'singapor': 4713, 'victoria': 5686, 'pocay': 3958, 'wocay': 5924, 'morrowxxxx': 3344, 'broth': 690, 'ramen': 4214, 'flew': 1887, 'attent': 345, 'tix': 5364, 'fne': 1909, 'youdo': 6068, 'worc': 5941, 'foreg': 1927, 'shrub': 4679, 'legitimat': 2911, 'efreefon': 1570, 'pendent': 3845, 'toilet': 5390, 'stolen': 4998, 'cop': 1101, 'hu': 2440, 'navig': 3449, 'guidanc': 2222, 'chick': 901, 'boob': 612, 'sparkl': 4877, 'shortbreak': 4664, 'org': 3703, 'gamb': 2029, 'treasur': 5465, 'neg': 3472, 'hmmmm': 2373, 'command': 1028, 'holbi': 2381, 'li': 2928, 'yeovil': 6048, 'motor': 3350, 'rhode': 4367, 'bong': 609, 'ofcours': 3625, 'planettalkinst': 3930, 'marvel': 3152, 'spider': 4895, 'tamilnadu': 5180, 'identif': 2491, 'boundari': 633, 'endless': 1613, 'young': 6070, 'referin': 4282, 'saibaba': 4457, 'colani': 1009, 'chic': 900, 'declar': 1277, 'disappoint': 1391, 'tantrum': 5183, 'compliment': 1048, 'chief': 903, 'gsex': 2207, 'chatlin': 872, 'inclu': 2536, 'bailiff': 410, 'mous': 3353, 'desk': 1327, 'childporn': 908, 'jumper': 2737, 'hat': 2287, 'belt': 511, 'cribb': 1158, 'spiritu': 4902, 'sudden': 5065, 'influx': 2558, 'kane': 2760, 'shud': 4682, 'pshew': 4135, 'dump': 1515, 'heap': 2310, 'salesman': 4464, 'piti': 3919}\n"
     ]
    }
   ],
   "source": [
    "print('vocabulary :',vocab)"
   ]
  },
  {
   "cell_type": "code",
   "execution_count": 43,
   "metadata": {},
   "outputs": [],
   "source": [
    "cvdf=cvdf.transform(x).toarray()"
   ]
  },
  {
   "cell_type": "code",
   "execution_count": 44,
   "metadata": {},
   "outputs": [
    {
     "data": {
      "text/plain": [
       "array([[0, 0, 0, ..., 0, 0, 0],\n",
       "       [0, 0, 0, ..., 0, 0, 0],\n",
       "       [0, 0, 0, ..., 0, 0, 0],\n",
       "       ...,\n",
       "       [0, 0, 0, ..., 0, 0, 0],\n",
       "       [0, 0, 0, ..., 0, 0, 0],\n",
       "       [0, 0, 0, ..., 0, 0, 0]])"
      ]
     },
     "execution_count": 44,
     "metadata": {},
     "output_type": "execute_result"
    }
   ],
   "source": [
    "cvdf"
   ]
  },
  {
   "cell_type": "markdown",
   "metadata": {},
   "source": [
    "# Split the data into train and test"
   ]
  },
  {
   "cell_type": "code",
   "execution_count": 231,
   "metadata": {},
   "outputs": [],
   "source": [
    "x_train,x_test,y_train,y_test=train_test_split(cvdf,y,test_size=0.2,random_state=100)"
   ]
  },
  {
   "cell_type": "markdown",
   "metadata": {},
   "source": [
    "# Model Building"
   ]
  },
  {
   "cell_type": "markdown",
   "metadata": {},
   "source": [
    "# Naive bayes"
   ]
  },
  {
   "cell_type": "code",
   "execution_count": 232,
   "metadata": {},
   "outputs": [],
   "source": [
    "model_naive=MultinomialNB().fit(x_train,y_train)"
   ]
  },
  {
   "cell_type": "code",
   "execution_count": 233,
   "metadata": {},
   "outputs": [],
   "source": [
    "# predict\n",
    "p_naive=model_naive.predict(x_test)"
   ]
  },
  {
   "cell_type": "code",
   "execution_count": 52,
   "metadata": {},
   "outputs": [
    {
     "name": "stdout",
     "output_type": "stream",
     "text": [
      "pred    ham  spam   All\n",
      "actual                 \n",
      "ham     960    16   976\n",
      "spam      8   131   139\n",
      "All     968   147  1115\n",
      "              precision    recall  f1-score   support\n",
      "\n",
      "         ham       0.99      0.98      0.99       976\n",
      "        spam       0.89      0.94      0.92       139\n",
      "\n",
      "    accuracy                           0.98      1115\n",
      "   macro avg       0.94      0.96      0.95      1115\n",
      "weighted avg       0.98      0.98      0.98      1115\n",
      "\n",
      "model accuracy =0.97847533632287\n"
     ]
    }
   ],
   "source": [
    "#confusion matrix ans classification report\n",
    "df=pd.DataFrame({'actual':y_test,'pred':p_naive})\n",
    "print(pd.crosstab(df.actual,df.pred,margins=True))\n",
    "print(classification_report(y_test,p_naive))\n",
    "print('model accuracy ={}'.format(accuracy_score(y_test,p_naive)))"
   ]
  },
  {
   "cell_type": "code",
   "execution_count": 237,
   "metadata": {},
   "outputs": [],
   "source": [
    "precision_naive=precision_score(y_test,p_naive,average=\"binary\", pos_label=\"spam\")*100"
   ]
  },
  {
   "cell_type": "code",
   "execution_count": 238,
   "metadata": {},
   "outputs": [
    {
     "data": {
      "text/plain": [
       "89.1156462585034"
      ]
     },
     "execution_count": 238,
     "metadata": {},
     "output_type": "execute_result"
    }
   ],
   "source": [
    "precision_naive"
   ]
  },
  {
   "cell_type": "code",
   "execution_count": 239,
   "metadata": {},
   "outputs": [],
   "source": [
    "accurcy_naive=accuracy_score(y_test,p_naive)*100"
   ]
  },
  {
   "cell_type": "code",
   "execution_count": 240,
   "metadata": {},
   "outputs": [
    {
     "data": {
      "text/plain": [
       "97.847533632287"
      ]
     },
     "execution_count": 240,
     "metadata": {},
     "output_type": "execute_result"
    }
   ],
   "source": [
    "accurcy_naive"
   ]
  },
  {
   "cell_type": "markdown",
   "metadata": {},
   "source": [
    "# KNN"
   ]
  },
  {
   "cell_type": "code",
   "execution_count": 241,
   "metadata": {},
   "outputs": [
    {
     "name": "stdout",
     "output_type": "stream",
     "text": [
      "[0.9230251346499103, 0.9088868940754039, 0.8999102333931777, 0.8898114901256733, 0.882854578096948]\n"
     ]
    }
   ],
   "source": [
    "# cross-validation to determine the best K\n",
    "cv_accuracy = []\n",
    "\n",
    "n_list = np.arange(3,12,2); n_list\n",
    "\n",
    "for n in n_list:\n",
    "    model = neighbors.KNeighborsClassifier(n_neighbors=n)\n",
    "    scores = cross_val_score(model,x_train,y_train,cv=4,scoring='accuracy')\n",
    "    cv_accuracy.append(scores.mean() )\n",
    "\n",
    "print(cv_accuracy)  "
   ]
  },
  {
   "cell_type": "code",
   "execution_count": 242,
   "metadata": {},
   "outputs": [
    {
     "name": "stdout",
     "output_type": "stream",
     "text": [
      "best K =  3\n"
     ]
    }
   ],
   "source": [
    "bestK = n_list[cv_accuracy.index(max(cv_accuracy))]\n",
    "print(\"best K = \", bestK)"
   ]
  },
  {
   "cell_type": "code",
   "execution_count": 243,
   "metadata": {},
   "outputs": [],
   "source": [
    "model_knn = neighbors.KNeighborsClassifier(n_neighbors=bestK,metric = \"manhattan\").fit(x_train,y_train)"
   ]
  },
  {
   "cell_type": "code",
   "execution_count": 244,
   "metadata": {},
   "outputs": [],
   "source": [
    "p_knn = model_knn.predict(x_test)"
   ]
  },
  {
   "cell_type": "code",
   "execution_count": 245,
   "metadata": {},
   "outputs": [
    {
     "name": "stdout",
     "output_type": "stream",
     "text": [
      "pred     ham  spam   All\n",
      "actual                  \n",
      "ham      975     1   976\n",
      "spam      68    71   139\n",
      "All     1043    72  1115\n",
      "              precision    recall  f1-score   support\n",
      "\n",
      "         ham       0.93      1.00      0.97       976\n",
      "        spam       0.99      0.51      0.67       139\n",
      "\n",
      "    accuracy                           0.94      1115\n",
      "   macro avg       0.96      0.75      0.82      1115\n",
      "weighted avg       0.94      0.94      0.93      1115\n",
      "\n",
      "model accuracy =0.9381165919282511\n"
     ]
    }
   ],
   "source": [
    "#confusion matrix ans classification report\n",
    "df=pd.DataFrame({'actual':y_test,'pred':p_knn})\n",
    "print(pd.crosstab(df.actual,df.pred,margins=True))\n",
    "print(classification_report(y_test,p_knn))\n",
    "print('model accuracy ={}'.format(accuracy_score(y_test,p_knn)))"
   ]
  },
  {
   "cell_type": "code",
   "execution_count": 62,
   "metadata": {},
   "outputs": [],
   "source": [
    "precision_knn=precision_score(y_test,p_knn,average=\"binary\", pos_label=\"spam\")*100"
   ]
  },
  {
   "cell_type": "code",
   "execution_count": 63,
   "metadata": {},
   "outputs": [
    {
     "data": {
      "text/plain": [
       "98.61111111111111"
      ]
     },
     "execution_count": 63,
     "metadata": {},
     "output_type": "execute_result"
    }
   ],
   "source": [
    "precision_knn"
   ]
  },
  {
   "cell_type": "code",
   "execution_count": 64,
   "metadata": {},
   "outputs": [],
   "source": [
    "accurcy_knn=accuracy_score(y_test,p_knn)*100"
   ]
  },
  {
   "cell_type": "code",
   "execution_count": 65,
   "metadata": {},
   "outputs": [
    {
     "data": {
      "text/plain": [
       "93.81165919282512"
      ]
     },
     "execution_count": 65,
     "metadata": {},
     "output_type": "execute_result"
    }
   ],
   "source": [
    "accurcy_knn"
   ]
  },
  {
   "cell_type": "markdown",
   "metadata": {},
   "source": [
    "# Random Forest"
   ]
  },
  {
   "cell_type": "code",
   "execution_count": 66,
   "metadata": {},
   "outputs": [],
   "source": [
    "model_rf=RandomForestClassifier(n_estimators=50,max_features=1,).fit(x_train,y_train)"
   ]
  },
  {
   "cell_type": "code",
   "execution_count": 67,
   "metadata": {},
   "outputs": [],
   "source": [
    "# predict\n",
    "p_rf=model_rf.predict(x_test)"
   ]
  },
  {
   "cell_type": "code",
   "execution_count": 68,
   "metadata": {},
   "outputs": [
    {
     "name": "stdout",
     "output_type": "stream",
     "text": [
      "pred     ham  spam   All\n",
      "actual                  \n",
      "ham      976     0   976\n",
      "spam      29   110   139\n",
      "All     1005   110  1115\n",
      "              precision    recall  f1-score   support\n",
      "\n",
      "         ham       0.97      1.00      0.99       976\n",
      "        spam       1.00      0.79      0.88       139\n",
      "\n",
      "    accuracy                           0.97      1115\n",
      "   macro avg       0.99      0.90      0.93      1115\n",
      "weighted avg       0.97      0.97      0.97      1115\n",
      "\n",
      "model accuracy =0.9739910313901345\n"
     ]
    }
   ],
   "source": [
    "#confusion matrix ans classification report\n",
    "df=pd.DataFrame({'actual':y_test,'pred':p_rf})\n",
    "print(pd.crosstab(df.actual,df.pred,margins=True))\n",
    "print(classification_report(y_test,p_rf))\n",
    "print('model accuracy ={}'.format(accuracy_score(y_test,p_rf)))"
   ]
  },
  {
   "cell_type": "code",
   "execution_count": 70,
   "metadata": {},
   "outputs": [],
   "source": [
    "precision_rf=precision_score(y_test,p_rf,average=\"binary\", pos_label=\"spam\")*100"
   ]
  },
  {
   "cell_type": "code",
   "execution_count": 71,
   "metadata": {},
   "outputs": [
    {
     "data": {
      "text/plain": [
       "100.0"
      ]
     },
     "execution_count": 71,
     "metadata": {},
     "output_type": "execute_result"
    }
   ],
   "source": [
    "precision_rf"
   ]
  },
  {
   "cell_type": "code",
   "execution_count": 72,
   "metadata": {},
   "outputs": [],
   "source": [
    "accurcy_rf=accuracy_score(y_test,p_rf)*100"
   ]
  },
  {
   "cell_type": "code",
   "execution_count": 73,
   "metadata": {},
   "outputs": [
    {
     "data": {
      "text/plain": [
       "97.39910313901345"
      ]
     },
     "execution_count": 73,
     "metadata": {},
     "output_type": "execute_result"
    }
   ],
   "source": [
    "accurcy_rf"
   ]
  },
  {
   "cell_type": "code",
   "execution_count": 74,
   "metadata": {},
   "outputs": [],
   "source": [
    "from sklearn.tree import DecisionTreeClassifier"
   ]
  },
  {
   "cell_type": "code",
   "execution_count": 75,
   "metadata": {},
   "outputs": [],
   "source": [
    "# create an instance of the decision tree classifier class\n",
    "dtclf=DecisionTreeClassifier()    "
   ]
  },
  {
   "cell_type": "code",
   "execution_count": 76,
   "metadata": {},
   "outputs": [],
   "source": [
    "params={'criterion':['gini','entropy'],\n",
    "       'max_depth':np.arange(2,4),\n",
    "       'min_samples_leaf':np.arange(2,4),\n",
    "       'min_samples_split':np.arange(2,4) }"
   ]
  },
  {
   "cell_type": "code",
   "execution_count": 77,
   "metadata": {},
   "outputs": [],
   "source": [
    "from sklearn.model_selection import GridSearchCV "
   ]
  },
  {
   "cell_type": "code",
   "execution_count": 78,
   "metadata": {},
   "outputs": [],
   "source": [
    "grid=GridSearchCV(dtclf,param_grid=params,scoring='accuracy',\n",
    "                  cv=3,n_jobs=-1).fit(x_train,y_train)"
   ]
  },
  {
   "cell_type": "code",
   "execution_count": 79,
   "metadata": {},
   "outputs": [
    {
     "data": {
      "text/plain": [
       "({'criterion': 'gini',\n",
       "  'max_depth': 3,\n",
       "  'min_samples_leaf': 2,\n",
       "  'min_samples_split': 2},\n",
       " 0.9216796346899532)"
      ]
     },
     "execution_count": 79,
     "metadata": {},
     "output_type": "execute_result"
    }
   ],
   "source": [
    "# check for the combination of param that give best accuracy\n",
    "grid.best_params_, grid.best_score_\n"
   ]
  },
  {
   "cell_type": "code",
   "execution_count": 81,
   "metadata": {},
   "outputs": [],
   "source": [
    "# build model using the grid search  result for best params\n",
    "model_dt=DecisionTreeClassifier(criterion='gini', max_depth=3,min_samples_leaf=2,min_samples_split=2).fit(x_train,y_train)"
   ]
  },
  {
   "cell_type": "code",
   "execution_count": 82,
   "metadata": {},
   "outputs": [],
   "source": [
    "# predict\n",
    "p_dt=model_dt.predict(x_test)"
   ]
  },
  {
   "cell_type": "code",
   "execution_count": 83,
   "metadata": {},
   "outputs": [
    {
     "name": "stdout",
     "output_type": "stream",
     "text": [
      "pred    ham  spam   All\n",
      "actual                 \n",
      "ham     924    52   976\n",
      "spam     39   100   139\n",
      "All     963   152  1115\n",
      "              precision    recall  f1-score   support\n",
      "\n",
      "         ham       0.96      0.95      0.95       976\n",
      "        spam       0.66      0.72      0.69       139\n",
      "\n",
      "    accuracy                           0.92      1115\n",
      "   macro avg       0.81      0.83      0.82      1115\n",
      "weighted avg       0.92      0.92      0.92      1115\n",
      "\n",
      "model accuracy =0.9183856502242153\n"
     ]
    }
   ],
   "source": [
    "#confusion matrix ans classification report\n",
    "df=pd.DataFrame({'actual':y_test,'pred':p_dt})\n",
    "print(pd.crosstab(df.actual,df.pred,margins=True))\n",
    "print(classification_report(y_test,p_dt))\n",
    "print('model accuracy ={}'.format(accuracy_score(y_test,p_dt)))"
   ]
  },
  {
   "cell_type": "code",
   "execution_count": 85,
   "metadata": {},
   "outputs": [],
   "source": [
    "precision_dt=precision_score(y_test,p_dt,average=\"binary\", pos_label=\"spam\")*100"
   ]
  },
  {
   "cell_type": "code",
   "execution_count": 267,
   "metadata": {},
   "outputs": [
    {
     "data": {
      "text/plain": [
       "65.78947368421053"
      ]
     },
     "execution_count": 267,
     "metadata": {},
     "output_type": "execute_result"
    }
   ],
   "source": [
    "precision_dt"
   ]
  },
  {
   "cell_type": "code",
   "execution_count": 87,
   "metadata": {},
   "outputs": [],
   "source": [
    "accurcy_dt=accuracy_score(y_test,p_dt)*100"
   ]
  },
  {
   "cell_type": "code",
   "execution_count": 88,
   "metadata": {},
   "outputs": [
    {
     "data": {
      "text/plain": [
       "91.83856502242152"
      ]
     },
     "execution_count": 88,
     "metadata": {},
     "output_type": "execute_result"
    }
   ],
   "source": [
    "accurcy_dt"
   ]
  },
  {
   "cell_type": "markdown",
   "metadata": {},
   "source": [
    "# Logistic Regression"
   ]
  },
  {
   "cell_type": "code",
   "execution_count": 89,
   "metadata": {},
   "outputs": [],
   "source": [
    "model_logr= LogisticRegression().fit(x_train,y_train)"
   ]
  },
  {
   "cell_type": "code",
   "execution_count": 90,
   "metadata": {},
   "outputs": [],
   "source": [
    "p5=model_logr.predict(x_test)"
   ]
  },
  {
   "cell_type": "code",
   "execution_count": 91,
   "metadata": {},
   "outputs": [
    {
     "name": "stdout",
     "output_type": "stream",
     "text": [
      "pred    ham  spam   All\n",
      "actual                 \n",
      "ham     975     1   976\n",
      "spam     14   125   139\n",
      "All     989   126  1115\n",
      "              precision    recall  f1-score   support\n",
      "\n",
      "         ham       0.99      1.00      0.99       976\n",
      "        spam       0.99      0.90      0.94       139\n",
      "\n",
      "    accuracy                           0.99      1115\n",
      "   macro avg       0.99      0.95      0.97      1115\n",
      "weighted avg       0.99      0.99      0.99      1115\n",
      "\n",
      "model accuracy =0.9865470852017937\n"
     ]
    }
   ],
   "source": [
    "#confusion matrix ans classification report\n",
    "df=pd.DataFrame({'actual':y_test,'pred':p5})\n",
    "print(pd.crosstab(df.actual,df.pred,margins=True))\n",
    "print(classification_report(y_test,p5))\n",
    "print('model accuracy ={}'.format(accuracy_score(y_test,p5)))"
   ]
  },
  {
   "cell_type": "code",
   "execution_count": 94,
   "metadata": {},
   "outputs": [],
   "source": [
    "precision_Logr=precision_score(y_test,p5,average=\"binary\", pos_label=\"spam\")*100"
   ]
  },
  {
   "cell_type": "code",
   "execution_count": 95,
   "metadata": {},
   "outputs": [
    {
     "data": {
      "text/plain": [
       "99.20634920634922"
      ]
     },
     "execution_count": 95,
     "metadata": {},
     "output_type": "execute_result"
    }
   ],
   "source": [
    "precision_Logr"
   ]
  },
  {
   "cell_type": "code",
   "execution_count": 96,
   "metadata": {},
   "outputs": [],
   "source": [
    "accurcy_logr=accuracy_score(y_test,p5)*100"
   ]
  },
  {
   "cell_type": "code",
   "execution_count": 97,
   "metadata": {},
   "outputs": [
    {
     "data": {
      "text/plain": [
       "98.65470852017937"
      ]
     },
     "execution_count": 97,
     "metadata": {},
     "output_type": "execute_result"
    }
   ],
   "source": [
    "accurcy_logr"
   ]
  },
  {
   "cell_type": "markdown",
   "metadata": {},
   "source": [
    "# Model building using TF-idf"
   ]
  },
  {
   "cell_type": "code",
   "execution_count": 289,
   "metadata": {},
   "outputs": [],
   "source": [
    "x=sms_clean['final_clean_text']\n",
    "y=sms_clean['label']"
   ]
  },
  {
   "cell_type": "code",
   "execution_count": 290,
   "metadata": {},
   "outputs": [],
   "source": [
    "tf_idf = TfidfVectorizer()"
   ]
  },
  {
   "cell_type": "code",
   "execution_count": 291,
   "metadata": {},
   "outputs": [],
   "source": [
    "X_tf = tf_idf.fit_transform(x).toarray()"
   ]
  },
  {
   "cell_type": "code",
   "execution_count": 292,
   "metadata": {},
   "outputs": [],
   "source": [
    "x1_train,x1_test,y1_train,y1_test=train_test_split(X_tf,y,test_size=0.2,random_state=121)"
   ]
  },
  {
   "cell_type": "code",
   "execution_count": 293,
   "metadata": {},
   "outputs": [],
   "source": [
    "model_tf_idf=MultinomialNB().fit(x1_train,y1_train)"
   ]
  },
  {
   "cell_type": "code",
   "execution_count": 294,
   "metadata": {},
   "outputs": [],
   "source": [
    "p_tf_idf=model_tf_idf.predict(x1_test)"
   ]
  },
  {
   "cell_type": "code",
   "execution_count": 295,
   "metadata": {},
   "outputs": [
    {
     "name": "stdout",
     "output_type": "stream",
     "text": [
      "pred     ham  spam   All\n",
      "actual                  \n",
      "ham      972     0   972\n",
      "spam      36   107   143\n",
      "All     1008   107  1115\n",
      "              precision    recall  f1-score   support\n",
      "\n",
      "         ham       0.96      1.00      0.98       972\n",
      "        spam       1.00      0.75      0.86       143\n",
      "\n",
      "    accuracy                           0.97      1115\n",
      "   macro avg       0.98      0.87      0.92      1115\n",
      "weighted avg       0.97      0.97      0.97      1115\n",
      "\n",
      "model accuracy =0.967713004484305\n"
     ]
    }
   ],
   "source": [
    "#confusion matrix ans classification report\n",
    "df=pd.DataFrame({'actual':y1_test,'pred':p_tf_idf})\n",
    "print(pd.crosstab(df.actual,df.pred,margins=True))\n",
    "print(classification_report(y1_test,p_tf_idf))\n",
    "print('model accuracy ={}'.format(accuracy_score(y1_test,p_tf_idf)))"
   ]
  },
  {
   "cell_type": "code",
   "execution_count": 296,
   "metadata": {},
   "outputs": [],
   "source": [
    "precision__tf_idf=precision_score(y_test,p_tf_idf,average=\"binary\", pos_label=\"spam\")*100"
   ]
  },
  {
   "cell_type": "code",
   "execution_count": 297,
   "metadata": {},
   "outputs": [
    {
     "data": {
      "text/plain": [
       "10.2803738317757"
      ]
     },
     "execution_count": 297,
     "metadata": {},
     "output_type": "execute_result"
    }
   ],
   "source": [
    "precision__tf_idf"
   ]
  },
  {
   "cell_type": "code",
   "execution_count": 298,
   "metadata": {},
   "outputs": [],
   "source": [
    "accurcy_tf_idf=accuracy_score(y_test,p_tf_idf)*100"
   ]
  },
  {
   "cell_type": "code",
   "execution_count": 299,
   "metadata": {},
   "outputs": [
    {
     "data": {
      "text/plain": [
       "79.91031390134529"
      ]
     },
     "execution_count": 299,
     "metadata": {},
     "output_type": "execute_result"
    }
   ],
   "source": [
    "accurcy_tf_idf"
   ]
  },
  {
   "cell_type": "markdown",
   "metadata": {},
   "source": [
    "# Model Performance Evaluation report"
   ]
  },
  {
   "cell_type": "code",
   "execution_count": 287,
   "metadata": {},
   "outputs": [],
   "source": [
    "sms_report=pd.DataFrame({'Algorithm':['DecisionTree','RandomForest','KNN','LogisticRegression','NaiveBayes','NaiveBayes_tfdf'],\n",
    "                                      'Accuracy_score':[accurcy_dt,accurcy_rf,accurcy_knn,accurcy_logr,accurcy_naive,accurcy_tf_idf],\n",
    "                                      'Precision_score':[precision_dt,precision_rf,precision_knn,precision_Logr,precision_naive,precision__tf_idf] })\n"
   ]
  },
  {
   "cell_type": "code",
   "execution_count": 288,
   "metadata": {},
   "outputs": [
    {
     "data": {
      "text/html": [
       "<div>\n",
       "<style scoped>\n",
       "    .dataframe tbody tr th:only-of-type {\n",
       "        vertical-align: middle;\n",
       "    }\n",
       "\n",
       "    .dataframe tbody tr th {\n",
       "        vertical-align: top;\n",
       "    }\n",
       "\n",
       "    .dataframe thead th {\n",
       "        text-align: right;\n",
       "    }\n",
       "</style>\n",
       "<table border=\"1\" class=\"dataframe\">\n",
       "  <thead>\n",
       "    <tr style=\"text-align: right;\">\n",
       "      <th></th>\n",
       "      <th>Algorithm</th>\n",
       "      <th>Accuracy_score</th>\n",
       "      <th>Precision_score</th>\n",
       "    </tr>\n",
       "  </thead>\n",
       "  <tbody>\n",
       "    <tr>\n",
       "      <th>0</th>\n",
       "      <td>DecisionTree</td>\n",
       "      <td>91.838565</td>\n",
       "      <td>65.789474</td>\n",
       "    </tr>\n",
       "    <tr>\n",
       "      <th>1</th>\n",
       "      <td>RandomForest</td>\n",
       "      <td>97.399103</td>\n",
       "      <td>100.000000</td>\n",
       "    </tr>\n",
       "    <tr>\n",
       "      <th>2</th>\n",
       "      <td>KNN</td>\n",
       "      <td>93.811659</td>\n",
       "      <td>98.611111</td>\n",
       "    </tr>\n",
       "    <tr>\n",
       "      <th>3</th>\n",
       "      <td>LogisticRegression</td>\n",
       "      <td>98.654709</td>\n",
       "      <td>99.206349</td>\n",
       "    </tr>\n",
       "    <tr>\n",
       "      <th>4</th>\n",
       "      <td>NaiveBayes</td>\n",
       "      <td>97.847534</td>\n",
       "      <td>89.115646</td>\n",
       "    </tr>\n",
       "    <tr>\n",
       "      <th>5</th>\n",
       "      <td>NaiveBayes_tfdf</td>\n",
       "      <td>79.910314</td>\n",
       "      <td>10.280374</td>\n",
       "    </tr>\n",
       "  </tbody>\n",
       "</table>\n",
       "</div>"
      ],
      "text/plain": [
       "            Algorithm  Accuracy_score  Precision_score\n",
       "0        DecisionTree       91.838565        65.789474\n",
       "1        RandomForest       97.399103       100.000000\n",
       "2                 KNN       93.811659        98.611111\n",
       "3  LogisticRegression       98.654709        99.206349\n",
       "4          NaiveBayes       97.847534        89.115646\n",
       "5     NaiveBayes_tfdf       79.910314        10.280374"
      ]
     },
     "execution_count": 288,
     "metadata": {},
     "output_type": "execute_result"
    }
   ],
   "source": [
    "sms_report"
   ]
  },
  {
   "cell_type": "markdown",
   "metadata": {},
   "source": [
    "# Conclusion"
   ]
  },
  {
   "cell_type": "raw",
   "metadata": {},
   "source": [
    "We could see accuracy of every algorithm we used,is very good but our dataset is imbalanced so we could not evaluate our model with accuracy score.We have chosen precision score for model evaluation because out dataset is sms detection where the cost of False positive(not spam predicted spam) is high. Therefore, Random Forest algorithm will we preferred."
   ]
  }
 ],
 "metadata": {
  "kernelspec": {
   "display_name": "Python 3",
   "language": "python",
   "name": "python3"
  },
  "language_info": {
   "codemirror_mode": {
    "name": "ipython",
    "version": 3
   },
   "file_extension": ".py",
   "mimetype": "text/x-python",
   "name": "python",
   "nbconvert_exporter": "python",
   "pygments_lexer": "ipython3",
   "version": "3.7.6"
  }
 },
 "nbformat": 4,
 "nbformat_minor": 4
}
